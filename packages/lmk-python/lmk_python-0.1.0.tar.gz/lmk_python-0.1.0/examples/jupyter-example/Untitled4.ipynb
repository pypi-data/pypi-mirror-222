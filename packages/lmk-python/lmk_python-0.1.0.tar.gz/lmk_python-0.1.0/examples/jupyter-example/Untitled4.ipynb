{
 "cells": [
  {
   "cell_type": "code",
   "execution_count": 1,
   "id": "ff0e805d-788e-4766-af9a-1c13b17acaf3",
   "metadata": {
    "tags": []
   },
   "outputs": [],
   "source": [
    "import lmk"
   ]
  },
  {
   "cell_type": "code",
   "execution_count": 2,
   "id": "62ec7dd7-7bb2-44e8-a221-3ee17de24580",
   "metadata": {
    "tags": []
   },
   "outputs": [
    {
     "data": {
      "application/vnd.jupyter.widget-view+json": {
       "model_id": "f12f90f266a242fab1a119bba72718b2",
       "version_major": 2,
       "version_minor": 0
      },
      "text/plain": [
       "LMKWidget()"
      ]
     },
     "metadata": {},
     "output_type": "display_data"
    }
   ],
   "source": [
    "lmk.jupyter"
   ]
  },
  {
   "cell_type": "code",
   "execution_count": 3,
   "id": "cb9c106c-1711-4c7b-95c8-795239f0cbcc",
   "metadata": {},
   "outputs": [],
   "source": [
    "from IPython import get_ipython"
   ]
  },
  {
   "cell_type": "code",
   "execution_count": 6,
   "id": "e214d2e8-e74b-4a42-a979-02f3bf00ead9",
   "metadata": {
    "tags": []
   },
   "outputs": [
    {
     "data": {
      "text/plain": [
       "{'IPKernelApp': {'connection_file': '/Users/cam/Library/Jupyter/runtime/kernel-fad1842f-f018-4ab1-8b03-933942288227.json'}}"
      ]
     },
     "execution_count": 6,
     "metadata": {},
     "output_type": "execute_result"
    }
   ],
   "source": [
    "get_ipython().config"
   ]
  },
  {
   "cell_type": "code",
   "execution_count": null,
   "id": "ac3f9fee-9825-40c5-b5a2-789f8e8f4f94",
   "metadata": {},
   "outputs": [],
   "source": []
  }
 ],
 "metadata": {
  "kernelspec": {
   "display_name": "Python 3 (ipykernel)",
   "language": "python",
   "name": "python3"
  },
  "language_info": {
   "codemirror_mode": {
    "name": "ipython",
    "version": 3
   },
   "file_extension": ".py",
   "mimetype": "text/x-python",
   "name": "python",
   "nbconvert_exporter": "python",
   "pygments_lexer": "ipython3",
   "version": "3.8.10"
  }
 },
 "nbformat": 4,
 "nbformat_minor": 5
}
