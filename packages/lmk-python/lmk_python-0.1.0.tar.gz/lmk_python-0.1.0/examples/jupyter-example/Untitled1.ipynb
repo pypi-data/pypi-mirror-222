{
 "cells": [
  {
   "cell_type": "code",
   "execution_count": 8,
   "id": "3d3e9317-d0ca-48f6-b837-aa11570fb818",
   "metadata": {},
   "outputs": [
    {
     "data": {
      "application/vnd.jupyter.widget-view+json": {
       "model_id": "cd422fc2c4324d03af82cd2020cec9fa",
       "version_major": 2,
       "version_minor": 0
      },
      "text/plain": [
       "LMKWidget(channels=[{'payload': {'type': 'email', 'emailAddress': 'cameron.l.feenstra@gmail.com'}, 'notificati…"
      ]
     },
     "metadata": {},
     "output_type": "display_data"
    }
   ],
   "source": [
    "import lmk\n",
    "lmk.jupyter"
   ]
  },
  {
   "cell_type": "code",
   "execution_count": 3,
   "id": "284c04b2",
   "metadata": {},
   "outputs": [],
   "source": [
    "import time"
   ]
  },
  {
   "cell_type": "code",
   "execution_count": 4,
   "id": "a3b1476c",
   "metadata": {},
   "outputs": [],
   "source": [
    "time.sleep(30)"
   ]
  },
  {
   "cell_type": "code",
   "execution_count": null,
   "id": "5fc0ba85",
   "metadata": {},
   "outputs": [],
   "source": []
  }
 ],
 "metadata": {
  "kernelspec": {
   "display_name": "Python 3 (ipykernel)",
   "language": "python",
   "name": "python3"
  },
  "language_info": {
   "codemirror_mode": {
    "name": "ipython",
    "version": 3
   },
   "file_extension": ".py",
   "mimetype": "text/x-python",
   "name": "python",
   "nbconvert_exporter": "python",
   "pygments_lexer": "ipython3",
   "version": "3.10.6"
  }
 },
 "nbformat": 4,
 "nbformat_minor": 5
}
