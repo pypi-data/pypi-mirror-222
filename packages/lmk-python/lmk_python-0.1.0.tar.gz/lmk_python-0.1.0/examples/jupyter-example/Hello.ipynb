{
 "cells": [
  {
   "cell_type": "code",
   "execution_count": 1,
   "id": "e697d293-6d3d-4f15-9296-c568b4428e86",
   "metadata": {},
   "outputs": [],
   "source": [
    "import lmk\n",
    "import logging\n",
    "import threading\n",
    "import time\n",
    "import IPython"
   ]
  },
  {
   "cell_type": "code",
   "execution_count": 2,
   "id": "f13af7fc-1a37-42da-aa06-f987fe82a282",
   "metadata": {
    "tags": []
   },
   "outputs": [],
   "source": [
    "lmk.jupyter.set_log_level(\"INFO\")"
   ]
  },
  {
   "cell_type": "code",
   "execution_count": 3,
   "id": "543c8cf9-0bc9-472e-9795-640dea090186",
   "metadata": {
    "tags": []
   },
   "outputs": [
    {
     "data": {
      "application/vnd.jupyter.widget-view+json": {
       "model_id": "bdffff3e602d438fa98d3bcf9d5de839",
       "version_major": 2,
       "version_minor": 0
      },
      "text/plain": [
       "LMKWidget(api_url='http://localhost:3000', jupyter_cell_started_at=1690269027661, jupyter_cell_state=<IPythonC…"
      ]
     },
     "metadata": {},
     "output_type": "display_data"
    }
   ],
   "source": [
    "lmk.jupyter"
   ]
  },
  {
   "cell_type": "code",
   "execution_count": 4,
   "id": "61648437-2111-40f1-afcf-ee061791eadd",
   "metadata": {
    "tags": []
   },
   "outputs": [],
   "source": [
    "lmk.logout()"
   ]
  },
  {
   "cell_type": "code",
   "execution_count": 15,
   "id": "54d93cf6-f2a0-4242-99aa-06b19ecb5c7e",
   "metadata": {
    "tags": []
   },
   "outputs": [
    {
     "data": {
      "application/javascript": [
       "window.open(\"http://localhost:3000/a/yMtupSmZ\")"
      ],
      "text/plain": [
       "<IPython.core.display.Javascript object>"
      ]
     },
     "metadata": {},
     "output_type": "display_data"
    },
    {
     "name": "stdout",
     "output_type": "stream",
     "text": [
      "Authentication successful\n"
     ]
    }
   ],
   "source": [
    "lmk.authenticate(force=True)"
   ]
  },
  {
   "cell_type": "code",
   "execution_count": 11,
   "id": "8c1a0612-10f4-4a0d-90d9-d1fae77120b0",
   "metadata": {
    "tags": []
   },
   "outputs": [],
   "source": [
    "now = datetime.utcnow()"
   ]
  },
  {
   "cell_type": "code",
   "execution_count": 12,
   "id": "02c09c05-b9c1-4f71-8357-e1d3d97c5f39",
   "metadata": {
    "tags": []
   },
   "outputs": [
    {
     "data": {
      "text/plain": [
       "'2023-07-24 04:26:26.393983'"
      ]
     },
     "execution_count": 12,
     "metadata": {},
     "output_type": "execute_result"
    }
   ],
   "source": [
    "str(now)"
   ]
  },
  {
   "cell_type": "code",
   "execution_count": 13,
   "id": "e48e1202-def3-45c8-8deb-7a65cb99e67a",
   "metadata": {
    "tags": []
   },
   "outputs": [
    {
     "data": {
      "text/plain": [
       "'2023-07-24 04:26:26'"
      ]
     },
     "execution_count": 13,
     "metadata": {},
     "output_type": "execute_result"
    }
   ],
   "source": [
    "now.strftime(\"%Y-%m-%d %H:%M:%S\")"
   ]
  },
  {
   "cell_type": "code",
   "execution_count": null,
   "id": "55168dc5-b9ba-4391-a243-8091051f854d",
   "metadata": {},
   "outputs": [],
   "source": []
  },
  {
   "cell_type": "code",
   "execution_count": 11,
   "id": "a8001779-31b1-4171-a12a-2ee0b488ce8e",
   "metadata": {
    "tags": []
   },
   "outputs": [
    {
     "data": {
      "text/plain": [
       "<Handlers.SIG_IGN: 1>"
      ]
     },
     "execution_count": 11,
     "metadata": {},
     "output_type": "execute_result"
    }
   ],
   "source": [
    "IPython.get_ipython().kernel.saved_sigint_handler"
   ]
  },
  {
   "cell_type": "code",
   "execution_count": 7,
   "id": "39522387-aacb-4658-b995-34761394e970",
   "metadata": {
    "tags": []
   },
   "outputs": [],
   "source": [
    "stdout = lmk.jupyter.get_widget().thread.stdout"
   ]
  },
  {
   "cell_type": "code",
   "execution_count": 8,
   "id": "f188ffac-cb71-4021-bebd-0f5224578987",
   "metadata": {
    "tags": []
   },
   "outputs": [
    {
     "name": "stdout",
     "output_type": "stream",
     "text": [
      "2023-07-22 13:17:26,782 [lmk.jupyter.widget:thread - INFO] Starting main loop\n",
      "2023-07-22 13:17:26,789 [Comm - DEBUG] handle_close[c516f6f9-d4fb-43a5-937d-fbba1c93df51]({'header': {'date': datetime.datetime(2023, 7, 22, 20, 17, 26, 779000, tzinfo=tzutc()), 'msg_id': 'cf32e2ea-a608-4bdf-9d46-b4b9f64e2e09', 'msg_type': 'comm_close', 'session': '91d8a68d-be57-45d9-8fe4-59f80373b1b0', 'username': '', 'version': '5.2'}, 'msg_id': 'cf32e2ea-a608-4bdf-9d46-b4b9f64e2e09', 'msg_type': 'comm_close', 'parent_header': {}, 'metadata': {}, 'content': {'comm_id': 'c516f6f9-d4fb-43a5-937d-fbba1c93df51', 'data': {}}, 'buffers': []})\n",
      "2023-07-22 13:17:26,833 [lmk.jupyter.widget:thread - DEBUG] Change of `notebook_name` from None to 'Hello'\n",
      "2023-07-22 13:17:26,833 [lmk.jupyter.widget:thread - DEBUG] Acquired lock\n",
      "2023-07-22 13:17:26,925 [lmk.jupyter.widget:thread - INFO] Created session: 1b3d60a5-cff5-4f73-bd90-85258926ae6f\n",
      "2023-07-22 13:17:26,926 [lmk.jupyter.widget:thread - DEBUG] Change of `session` from {} to {'state': {'type': 'jupyter', 'notebookName': 'Hello', 'shellState': 'running', 'executionNum': 2.0, 'cellStartedAt': '2023-07-22T20:17:26.783000+00:00', 'cellFinishedAt': '2023-07-22T20:17:26.783000+00:00', 'notifyOn': 'none'}, 'sessionId': '1b3d60a5-cff5-4f73-bd90-85258926ae6f', 'name': 'Hello', 'type': 'jupyter', 'createdAt': '2023-07-22T20:17:26.848Z', 'createdByActor': {'type': 'APP', 'actorId': '46330fd0-0181-46f9-831d-390df6ebc650', 'iconUrl': 'http://localhost:3001/app-icons/python.png', 'name': 'LMK Python Library'}, 'lastUpdatedAt': '2023-07-22T20:17:26.848Z', 'lastUpdatedByActor': {'type': 'APP', 'actorId': '46330fd0-0181-46f9-831d-390df6ebc650', 'iconUrl': 'http://localhost:3001/app-icons/python.png', 'name': 'LMK Python Library'}, 'endedAt': None, 'endedByActor': None}\n",
      "2023-07-22 13:17:26,941 [lmk.jupyter.widget:thread - DEBUG] Update from session: {'ok': True, 'message': {'type': 'update', 'connected': True, 'session': {'sessionId': '1b3d60a5-cff5-4f73-bd90-85258926ae6f', 'name': 'Hello', 'type': 'jupyter', 'state': {'type': 'jupyter', 'notifyOn': 'none', 'shellState': 'running', 'executionNum': 2, 'notebookName': 'Hello', 'cellStartedAt': '2023-07-22T20:17:26.783000+00:00', 'cellFinishedAt': '2023-07-22T20:17:26.783000+00:00'}, 'createdAt': '2023-07-22T20:17:26.848Z', 'createdByActor': {'actorId': '46330fd0-0181-46f9-831d-390df6ebc650', 'name': 'LMK Python Library', 'type': 'APP', 'iconUrl': 'http://localhost:3001/app-icons/python.png'}, 'lastUpdatedAt': '2023-07-22T20:17:26.848Z', 'lastUpdatedByActor': {'actorId': '46330fd0-0181-46f9-831d-390df6ebc650', 'name': 'LMK Python Library', 'type': 'APP', 'iconUrl': 'http://localhost:3001/app-icons/python.png'}, 'endedAt': None, 'endedByActor': None}}}\n",
      "2023-07-22 13:17:27,793 [lmk.jupyter.widget:thread - DEBUG] Change of `jupyter_state` from <IPythonShellState.Running: 'running'> to <IPythonShellState.Idle: 'idle'>\n",
      "2023-07-22 13:17:27,793 [lmk.jupyter.widget:thread - DEBUG] Acquired lock\n",
      "2023-07-22 13:17:27,793 [lmk.jupyter.widget:thread - INFO] Started: 1690057046783 (2023-07-22T20:17:26.783000+00:00), finished: 1690057046783 (2023-07-22T20:17:26.783000+00:00)\n",
      "2023-07-22 13:17:27,793 [lmk.jupyter.widget:thread - DEBUG] Sending ws message: {'url': None, 'notebookName': 'Hello', 'shellState': 'idle', 'cellState': 'success', 'cellText': 'lmk.jupyter.set_log_level(\"DEBUG\")', 'cellError': None, 'executionNum': 2, 'cellStartedAt': '2023-07-22T20:17:26.783000+00:00', 'cellFinishedAt': '2023-07-22T20:17:26.783000+00:00', 'notifyOn': 'none', 'notifyChannel': None}\n",
      "2023-07-22 13:17:27,794 [lmk.jupyter.widget:thread - DEBUG] Sent ws message\n",
      "2023-07-22 13:17:27,834 [lmk.jupyter.widget:thread - DEBUG] Update from session: {'ok': True, 'message': {'type': 'update', 'connected': True, 'session': {'sessionId': '1b3d60a5-cff5-4f73-bd90-85258926ae6f', 'name': 'Hello', 'type': 'jupyter', 'state': {'url': None, 'type': 'jupyter', 'cellText': 'lmk.jupyter.set_log_level(\"DEBUG\")', 'notifyOn': 'none', 'cellError': None, 'cellState': 'success', 'shellState': 'idle', 'executionNum': 2, 'notebookName': 'Hello', 'cellStartedAt': '2023-07-22T20:17:26.783000+00:00', 'notifyChannel': None, 'cellFinishedAt': '2023-07-22T20:17:26.783000+00:00'}, 'createdAt': '2023-07-22T20:17:26.848Z', 'createdByActor': {'actorId': '46330fd0-0181-46f9-831d-390df6ebc650', 'name': 'LMK Python Library', 'type': 'APP', 'iconUrl': 'http://localhost:3001/app-icons/python.png'}, 'lastUpdatedAt': '2023-07-22T20:17:27.799Z', 'lastUpdatedByActor': {'actorId': '46330fd0-0181-46f9-831d-390df6ebc650', 'name': 'LMK Python Library', 'type': 'APP', 'iconUrl': 'http://localhost:3001/app-icons/python.png'}, 'endedAt': None, 'endedByActor': None}}}\n",
      "2023-07-22 13:17:28,206 [lmk.jupyter.widget:thread - DEBUG] Change of `jupyter_state` from <IPythonShellState.Idle: 'idle'> to <IPythonShellState.Running: 'running'>\n",
      "2023-07-22 13:17:28,206 [lmk.jupyter.widget:thread - DEBUG] Change of `jupyter_execution_num` from 2 to 3\n",
      "2023-07-22 13:17:28,206 [lmk.jupyter.widget:thread - DEBUG] Change of `jupyter_cell_text` from 'lmk.jupyter.set_log_level(\"DEBUG\")' to 'lmk.jupyter'\n",
      "2023-07-22 13:17:28,206 [lmk.jupyter.widget:thread - DEBUG] Change of `jupyter_cell_state` from <IPythonCellStateType.Success: 'success'> to <IPythonCellStateType.Running: 'running'>\n",
      "2023-07-22 13:17:28,207 [lmk.jupyter.widget:thread - DEBUG] Change of `jupyter_cell_started_at` from 1690057046783 to 1690057048206\n",
      "2023-07-22 13:17:28,207 [lmk.jupyter.widget:thread - DEBUG] Change of `jupyter_cell_finished_at` from 1690057046783 to None\n",
      "2023-07-22 13:17:28,214 [lmk.jupyter.widget:thread - DEBUG] Change of `jupyter_cell_state` from <IPythonCellStateType.Running: 'running'> to <IPythonCellStateType.Success: 'success'>\n",
      "2023-07-22 13:17:28,214 [lmk.jupyter.widget:thread - DEBUG] Change of `jupyter_cell_finished_at` from None to 1690057048213\n",
      "2023-07-22 13:17:28,280 [Comm - DEBUG] handle_msg[170abf2734de4a6e83db4c68f5d3058c]({'header': {'date': datetime.datetime(2023, 7, 22, 20, 17, 28, 259000, tzinfo=tzutc()), 'msg_id': 'a66d8d3e-508f-41f9-8a65-84e287a49441', 'msg_type': 'comm_msg', 'session': '91d8a68d-be57-45d9-8fe4-59f80373b1b0', 'username': '', 'version': '5.2'}, 'msg_id': 'a66d8d3e-508f-41f9-8a65-84e287a49441', 'msg_type': 'comm_msg', 'parent_header': {}, 'metadata': {}, 'content': {'comm_id': '170abf2734de4a6e83db4c68f5d3058c', 'data': {'method': 'custom', 'content': {'request_id': 'b7c02aca-8ec6-4cc2-b6e2-4928a9e1d42b', 'method': 'refresh-channels', 'payload': {}}}}, 'buffers': []})\n",
      "2023-07-22 13:17:28,280 [lmk.jupyter.widget:thread - DEBUG] Msg: {'request_id': 'b7c02aca-8ec6-4cc2-b6e2-4928a9e1d42b', 'method': 'refresh-channels', 'payload': {}}\n",
      "2023-07-22 13:17:28,281 [Comm - DEBUG] handle_msg[170abf2734de4a6e83db4c68f5d3058c]({'header': {'date': datetime.datetime(2023, 7, 22, 20, 17, 28, 259000, tzinfo=tzutc()), 'msg_id': '71704f9f-5751-409f-ab0b-17e2d15e4976', 'msg_type': 'comm_msg', 'session': '91d8a68d-be57-45d9-8fe4-59f80373b1b0', 'username': '', 'version': '5.2'}, 'msg_id': '71704f9f-5751-409f-ab0b-17e2d15e4976', 'msg_type': 'comm_msg', 'parent_header': {}, 'metadata': {}, 'content': {'comm_id': '170abf2734de4a6e83db4c68f5d3058c', 'data': {'method': 'custom', 'content': {'request_id': '8f179bca-f4af-42c9-baec-27f944df3f92', 'method': 'refresh-channels', 'payload': {}}}}, 'buffers': []})\n",
      "2023-07-22 13:17:28,281 [lmk.jupyter.widget:thread - DEBUG] Msg: {'request_id': '8f179bca-f4af-42c9-baec-27f944df3f92', 'method': 'refresh-channels', 'payload': {}}\n",
      "2023-07-22 13:17:28,298 [lmk.jupyter.widget:thread - DEBUG] Acquired lock\n",
      "2023-07-22 13:17:28,298 [lmk.jupyter.widget:thread - DEBUG] Acquired lock\n",
      "2023-07-22 13:17:28,298 [lmk.jupyter.widget:thread - DEBUG] Acquired lock\n",
      "2023-07-22 13:17:28,298 [lmk.jupyter.widget:thread - DEBUG] Acquired lock\n",
      "2023-07-22 13:17:28,298 [lmk.jupyter.widget:thread - DEBUG] Acquired lock\n",
      "2023-07-22 13:17:28,298 [lmk.jupyter.widget:thread - DEBUG] Acquired lock\n",
      "2023-07-22 13:17:28,298 [lmk.jupyter.widget:thread - DEBUG] Change of `channels_state` from <ChannelsState.None_: 'none'> to <ChannelsState.Loading: 'loading'>\n",
      "2023-07-22 13:17:28,299 [lmk.jupyter.widget:thread - INFO] Skipping channel fetch because it is in progress\n",
      "2023-07-22 13:17:28,299 [lmk.jupyter.widget:thread - INFO] Started: 1690057048206 (2023-07-22T20:17:28.206000+00:00), finished: 1690057048213 (2023-07-22T20:17:28.213000+00:00)\n",
      "2023-07-22 13:17:28,299 [lmk.jupyter.widget:thread - DEBUG] Sending ws message: {'url': None, 'notebookName': 'Hello', 'shellState': 'running', 'cellState': 'success', 'cellText': 'lmk.jupyter', 'cellError': None, 'executionNum': 3, 'cellStartedAt': '2023-07-22T20:17:28.206000+00:00', 'cellFinishedAt': '2023-07-22T20:17:28.213000+00:00', 'notifyOn': 'none', 'notifyChannel': None}\n",
      "2023-07-22 13:17:28,301 [lmk.jupyter.widget:thread - DEBUG] Sent ws message\n",
      "2023-07-22 13:17:28,315 [lmk.jupyter.widget:thread - DEBUG] Change of `channels` from [] to [{'payload': {'type': 'email', 'emailAddress': 'cameron.l.feenstra@gmail.com'}, 'notificationChannelId': '6752ca68-3d68-42fb-b880-83874530233a', 'name': 'Account Email', 'order': 0.0, 'isDefault': True, 'isManaged': True, 'createdAt': '2023-07-03T22:34:47.313Z', 'createdByActor': {'type': 'USER', 'actorId': '00000000-0000-0000-0000-000000000000', 'name': 'LMK'}, 'lastUpdatedAt': '2023-07-03T22:34:47.313Z', 'lastUpdatedByActor': {'type': 'USER', 'actorId': '00000000-0000-0000-0000-000000000000', 'name': 'LMK'}}, {'payload': {'type': 'text-message', 'phoneNumber': '+1 (412) 952-0244'}, 'notificationChannelId': 'ecc1d013-233d-4e08-bb5c-e992d5345428', 'name': 'text message', 'order': 1.0, 'isDefault': False, 'isManaged': False, 'createdAt': '2023-07-06T16:06:02.678Z', 'createdByActor': {'type': 'USER', 'actorId': 'e6eeb46a-c68c-401e-92ae-e06d903a57a6', 'name': 'Cam Feenstra'}, 'lastUpdatedAt': '2023-07-06T16:06:02.678Z', 'lastUpdatedByActor': {'type': 'USER', 'actorId': 'e6eeb46a-c68c-401e-92ae-e06d903a57a6', 'name': 'Cam Feenstra'}}]\n",
      "2023-07-22 13:17:28,315 [lmk.jupyter.widget:thread - DEBUG] Change of `selected_channel` from None to '6752ca68-3d68-42fb-b880-83874530233a'\n",
      "2023-07-22 13:17:28,315 [lmk.jupyter.widget:thread - DEBUG] Change of `channels_state` from <ChannelsState.Loading: 'loading'> to <ChannelsState.Loaded: 'loaded'>\n",
      "2023-07-22 13:17:28,315 [lmk.jupyter.widget:thread - DEBUG] Acquired lock\n",
      "2023-07-22 13:17:28,315 [lmk.jupyter.widget:thread - INFO] Started: 1690057048206 (2023-07-22T20:17:28.206000+00:00), finished: 1690057048213 (2023-07-22T20:17:28.213000+00:00)\n",
      "2023-07-22 13:17:28,315 [lmk.jupyter.widget:thread - DEBUG] Sending ws message: {'url': None, 'notebookName': 'Hello', 'shellState': 'running', 'cellState': 'success', 'cellText': 'lmk.jupyter', 'cellError': None, 'executionNum': 3, 'cellStartedAt': '2023-07-22T20:17:28.206000+00:00', 'cellFinishedAt': '2023-07-22T20:17:28.213000+00:00', 'notifyOn': 'none', 'notifyChannel': '6752ca68-3d68-42fb-b880-83874530233a'}\n",
      "2023-07-22 13:17:28,316 [lmk.jupyter.widget:thread - DEBUG] Sent ws message\n",
      "2023-07-22 13:17:28,330 [lmk.jupyter.widget:thread - DEBUG] Update from session: {'ok': True, 'message': {'type': 'update', 'connected': True, 'session': {'sessionId': '1b3d60a5-cff5-4f73-bd90-85258926ae6f', 'name': 'Hello', 'type': 'jupyter', 'state': {'url': None, 'type': 'jupyter', 'cellText': 'lmk.jupyter', 'notifyOn': 'none', 'cellError': None, 'cellState': 'success', 'shellState': 'running', 'executionNum': 3, 'notebookName': 'Hello', 'cellStartedAt': '2023-07-22T20:17:28.206000+00:00', 'notifyChannel': '6752ca68-3d68-42fb-b880-83874530233a', 'cellFinishedAt': '2023-07-22T20:17:28.213000+00:00'}, 'createdAt': '2023-07-22T20:17:26.848Z', 'createdByActor': {'actorId': '46330fd0-0181-46f9-831d-390df6ebc650', 'name': 'LMK Python Library', 'type': 'APP', 'iconUrl': 'http://localhost:3001/app-icons/python.png'}, 'lastUpdatedAt': '2023-07-22T20:17:28.317Z', 'lastUpdatedByActor': {'actorId': '46330fd0-0181-46f9-831d-390df6ebc650', 'name': 'LMK Python Library', 'type': 'APP', 'iconUrl': 'http://localhost:3001/app-icons/python.png'}, 'endedAt': None, 'endedByActor': None}}}\n",
      "2023-07-22 13:17:28,344 [lmk.jupyter.widget:thread - DEBUG] Update from session: {'ok': True, 'message': {'type': 'update', 'connected': True, 'session': {'sessionId': '1b3d60a5-cff5-4f73-bd90-85258926ae6f', 'name': 'Hello', 'type': 'jupyter', 'state': {'url': None, 'type': 'jupyter', 'cellText': 'lmk.jupyter', 'notifyOn': 'none', 'cellError': None, 'cellState': 'success', 'shellState': 'running', 'executionNum': 3, 'notebookName': 'Hello', 'cellStartedAt': '2023-07-22T20:17:28.206000+00:00', 'notifyChannel': None, 'cellFinishedAt': '2023-07-22T20:17:28.213000+00:00'}, 'createdAt': '2023-07-22T20:17:26.848Z', 'createdByActor': {'actorId': '46330fd0-0181-46f9-831d-390df6ebc650', 'name': 'LMK Python Library', 'type': 'APP', 'iconUrl': 'http://localhost:3001/app-icons/python.png'}, 'lastUpdatedAt': '2023-07-22T20:17:28.333Z', 'lastUpdatedByActor': {'actorId': '46330fd0-0181-46f9-831d-390df6ebc650', 'name': 'LMK Python Library', 'type': 'APP', 'iconUrl': 'http://localhost:3001/app-icons/python.png'}, 'endedAt': None, 'endedByActor': None}}}\n",
      "2023-07-22 13:17:28,344 [lmk.jupyter.widget:thread - DEBUG] Change of `selected_channel` from '6752ca68-3d68-42fb-b880-83874530233a' to None\n",
      "2023-07-22 13:17:28,344 [lmk.jupyter.widget:thread - DEBUG] Acquired lock\n",
      "2023-07-22 13:17:28,344 [lmk.jupyter.widget:thread - INFO] Started: 1690057048206 (2023-07-22T20:17:28.206000+00:00), finished: 1690057048213 (2023-07-22T20:17:28.213000+00:00)\n",
      "2023-07-22 13:17:28,344 [lmk.jupyter.widget:thread - DEBUG] Sending ws message: {'url': None, 'notebookName': 'Hello', 'shellState': 'running', 'cellState': 'success', 'cellText': 'lmk.jupyter', 'cellError': None, 'executionNum': 3, 'cellStartedAt': '2023-07-22T20:17:28.206000+00:00', 'cellFinishedAt': '2023-07-22T20:17:28.213000+00:00', 'notifyOn': 'none', 'notifyChannel': None}\n",
      "2023-07-22 13:17:28,345 [lmk.jupyter.widget:thread - DEBUG] Sent ws message\n",
      "2023-07-22 13:17:28,353 [lmk.jupyter.widget:thread - DEBUG] Update from session: {'ok': True, 'message': {'type': 'update', 'connected': True, 'session': {'sessionId': '1b3d60a5-cff5-4f73-bd90-85258926ae6f', 'name': 'Hello', 'type': 'jupyter', 'state': {'url': None, 'type': 'jupyter', 'cellText': 'lmk.jupyter', 'notifyOn': 'none', 'cellError': None, 'cellState': 'success', 'shellState': 'running', 'executionNum': 3, 'notebookName': 'Hello', 'cellStartedAt': '2023-07-22T20:17:28.206000+00:00', 'notifyChannel': None, 'cellFinishedAt': '2023-07-22T20:17:28.213000+00:00'}, 'createdAt': '2023-07-22T20:17:26.848Z', 'createdByActor': {'actorId': '46330fd0-0181-46f9-831d-390df6ebc650', 'name': 'LMK Python Library', 'type': 'APP', 'iconUrl': 'http://localhost:3001/app-icons/python.png'}, 'lastUpdatedAt': '2023-07-22T20:17:28.347Z', 'lastUpdatedByActor': {'actorId': '46330fd0-0181-46f9-831d-390df6ebc650', 'name': 'LMK Python Library', 'type': 'APP', 'iconUrl': 'http://localhost:3001/app-icons/python.png'}, 'endedAt': None, 'endedByActor': None}}}\n",
      "2023-07-22 13:17:29,267 [Comm - DEBUG] handle_msg[170abf2734de4a6e83db4c68f5d3058c]({'header': {'date': datetime.datetime(2023, 7, 22, 20, 17, 29, 266000, tzinfo=tzutc()), 'msg_id': '5665b7c9-5da7-4a30-84e8-8adf622bebed', 'msg_type': 'comm_msg', 'session': '91d8a68d-be57-45d9-8fe4-59f80373b1b0', 'username': '', 'version': '5.2'}, 'msg_id': '5665b7c9-5da7-4a30-84e8-8adf622bebed', 'msg_type': 'comm_msg', 'parent_header': {}, 'metadata': {}, 'content': {'comm_id': '170abf2734de4a6e83db4c68f5d3058c', 'data': {'method': 'update', 'state': {'url': 'http://localhost:8888/lab/workspaces/auto-h/tree/Hello.ipynb'}, 'buffer_paths': []}}, 'buffers': []})\n",
      "2023-07-22 13:17:29,268 [lmk.jupyter.widget:thread - DEBUG] Change of `_property_lock` from {} to {'url': 'http://localhost:8888/lab/workspaces/auto-h/tree/Hello.ipynb'}\n",
      "2023-07-22 13:17:29,268 [lmk.jupyter.widget:thread - DEBUG] Change of `url` from None to 'http://localhost:8888/lab/workspaces/auto-h/tree/Hello.ipynb'\n",
      "2023-07-22 13:17:29,268 [lmk.jupyter.widget:thread - DEBUG] Change of `_property_lock` from {'url': 'http://localhost:8888/lab/workspaces/auto-h/tree/Hello.ipynb'} to {}\n",
      "2023-07-22 13:17:29,307 [lmk.jupyter.widget:thread - DEBUG] Acquired lock\n",
      "2023-07-22 13:17:29,308 [lmk.jupyter.widget:thread - INFO] Started: 1690057048206 (2023-07-22T20:17:28.206000+00:00), finished: 1690057048213 (2023-07-22T20:17:28.213000+00:00)\n",
      "2023-07-22 13:17:29,308 [lmk.jupyter.widget:thread - DEBUG] Sending ws message: {'url': 'http://localhost:8888/lab/workspaces/auto-h/tree/Hello.ipynb', 'notebookName': 'Hello', 'shellState': 'running', 'cellState': 'success', 'cellText': 'lmk.jupyter', 'cellError': None, 'executionNum': 3, 'cellStartedAt': '2023-07-22T20:17:28.206000+00:00', 'cellFinishedAt': '2023-07-22T20:17:28.213000+00:00', 'notifyOn': 'none', 'notifyChannel': None}\n",
      "2023-07-22 13:17:29,308 [lmk.jupyter.widget:thread - DEBUG] Sent ws message\n",
      "2023-07-22 13:17:29,328 [lmk.jupyter.widget:thread - DEBUG] Update from session: {'ok': True, 'message': {'type': 'update', 'connected': True, 'session': {'sessionId': '1b3d60a5-cff5-4f73-bd90-85258926ae6f', 'name': 'Hello', 'type': 'jupyter', 'state': {'url': 'http://localhost:8888/lab/workspaces/auto-h/tree/Hello.ipynb', 'type': 'jupyter', 'cellText': 'lmk.jupyter', 'notifyOn': 'none', 'cellError': None, 'cellState': 'success', 'shellState': 'running', 'executionNum': 3, 'notebookName': 'Hello', 'cellStartedAt': '2023-07-22T20:17:28.206000+00:00', 'notifyChannel': None, 'cellFinishedAt': '2023-07-22T20:17:28.213000+00:00'}, 'createdAt': '2023-07-22T20:17:26.848Z', 'createdByActor': {'actorId': '46330fd0-0181-46f9-831d-390df6ebc650', 'name': 'LMK Python Library', 'type': 'APP', 'iconUrl': 'http://localhost:3001/app-icons/python.png'}, 'lastUpdatedAt': '2023-07-22T20:17:29.312Z', 'lastUpdatedByActor': {'actorId': '46330fd0-0181-46f9-831d-390df6ebc650', 'name': 'LMK Python Library', 'type': 'APP', 'iconUrl': 'http://localhost:3001/app-icons/python.png'}, 'endedAt': None, 'endedByActor': None}}}\n",
      "2023-07-22 13:17:30,317 [lmk.jupyter.widget:thread - DEBUG] Change of `jupyter_state` from <IPythonShellState.Running: 'running'> to <IPythonShellState.Idle: 'idle'>\n",
      "2023-07-22 13:17:30,317 [lmk.jupyter.widget:thread - DEBUG] Acquired lock\n",
      "2023-07-22 13:17:30,317 [lmk.jupyter.widget:thread - INFO] Started: 1690057048206 (2023-07-22T20:17:28.206000+00:00), finished: 1690057048213 (2023-07-22T20:17:28.213000+00:00)\n",
      "2023-07-22 13:17:30,317 [lmk.jupyter.widget:thread - DEBUG] Sending ws message: {'url': 'http://localhost:8888/lab/workspaces/auto-h/tree/Hello.ipynb', 'notebookName': 'Hello', 'shellState': 'idle', 'cellState': 'success', 'cellText': 'lmk.jupyter', 'cellError': None, 'executionNum': 3, 'cellStartedAt': '2023-07-22T20:17:28.206000+00:00', 'cellFinishedAt': '2023-07-22T20:17:28.213000+00:00', 'notifyOn': 'none', 'notifyChannel': None}\n",
      "2023-07-22 13:17:30,317 [lmk.jupyter.widget:thread - DEBUG] Sent ws message\n",
      "2023-07-22 13:17:30,335 [lmk.jupyter.widget:thread - DEBUG] Update from session: {'ok': True, 'message': {'type': 'update', 'connected': True, 'session': {'sessionId': '1b3d60a5-cff5-4f73-bd90-85258926ae6f', 'name': 'Hello', 'type': 'jupyter', 'state': {'url': 'http://localhost:8888/lab/workspaces/auto-h/tree/Hello.ipynb', 'type': 'jupyter', 'cellText': 'lmk.jupyter', 'notifyOn': 'none', 'cellError': None, 'cellState': 'success', 'shellState': 'idle', 'executionNum': 3, 'notebookName': 'Hello', 'cellStartedAt': '2023-07-22T20:17:28.206000+00:00', 'notifyChannel': None, 'cellFinishedAt': '2023-07-22T20:17:28.213000+00:00'}, 'createdAt': '2023-07-22T20:17:26.848Z', 'createdByActor': {'actorId': '46330fd0-0181-46f9-831d-390df6ebc650', 'name': 'LMK Python Library', 'type': 'APP', 'iconUrl': 'http://localhost:3001/app-icons/python.png'}, 'lastUpdatedAt': '2023-07-22T20:17:30.321Z', 'lastUpdatedByActor': {'actorId': '46330fd0-0181-46f9-831d-390df6ebc650', 'name': 'LMK Python Library', 'type': 'APP', 'iconUrl': 'http://localhost:3001/app-icons/python.png'}, 'endedAt': None, 'endedByActor': None}}}\n",
      "2023-07-22 13:21:02,446 [lmk.jupyter.widget:thread - DEBUG] Change of `jupyter_state` from <IPythonShellState.Idle: 'idle'> to <IPythonShellState.Running: 'running'>\n",
      "2023-07-22 13:21:02,446 [lmk.jupyter.widget:thread - DEBUG] Change of `jupyter_execution_num` from 3 to 4\n",
      "2023-07-22 13:21:02,446 [lmk.jupyter.widget:thread - DEBUG] Change of `jupyter_cell_text` from 'lmk.jupyter' to 'stdout = lmk.jupyter.get_widget().thread.stdout'\n",
      "2023-07-22 13:21:02,446 [lmk.jupyter.widget:thread - DEBUG] Change of `jupyter_cell_state` from <IPythonCellStateType.Success: 'success'> to <IPythonCellStateType.Running: 'running'>\n",
      "2023-07-22 13:21:02,446 [lmk.jupyter.widget:thread - DEBUG] Change of `jupyter_cell_started_at` from 1690057048206 to 1690057262446\n",
      "2023-07-22 13:21:02,446 [lmk.jupyter.widget:thread - DEBUG] Change of `jupyter_cell_finished_at` from 1690057048213 to None\n",
      "2023-07-22 13:21:02,447 [lmk.jupyter.widget:thread - DEBUG] Change of `jupyter_cell_state` from <IPythonCellStateType.Running: 'running'> to <IPythonCellStateType.Success: 'success'>\n",
      "2023-07-22 13:21:02,447 [lmk.jupyter.widget:thread - DEBUG] Change of `jupyter_cell_finished_at` from None to 1690057262447\n",
      "2023-07-22 13:21:02,478 [lmk.jupyter.widget:thread - DEBUG] Acquired lock\n",
      "2023-07-22 13:21:02,478 [lmk.jupyter.widget:thread - DEBUG] Acquired lock\n",
      "2023-07-22 13:21:02,478 [lmk.jupyter.widget:thread - DEBUG] Acquired lock\n",
      "2023-07-22 13:21:02,478 [lmk.jupyter.widget:thread - DEBUG] Acquired lock\n",
      "2023-07-22 13:21:02,478 [lmk.jupyter.widget:thread - DEBUG] Acquired lock\n",
      "2023-07-22 13:21:02,478 [lmk.jupyter.widget:thread - DEBUG] Acquired lock\n",
      "2023-07-22 13:21:02,478 [lmk.jupyter.widget:thread - INFO] Started: 1690057262446 (2023-07-22T20:21:02.446000+00:00), finished: 1690057262447 (2023-07-22T20:21:02.447000+00:00)\n",
      "2023-07-22 13:21:02,478 [lmk.jupyter.widget:thread - DEBUG] Sending ws message: {'url': 'http://localhost:8888/lab/workspaces/auto-h/tree/Hello.ipynb', 'notebookName': 'Hello', 'shellState': 'running', 'cellState': 'success', 'cellText': 'stdout = lmk.jupyter.get_widget().thread.stdout', 'cellError': None, 'executionNum': 4, 'cellStartedAt': '2023-07-22T20:21:02.446000+00:00', 'cellFinishedAt': '2023-07-22T20:21:02.447000+00:00', 'notifyOn': 'none', 'notifyChannel': None}\n",
      "2023-07-22 13:21:02,639 [lmk.jupyter.widget:thread - DEBUG] Change of `jupyter_execution_num` from 4 to 5\n",
      "2023-07-22 13:21:02,640 [lmk.jupyter.widget:thread - DEBUG] Change of `jupyter_cell_text` from 'stdout = lmk.jupyter.get_widget().thread.stdout' to 'print(stdout.getvalue())'\n",
      "2023-07-22 13:21:02,640 [lmk.jupyter.widget:thread - DEBUG] Change of `jupyter_cell_state` from <IPythonCellStateType.Success: 'success'> to <IPythonCellStateType.Running: 'running'>\n",
      "2023-07-22 13:21:02,640 [lmk.jupyter.widget:thread - DEBUG] Change of `jupyter_cell_started_at` from 1690057262446 to 1690057262639\n",
      "2023-07-22 13:21:02,640 [lmk.jupyter.widget:thread - DEBUG] Change of `jupyter_cell_finished_at` from 1690057262447 to None\n",
      "2023-07-22 13:21:02,655 [lmk.jupyter.widget:thread - DEBUG] Change of `jupyter_cell_state` from <IPythonCellStateType.Running: 'running'> to <IPythonCellStateType.Success: 'success'>\n",
      "2023-07-22 13:21:02,655 [lmk.jupyter.widget:thread - DEBUG] Change of `jupyter_cell_finished_at` from None to 1690057262653\n",
      "2023-07-22 13:21:02,681 [lmk.jupyter.widget:thread - DEBUG] Acquired lock\n",
      "2023-07-22 13:21:02,681 [lmk.jupyter.widget:thread - DEBUG] Acquired lock\n",
      "2023-07-22 13:21:02,682 [lmk.jupyter.widget:thread - DEBUG] Acquired lock\n",
      "2023-07-22 13:21:02,682 [lmk.jupyter.widget:thread - DEBUG] Acquired lock\n",
      "2023-07-22 13:21:02,682 [lmk.jupyter.widget:thread - DEBUG] Acquired lock\n",
      "2023-07-22 13:21:03,711 [lmk.jupyter.widget:thread - DEBUG] Change of `jupyter_state` from <IPythonShellState.Running: 'running'> to <IPythonShellState.Idle: 'idle'>\n",
      "2023-07-22 13:21:03,712 [lmk.jupyter.widget:thread - DEBUG] Acquired lock\n",
      "2023-07-22 13:21:04,603 [lmk.jupyter.widget:thread - DEBUG] Sent ws message\n",
      "2023-07-22 13:21:04,603 [lmk.jupyter.widget:thread - INFO] Started: 1690057262639 (2023-07-22T20:21:02.639000+00:00), finished: 1690057262653 (2023-07-22T20:21:02.653000+00:00)\n",
      "2023-07-22 13:21:04,603 [lmk.jupyter.widget:thread - DEBUG] Sending ws message: {'url': 'http://localhost:8888/lab/workspaces/auto-h/tree/Hello.ipynb', 'notebookName': 'Hello', 'shellState': 'idle', 'cellState': 'success', 'cellText': 'print(stdout.getvalue())', 'cellError': None, 'executionNum': 5, 'cellStartedAt': '2023-07-22T20:21:02.639000+00:00', 'cellFinishedAt': '2023-07-22T20:21:02.653000+00:00', 'notifyOn': 'none', 'notifyChannel': None}\n",
      "2023-07-22 13:21:04,603 [lmk.jupyter.widget:thread - DEBUG] Sent ws message\n",
      "2023-07-22 13:21:05,622 [lmk.jupyter.widget:thread - ERROR] Error in websocket: {'ok': False, 'message': {'statusCode': 500, 'message': 'Internal server error'}}\n",
      "2023-07-22 13:21:06,634 [lmk.jupyter.widget:thread - ERROR] Error in websocket: {'ok': False, 'message': {'statusCode': 500, 'message': 'Internal server error'}}\n",
      "2023-07-22 13:21:07,655 [lmk.jupyter.widget:thread - ERROR] Error in websocket: {'ok': False, 'message': {'statusCode': 500, 'message': 'Internal server error'}}\n",
      "2023-07-22 13:21:08,673 [lmk.jupyter.widget:thread - ERROR] Error in websocket: {'ok': False, 'message': {'statusCode': 500, 'message': 'Internal server error'}}\n",
      "2023-07-22 13:21:09,691 [lmk.jupyter.widget:thread - ERROR] Error in websocket: {'ok': False, 'message': {'statusCode': 500, 'message': 'Internal server error'}}\n",
      "2023-07-22 13:21:10,710 [lmk.jupyter.widget:thread - ERROR] Error in websocket: {'ok': False, 'message': {'statusCode': 500, 'message': 'Internal server error'}}\n",
      "2023-07-22 13:21:11,736 [lmk.jupyter.widget:thread - ERROR] Error in websocket: {'ok': False, 'message': {'statusCode': 500, 'message': 'Internal server error'}}\n",
      "2023-07-22 13:21:12,765 [lmk.jupyter.widget:thread - ERROR] Error in websocket: {'ok': False, 'message': {'statusCode': 500, 'message': 'Internal server error'}}\n",
      "2023-07-22 13:21:13,788 [lmk.jupyter.widget:thread - ERROR] Error in websocket: {'ok': False, 'message': {'statusCode': 500, 'message': 'Internal server error'}}\n",
      "2023-07-22 13:21:14,809 [lmk.jupyter.widget:thread - ERROR] Error in websocket: {'ok': False, 'message': {'statusCode': 500, 'message': 'Internal server error'}}\n",
      "2023-07-22 13:21:15,824 [lmk.jupyter.widget:thread - ERROR] Error in websocket: {'ok': False, 'message': {'statusCode': 500, 'message': 'Internal server error'}}\n",
      "2023-07-22 13:21:16,842 [lmk.jupyter.widget:thread - ERROR] Error in websocket: {'ok': False, 'message': {'statusCode': 500, 'message': 'Internal server error'}}\n",
      "2023-07-22 13:21:17,867 [lmk.jupyter.widget:thread - ERROR] Error in websocket: {'ok': False, 'message': {'statusCode': 500, 'message': 'Internal server error'}}\n",
      "2023-07-22 13:21:18,894 [lmk.jupyter.widget:thread - ERROR] Error in websocket: {'ok': False, 'message': {'statusCode': 500, 'message': 'Internal server error'}}\n",
      "2023-07-22 13:21:19,913 [lmk.jupyter.widget:thread - ERROR] Error in websocket: {'ok': False, 'message': {'statusCode': 500, 'message': 'Internal server error'}}\n",
      "2023-07-22 13:21:20,939 [lmk.jupyter.widget:thread - ERROR] Error in websocket: {'ok': False, 'message': {'statusCode': 500, 'message': 'Internal server error'}}\n",
      "2023-07-22 13:21:21,962 [lmk.jupyter.widget:thread - ERROR] Error in websocket: {'ok': False, 'message': {'statusCode': 500, 'message': 'Internal server error'}}\n",
      "2023-07-22 13:21:22,979 [lmk.jupyter.widget:thread - ERROR] Error in websocket: {'ok': False, 'message': {'statusCode': 500, 'message': 'Internal server error'}}\n",
      "2023-07-22 13:21:23,998 [lmk.jupyter.widget:thread - ERROR] Error in websocket: {'ok': False, 'message': {'statusCode': 500, 'message': 'Internal server error'}}\n",
      "2023-07-22 13:21:25,019 [lmk.jupyter.widget:thread - ERROR] Error in websocket: {'ok': False, 'message': {'statusCode': 500, 'message': 'Internal server error'}}\n",
      "2023-07-22 13:21:25,328 [lmk.jupyter.widget:thread - DEBUG] Change of `jupyter_state` from <IPythonShellState.Idle: 'idle'> to <IPythonShellState.Running: 'running'>\n",
      "2023-07-22 13:21:25,328 [lmk.jupyter.widget:thread - DEBUG] Change of `jupyter_execution_num` from 5 to 6\n",
      "2023-07-22 13:21:25,328 [lmk.jupyter.widget:thread - DEBUG] Change of `jupyter_cell_text` from 'print(stdout.getvalue())' to 'stdout = lmk.jupyter.get_widget().thread.stdout'\n",
      "2023-07-22 13:21:25,328 [lmk.jupyter.widget:thread - DEBUG] Change of `jupyter_cell_state` from <IPythonCellStateType.Success: 'success'> to <IPythonCellStateType.Running: 'running'>\n",
      "2023-07-22 13:21:25,328 [lmk.jupyter.widget:thread - DEBUG] Change of `jupyter_cell_started_at` from 1690057262639 to 1690057285328\n",
      "2023-07-22 13:21:25,329 [lmk.jupyter.widget:thread - DEBUG] Change of `jupyter_cell_finished_at` from 1690057262653 to None\n",
      "2023-07-22 13:21:25,330 [lmk.jupyter.widget:thread - DEBUG] Change of `jupyter_cell_state` from <IPythonCellStateType.Running: 'running'> to <IPythonCellStateType.Success: 'success'>\n",
      "2023-07-22 13:21:25,330 [lmk.jupyter.widget:thread - DEBUG] Change of `jupyter_cell_finished_at` from None to 1690057285329\n",
      "2023-07-22 13:21:25,338 [lmk.jupyter.widget:thread - DEBUG] Acquired lock\n",
      "2023-07-22 13:21:25,338 [lmk.jupyter.widget:thread - DEBUG] Acquired lock\n",
      "2023-07-22 13:21:25,338 [lmk.jupyter.widget:thread - DEBUG] Acquired lock\n",
      "2023-07-22 13:21:25,338 [lmk.jupyter.widget:thread - DEBUG] Acquired lock\n",
      "2023-07-22 13:21:25,338 [lmk.jupyter.widget:thread - DEBUG] Acquired lock\n",
      "2023-07-22 13:21:25,338 [lmk.jupyter.widget:thread - DEBUG] Acquired lock\n",
      "2023-07-22 13:21:25,338 [lmk.jupyter.widget:thread - INFO] Started: 1690057285328 (2023-07-22T20:21:25.328000+00:00), finished: 1690057285329 (2023-07-22T20:21:25.329000+00:00)\n",
      "2023-07-22 13:21:25,338 [lmk.jupyter.widget:thread - DEBUG] Sending ws message: {'url': 'http://localhost:8888/lab/workspaces/auto-h/tree/Hello.ipynb', 'notebookName': 'Hello', 'shellState': 'running', 'cellState': 'success', 'cellText': 'stdout = lmk.jupyter.get_widget().thread.stdout', 'cellError': None, 'executionNum': 6, 'cellStartedAt': '2023-07-22T20:21:25.328000+00:00', 'cellFinishedAt': '2023-07-22T20:21:25.329000+00:00', 'notifyOn': 'none', 'notifyChannel': None}\n",
      "2023-07-22 13:21:25,339 [lmk.jupyter.widget:thread - DEBUG] Sent ws message\n",
      "2023-07-22 13:21:26,043 [lmk.jupyter.widget:thread - ERROR] Error in websocket: {'ok': False, 'message': {'statusCode': 500, 'message': 'Internal server error'}}\n",
      "2023-07-22 13:21:26,352 [lmk.jupyter.widget:thread - DEBUG] Change of `jupyter_state` from <IPythonShellState.Running: 'running'> to <IPythonShellState.Idle: 'idle'>\n",
      "2023-07-22 13:21:26,356 [lmk.jupyter.widget:thread - DEBUG] Acquired lock\n",
      "2023-07-22 13:21:26,356 [lmk.jupyter.widget:thread - INFO] Started: 1690057285328 (2023-07-22T20:21:25.328000+00:00), finished: 1690057285329 (2023-07-22T20:21:25.329000+00:00)\n",
      "2023-07-22 13:21:26,356 [lmk.jupyter.widget:thread - DEBUG] Sending ws message: {'url': 'http://localhost:8888/lab/workspaces/auto-h/tree/Hello.ipynb', 'notebookName': 'Hello', 'shellState': 'idle', 'cellState': 'success', 'cellText': 'stdout = lmk.jupyter.get_widget().thread.stdout', 'cellError': None, 'executionNum': 6, 'cellStartedAt': '2023-07-22T20:21:25.328000+00:00', 'cellFinishedAt': '2023-07-22T20:21:25.329000+00:00', 'notifyOn': 'none', 'notifyChannel': None}\n",
      "2023-07-22 13:21:26,358 [lmk.jupyter.widget:thread - DEBUG] Sent ws message\n",
      "2023-07-22 13:21:27,065 [lmk.jupyter.widget:thread - ERROR] Error in websocket: {'ok': False, 'message': {'statusCode': 500, 'message': 'Internal server error'}}\n",
      "2023-07-22 13:21:28,088 [lmk.jupyter.widget:thread - ERROR] Error in websocket: {'ok': False, 'message': {'statusCode': 500, 'message': 'Internal server error'}}\n",
      "2023-07-22 13:21:29,107 [lmk.jupyter.widget:thread - ERROR] Error in websocket: {'ok': False, 'message': {'statusCode': 500, 'message': 'Internal server error'}}\n",
      "2023-07-22 13:21:30,165 [lmk.jupyter.widget:thread - ERROR] Error in websocket: {'ok': False, 'message': {'statusCode': 500, 'message': 'Internal server error'}}\n",
      "2023-07-22 13:21:31,184 [lmk.jupyter.widget:thread - ERROR] Error in websocket: {'ok': False, 'message': {'statusCode': 500, 'message': 'Internal server error'}}\n",
      "2023-07-22 13:21:32,198 [lmk.jupyter.widget:thread - ERROR] Error in websocket: {'ok': False, 'message': {'statusCode': 500, 'message': 'Internal server error'}}\n",
      "2023-07-22 13:21:33,219 [lmk.jupyter.widget:thread - ERROR] Error in websocket: {'ok': False, 'message': {'statusCode': 500, 'message': 'Internal server error'}}\n",
      "2023-07-22 13:21:34,243 [lmk.jupyter.widget:thread - ERROR] Error in websocket: {'ok': False, 'message': {'statusCode': 500, 'message': 'Internal server error'}}\n",
      "2023-07-22 13:21:35,262 [lmk.jupyter.widget:thread - ERROR] Error in websocket: {'ok': False, 'message': {'statusCode': 500, 'message': 'Internal server error'}}\n",
      "2023-07-22 13:21:36,285 [lmk.jupyter.widget:thread - ERROR] Error in websocket: {'ok': False, 'message': {'statusCode': 500, 'message': 'Internal server error'}}\n",
      "2023-07-22 13:21:37,307 [lmk.jupyter.widget:thread - ERROR] Error in websocket: {'ok': False, 'message': {'statusCode': 500, 'message': 'Internal server error'}}\n",
      "2023-07-22 13:21:38,324 [lmk.jupyter.widget:thread - ERROR] Error in websocket: {'ok': False, 'message': {'statusCode': 500, 'message': 'Internal server error'}}\n",
      "2023-07-22 13:21:39,341 [lmk.jupyter.widget:thread - ERROR] Error in websocket: {'ok': False, 'message': {'statusCode': 500, 'message': 'Internal server error'}}\n",
      "2023-07-22 13:21:40,364 [lmk.jupyter.widget:thread - ERROR] Error in websocket: {'ok': False, 'message': {'statusCode': 500, 'message': 'Internal server error'}}\n",
      "2023-07-22 13:21:41,382 [lmk.jupyter.widget:thread - ERROR] Error in websocket: {'ok': False, 'message': {'statusCode': 500, 'message': 'Internal server error'}}\n",
      "2023-07-22 13:21:42,404 [lmk.jupyter.widget:thread - ERROR] Error in websocket: {'ok': False, 'message': {'statusCode': 500, 'message': 'Internal server error'}}\n",
      "2023-07-22 13:21:43,425 [lmk.jupyter.widget:thread - ERROR] Error in websocket: {'ok': False, 'message': {'statusCode': 500, 'message': 'Internal server error'}}\n",
      "2023-07-22 13:21:44,444 [lmk.jupyter.widget:thread - ERROR] Error in websocket: {'ok': False, 'message': {'statusCode': 500, 'message': 'Internal server error'}}\n",
      "2023-07-22 13:21:45,462 [lmk.jupyter.widget:thread - ERROR] Error in websocket: {'ok': False, 'message': {'statusCode': 500, 'message': 'Internal server error'}}\n",
      "2023-07-22 13:21:46,479 [lmk.jupyter.widget:thread - ERROR] Error in websocket: {'ok': False, 'message': {'statusCode': 500, 'message': 'Internal server error'}}\n",
      "2023-07-22 13:21:47,545 [lmk.jupyter.widget:thread - ERROR] Error in websocket: {'ok': False, 'message': {'statusCode': 500, 'message': 'Internal server error'}}\n",
      "2023-07-22 13:21:48,568 [lmk.jupyter.widget:thread - ERROR] Error in websocket: {'ok': False, 'message': {'statusCode': 500, 'message': 'Internal server error'}}\n",
      "2023-07-22 13:21:49,593 [lmk.jupyter.widget:thread - ERROR] Error in websocket: {'ok': False, 'message': {'statusCode': 500, 'message': 'Internal server error'}}\n",
      "2023-07-22 13:21:50,613 [lmk.jupyter.widget:thread - ERROR] Error in websocket: {'ok': False, 'message': {'statusCode': 500, 'message': 'Internal server error'}}\n",
      "2023-07-22 13:21:51,636 [lmk.jupyter.widget:thread - ERROR] Error in websocket: {'ok': False, 'message': {'statusCode': 500, 'message': 'Internal server error'}}\n",
      "2023-07-22 13:21:52,654 [lmk.jupyter.widget:thread - ERROR] Error in websocket: {'ok': False, 'message': {'statusCode': 500, 'message': 'Internal server error'}}\n",
      "2023-07-22 13:21:53,668 [lmk.jupyter.widget:thread - ERROR] Error in websocket: {'ok': False, 'message': {'statusCode': 500, 'message': 'Internal server error'}}\n",
      "2023-07-22 13:21:54,680 [lmk.jupyter.widget:thread - ERROR] Error in websocket: {'ok': False, 'message': {'statusCode': 500, 'message': 'Internal server error'}}\n",
      "2023-07-22 13:21:55,706 [lmk.jupyter.widget:thread - ERROR] Error in websocket: {'ok': False, 'message': {'statusCode': 500, 'message': 'Internal server error'}}\n",
      "2023-07-22 13:21:56,725 [lmk.jupyter.widget:thread - ERROR] Error in websocket: {'ok': False, 'message': {'statusCode': 500, 'message': 'Internal server error'}}\n",
      "2023-07-22 13:21:57,251 [lmk.jupyter.widget:thread - DEBUG] Update from session: {'ok': True, 'message': {'type': 'update', 'connected': True, 'session': {'sessionId': '1b3d60a5-cff5-4f73-bd90-85258926ae6f', 'name': 'Hello', 'type': 'jupyter', 'state': {'url': 'http://localhost:8888/lab/workspaces/auto-h/tree/Hello.ipynb', 'type': 'jupyter', 'cellText': 'lmk.jupyter', 'notifyOn': 'none', 'cellError': None, 'cellState': 'success', 'shellState': 'idle', 'executionNum': 3, 'notebookName': 'Hello', 'cellStartedAt': '2023-07-22T20:17:28.206000+00:00', 'notifyChannel': None, 'cellFinishedAt': '2023-07-22T20:17:28.213000+00:00'}, 'createdAt': '2023-07-22T20:17:26.848Z', 'createdByActor': {'actorId': '46330fd0-0181-46f9-831d-390df6ebc650', 'name': 'LMK Python Library', 'type': 'APP', 'iconUrl': 'http://localhost:3001/app-icons/python.png'}, 'lastUpdatedAt': '2023-07-22T20:17:30.321Z', 'lastUpdatedByActor': {'actorId': '46330fd0-0181-46f9-831d-390df6ebc650', 'name': 'LMK Python Library', 'type': 'APP', 'iconUrl': 'http://localhost:3001/app-icons/python.png'}, 'endedAt': None, 'endedByActor': None}}}\n",
      "2023-07-22 13:22:09,820 [lmk.jupyter.widget:thread - ERROR] Error in websocket: {'ok': False, 'message': {'statusCode': 500, 'message': 'Internal server error'}}\n",
      "2023-07-22 13:22:10,847 [lmk.jupyter.widget:thread - ERROR] Error in websocket: {'ok': False, 'message': {'statusCode': 500, 'message': 'Internal server error'}}\n",
      "2023-07-22 13:22:11,866 [lmk.jupyter.widget:thread - ERROR] Error in websocket: {'ok': False, 'message': {'statusCode': 500, 'message': 'Internal server error'}}\n",
      "2023-07-22 13:22:12,889 [lmk.jupyter.widget:thread - ERROR] Error in websocket: {'ok': False, 'message': {'statusCode': 500, 'message': 'Internal server error'}}\n",
      "2023-07-22 13:22:13,909 [lmk.jupyter.widget:thread - ERROR] Error in websocket: {'ok': False, 'message': {'statusCode': 500, 'message': 'Internal server error'}}\n",
      "2023-07-22 13:22:14,926 [lmk.jupyter.widget:thread - ERROR] Error in websocket: {'ok': False, 'message': {'statusCode': 500, 'message': 'Internal server error'}}\n",
      "2023-07-22 13:22:15,943 [lmk.jupyter.widget:thread - ERROR] Error in websocket: {'ok': False, 'message': {'statusCode': 500, 'message': 'Internal server error'}}\n",
      "2023-07-22 13:22:16,959 [lmk.jupyter.widget:thread - ERROR] Error in websocket: {'ok': False, 'message': {'statusCode': 500, 'message': 'Internal server error'}}\n",
      "2023-07-22 13:22:17,972 [lmk.jupyter.widget:thread - ERROR] Error in websocket: {'ok': False, 'message': {'statusCode': 500, 'message': 'Internal server error'}}\n",
      "2023-07-22 13:22:18,994 [lmk.jupyter.widget:thread - ERROR] Error in websocket: {'ok': False, 'message': {'statusCode': 500, 'message': 'Internal server error'}}\n",
      "2023-07-22 13:22:20,013 [lmk.jupyter.widget:thread - ERROR] Error in websocket: {'ok': False, 'message': {'statusCode': 500, 'message': 'Internal server error'}}\n",
      "2023-07-22 13:22:21,033 [lmk.jupyter.widget:thread - ERROR] Error in websocket: {'ok': False, 'message': {'statusCode': 500, 'message': 'Internal server error'}}\n",
      "2023-07-22 13:22:22,055 [lmk.jupyter.widget:thread - ERROR] Error in websocket: {'ok': False, 'message': {'statusCode': 500, 'message': 'Internal server error'}}\n",
      "2023-07-22 13:22:23,074 [lmk.jupyter.widget:thread - ERROR] Error in websocket: {'ok': False, 'message': {'statusCode': 500, 'message': 'Internal server error'}}\n",
      "2023-07-22 13:22:24,105 [lmk.jupyter.widget:thread - ERROR] Error in websocket: {'ok': False, 'message': {'statusCode': 500, 'message': 'Internal server error'}}\n",
      "2023-07-22 13:22:25,130 [lmk.jupyter.widget:thread - ERROR] Error in websocket: {'ok': False, 'message': {'statusCode': 500, 'message': 'Internal server error'}}\n",
      "2023-07-22 13:22:26,151 [lmk.jupyter.widget:thread - ERROR] Error in websocket: {'ok': False, 'message': {'statusCode': 500, 'message': 'Internal server error'}}\n",
      "2023-07-22 13:22:27,168 [lmk.jupyter.widget:thread - ERROR] Error in websocket: {'ok': False, 'message': {'statusCode': 500, 'message': 'Internal server error'}}\n",
      "2023-07-22 13:22:28,196 [lmk.jupyter.widget:thread - ERROR] Error in websocket: {'ok': False, 'message': {'statusCode': 500, 'message': 'Internal server error'}}\n",
      "2023-07-22 13:22:29,220 [lmk.jupyter.widget:thread - ERROR] Error in websocket: {'ok': False, 'message': {'statusCode': 500, 'message': 'Internal server error'}}\n",
      "2023-07-22 13:22:30,241 [lmk.jupyter.widget:thread - ERROR] Error in websocket: {'ok': False, 'message': {'statusCode': 500, 'message': 'Internal server error'}}\n",
      "2023-07-22 13:22:31,256 [lmk.jupyter.widget:thread - ERROR] Error in websocket: {'ok': False, 'message': {'statusCode': 500, 'message': 'Internal server error'}}\n",
      "2023-07-22 13:22:32,275 [lmk.jupyter.widget:thread - ERROR] Error in websocket: {'ok': False, 'message': {'statusCode': 500, 'message': 'Internal server error'}}\n",
      "2023-07-22 13:22:33,291 [lmk.jupyter.widget:thread - ERROR] Error in websocket: {'ok': False, 'message': {'statusCode': 500, 'message': 'Internal server error'}}\n",
      "2023-07-22 13:22:34,307 [lmk.jupyter.widget:thread - ERROR] Error in websocket: {'ok': False, 'message': {'statusCode': 500, 'message': 'Internal server error'}}\n",
      "2023-07-22 13:22:35,325 [lmk.jupyter.widget:thread - ERROR] Error in websocket: {'ok': False, 'message': {'statusCode': 500, 'message': 'Internal server error'}}\n",
      "2023-07-22 13:22:36,347 [lmk.jupyter.widget:thread - ERROR] Error in websocket: {'ok': False, 'message': {'statusCode': 500, 'message': 'Internal server error'}}\n",
      "2023-07-22 13:22:37,370 [lmk.jupyter.widget:thread - ERROR] Error in websocket: {'ok': False, 'message': {'statusCode': 500, 'message': 'Internal server error'}}\n",
      "2023-07-22 13:22:38,391 [lmk.jupyter.widget:thread - ERROR] Error in websocket: {'ok': False, 'message': {'statusCode': 500, 'message': 'Internal server error'}}\n",
      "2023-07-22 13:22:39,412 [lmk.jupyter.widget:thread - ERROR] Error in websocket: {'ok': False, 'message': {'statusCode': 500, 'message': 'Internal server error'}}\n",
      "2023-07-22 13:22:40,431 [lmk.jupyter.widget:thread - ERROR] Error in websocket: {'ok': False, 'message': {'statusCode': 500, 'message': 'Internal server error'}}\n",
      "2023-07-22 13:22:41,441 [lmk.jupyter.widget:thread - ERROR] Error in websocket: {'ok': False, 'message': {'statusCode': 500, 'message': 'Internal server error'}}\n",
      "2023-07-22 13:22:42,456 [lmk.jupyter.widget:thread - ERROR] Error in websocket: {'ok': False, 'message': {'statusCode': 500, 'message': 'Internal server error'}}\n",
      "2023-07-22 13:22:43,468 [lmk.jupyter.widget:thread - ERROR] Error in websocket: {'ok': False, 'message': {'statusCode': 500, 'message': 'Internal server error'}}\n",
      "2023-07-22 13:22:44,481 [lmk.jupyter.widget:thread - ERROR] Error in websocket: {'ok': False, 'message': {'statusCode': 500, 'message': 'Internal server error'}}\n",
      "2023-07-22 13:22:45,500 [lmk.jupyter.widget:thread - ERROR] Error in websocket: {'ok': False, 'message': {'statusCode': 500, 'message': 'Internal server error'}}\n",
      "2023-07-22 13:22:46,520 [lmk.jupyter.widget:thread - ERROR] Error in websocket: {'ok': False, 'message': {'statusCode': 500, 'message': 'Internal server error'}}\n",
      "2023-07-22 13:22:47,532 [lmk.jupyter.widget:thread - ERROR] Error in websocket: {'ok': False, 'message': {'statusCode': 500, 'message': 'Internal server error'}}\n",
      "2023-07-22 13:22:48,552 [lmk.jupyter.widget:thread - ERROR] Error in websocket: {'ok': False, 'message': {'statusCode': 500, 'message': 'Internal server error'}}\n",
      "2023-07-22 13:22:49,570 [lmk.jupyter.widget:thread - ERROR] Error in websocket: {'ok': False, 'message': {'statusCode': 500, 'message': 'Internal server error'}}\n",
      "2023-07-22 13:22:50,586 [lmk.jupyter.widget:thread - ERROR] Error in websocket: {'ok': False, 'message': {'statusCode': 500, 'message': 'Internal server error'}}\n",
      "2023-07-22 13:22:51,598 [lmk.jupyter.widget:thread - ERROR] Error in websocket: {'ok': False, 'message': {'statusCode': 500, 'message': 'Internal server error'}}\n",
      "2023-07-22 13:22:52,615 [lmk.jupyter.widget:thread - ERROR] Error in websocket: {'ok': False, 'message': {'statusCode': 500, 'message': 'Internal server error'}}\n",
      "2023-07-22 13:22:53,633 [lmk.jupyter.widget:thread - ERROR] Error in websocket: {'ok': False, 'message': {'statusCode': 500, 'message': 'Internal server error'}}\n",
      "2023-07-22 13:22:54,659 [lmk.jupyter.widget:thread - ERROR] Error in websocket: {'ok': False, 'message': {'statusCode': 500, 'message': 'Internal server error'}}\n",
      "2023-07-22 13:22:55,678 [lmk.jupyter.widget:thread - ERROR] Error in websocket: {'ok': False, 'message': {'statusCode': 500, 'message': 'Internal server error'}}\n",
      "2023-07-22 13:22:56,698 [lmk.jupyter.widget:thread - ERROR] Error in websocket: {'ok': False, 'message': {'statusCode': 500, 'message': 'Internal server error'}}\n",
      "2023-07-22 13:22:57,722 [lmk.jupyter.widget:thread - ERROR] Error in websocket: {'ok': False, 'message': {'statusCode': 500, 'message': 'Internal server error'}}\n",
      "2023-07-22 13:22:57,748 [lmk.jupyter.widget:thread - DEBUG] Update from session: {'ok': True, 'message': {'type': 'update', 'connected': True, 'session': {'sessionId': '1b3d60a5-cff5-4f73-bd90-85258926ae6f', 'name': 'Hello', 'type': 'jupyter', 'state': {'url': 'http://localhost:8888/lab/workspaces/auto-h/tree/Hello.ipynb', 'type': 'jupyter', 'cellText': 'lmk.jupyter', 'notifyOn': 'none', 'cellError': None, 'cellState': 'success', 'shellState': 'idle', 'executionNum': 3, 'notebookName': 'Hello', 'cellStartedAt': '2023-07-22T20:17:28.206000+00:00', 'notifyChannel': None, 'cellFinishedAt': '2023-07-22T20:17:28.213000+00:00'}, 'createdAt': '2023-07-22T20:17:26.848Z', 'createdByActor': {'actorId': '46330fd0-0181-46f9-831d-390df6ebc650', 'name': 'LMK Python Library', 'type': 'APP', 'iconUrl': 'http://localhost:3001/app-icons/python.png'}, 'lastUpdatedAt': '2023-07-22T20:17:30.321Z', 'lastUpdatedByActor': {'actorId': '46330fd0-0181-46f9-831d-390df6ebc650', 'name': 'LMK Python Library', 'type': 'APP', 'iconUrl': 'http://localhost:3001/app-icons/python.png'}, 'endedAt': None, 'endedByActor': None}}}\n",
      "2023-07-22 13:23:54,593 [lmk.jupyter.widget:thread - DEBUG] Change of `jupyter_state` from <IPythonShellState.Idle: 'idle'> to <IPythonShellState.Running: 'running'>\n",
      "2023-07-22 13:23:54,594 [lmk.jupyter.widget:thread - DEBUG] Change of `jupyter_execution_num` from 6 to 7\n",
      "2023-07-22 13:23:54,594 [lmk.jupyter.widget:thread - DEBUG] Change of `jupyter_cell_state` from <IPythonCellStateType.Success: 'success'> to <IPythonCellStateType.Running: 'running'>\n",
      "2023-07-22 13:23:54,595 [lmk.jupyter.widget:thread - DEBUG] Change of `jupyter_cell_started_at` from 1690057285328 to 1690057434593\n",
      "2023-07-22 13:23:54,595 [lmk.jupyter.widget:thread - DEBUG] Change of `jupyter_cell_finished_at` from 1690057285329 to None\n",
      "2023-07-22 13:23:54,598 [lmk.jupyter.widget:thread - DEBUG] Change of `jupyter_cell_state` from <IPythonCellStateType.Running: 'running'> to <IPythonCellStateType.Success: 'success'>\n",
      "2023-07-22 13:23:54,598 [lmk.jupyter.widget:thread - DEBUG] Change of `jupyter_cell_finished_at` from None to 1690057434597\n",
      "2023-07-22 13:23:54,635 [lmk.jupyter.widget:thread - DEBUG] Acquired lock\n",
      "2023-07-22 13:23:54,636 [lmk.jupyter.widget:thread - DEBUG] Acquired lock\n",
      "2023-07-22 13:23:54,636 [lmk.jupyter.widget:thread - DEBUG] Acquired lock\n",
      "2023-07-22 13:23:54,636 [lmk.jupyter.widget:thread - DEBUG] Acquired lock\n",
      "2023-07-22 13:23:54,636 [lmk.jupyter.widget:thread - DEBUG] Acquired lock\n",
      "2023-07-22 13:23:54,636 [lmk.jupyter.widget:thread - DEBUG] Acquired lock\n",
      "2023-07-22 13:23:54,636 [lmk.jupyter.widget:thread - INFO] Started: 1690057434593 (2023-07-22T20:23:54.593000+00:00), finished: 1690057434597 (2023-07-22T20:23:54.597000+00:00)\n",
      "2023-07-22 13:23:54,636 [lmk.jupyter.widget:thread - DEBUG] Sending ws message: {'url': 'http://localhost:8888/lab/workspaces/auto-h/tree/Hello.ipynb', 'notebookName': 'Hello', 'shellState': 'running', 'cellState': 'success', 'cellText': 'stdout = lmk.jupyter.get_widget().thread.stdout', 'cellError': None, 'executionNum': 7, 'cellStartedAt': '2023-07-22T20:23:54.593000+00:00', 'cellFinishedAt': '2023-07-22T20:23:54.597000+00:00', 'notifyOn': 'none', 'notifyChannel': None}\n",
      "2023-07-22 13:23:54,638 [lmk.jupyter.widget:thread - DEBUG] Sent ws message\n",
      "2023-07-22 13:23:54,702 [lmk.jupyter.widget:thread - DEBUG] Update from session: {'ok': True, 'message': {'type': 'update', 'connected': True, 'session': {'sessionId': '1b3d60a5-cff5-4f73-bd90-85258926ae6f', 'name': 'Hello', 'type': 'jupyter', 'state': {'url': 'http://localhost:8888/lab/workspaces/auto-h/tree/Hello.ipynb', 'type': 'jupyter', 'cellText': 'stdout = lmk.jupyter.get_widget().thread.stdout', 'notifyOn': 'none', 'cellError': None, 'cellState': 'success', 'shellState': 'running', 'executionNum': 7, 'notebookName': 'Hello', 'cellStartedAt': '2023-07-22T20:23:54.593000+00:00', 'notifyChannel': None, 'cellFinishedAt': '2023-07-22T20:23:54.597000+00:00'}, 'createdAt': '2023-07-22T20:17:26.848Z', 'createdByActor': {'actorId': '46330fd0-0181-46f9-831d-390df6ebc650', 'name': 'LMK Python Library', 'type': 'APP', 'iconUrl': 'http://localhost:3001/app-icons/python.png'}, 'lastUpdatedAt': '2023-07-22T20:23:54.646Z', 'lastUpdatedByActor': {'actorId': '46330fd0-0181-46f9-831d-390df6ebc650', 'name': 'LMK Python Library', 'type': 'APP', 'iconUrl': 'http://localhost:3001/app-icons/python.png'}, 'endedAt': None, 'endedByActor': None}}}\n",
      "2023-07-22 13:23:55,645 [lmk.jupyter.widget:thread - DEBUG] Change of `jupyter_state` from <IPythonShellState.Running: 'running'> to <IPythonShellState.Idle: 'idle'>\n",
      "2023-07-22 13:23:55,646 [lmk.jupyter.widget:thread - DEBUG] Acquired lock\n",
      "2023-07-22 13:23:55,646 [lmk.jupyter.widget:thread - INFO] Started: 1690057434593 (2023-07-22T20:23:54.593000+00:00), finished: 1690057434597 (2023-07-22T20:23:54.597000+00:00)\n",
      "2023-07-22 13:23:55,646 [lmk.jupyter.widget:thread - DEBUG] Sending ws message: {'url': 'http://localhost:8888/lab/workspaces/auto-h/tree/Hello.ipynb', 'notebookName': 'Hello', 'shellState': 'idle', 'cellState': 'success', 'cellText': 'stdout = lmk.jupyter.get_widget().thread.stdout', 'cellError': None, 'executionNum': 7, 'cellStartedAt': '2023-07-22T20:23:54.593000+00:00', 'cellFinishedAt': '2023-07-22T20:23:54.597000+00:00', 'notifyOn': 'none', 'notifyChannel': None}\n",
      "2023-07-22 13:23:55,646 [lmk.jupyter.widget:thread - DEBUG] Sent ws message\n",
      "2023-07-22 13:23:55,686 [lmk.jupyter.widget:thread - DEBUG] Update from session: {'ok': True, 'message': {'type': 'update', 'connected': True, 'session': {'sessionId': '1b3d60a5-cff5-4f73-bd90-85258926ae6f', 'name': 'Hello', 'type': 'jupyter', 'state': {'url': 'http://localhost:8888/lab/workspaces/auto-h/tree/Hello.ipynb', 'type': 'jupyter', 'cellText': 'stdout = lmk.jupyter.get_widget().thread.stdout', 'notifyOn': 'none', 'cellError': None, 'cellState': 'success', 'shellState': 'idle', 'executionNum': 7, 'notebookName': 'Hello', 'cellStartedAt': '2023-07-22T20:23:54.593000+00:00', 'notifyChannel': None, 'cellFinishedAt': '2023-07-22T20:23:54.597000+00:00'}, 'createdAt': '2023-07-22T20:17:26.848Z', 'createdByActor': {'actorId': '46330fd0-0181-46f9-831d-390df6ebc650', 'name': 'LMK Python Library', 'type': 'APP', 'iconUrl': 'http://localhost:3001/app-icons/python.png'}, 'lastUpdatedAt': '2023-07-22T20:23:55.651Z', 'lastUpdatedByActor': {'actorId': '46330fd0-0181-46f9-831d-390df6ebc650', 'name': 'LMK Python Library', 'type': 'APP', 'iconUrl': 'http://localhost:3001/app-icons/python.png'}, 'endedAt': None, 'endedByActor': None}}}\n",
      "2023-07-22 13:23:56,199 [lmk.jupyter.widget:thread - DEBUG] Change of `jupyter_state` from <IPythonShellState.Idle: 'idle'> to <IPythonShellState.Running: 'running'>\n",
      "2023-07-22 13:23:56,199 [lmk.jupyter.widget:thread - DEBUG] Change of `jupyter_execution_num` from 7 to 8\n",
      "2023-07-22 13:23:56,199 [lmk.jupyter.widget:thread - DEBUG] Change of `jupyter_cell_text` from 'stdout = lmk.jupyter.get_widget().thread.stdout' to 'print(stdout.getvalue())'\n",
      "2023-07-22 13:23:56,200 [lmk.jupyter.widget:thread - DEBUG] Change of `jupyter_cell_state` from <IPythonCellStateType.Success: 'success'> to <IPythonCellStateType.Running: 'running'>\n",
      "2023-07-22 13:23:56,200 [lmk.jupyter.widget:thread - DEBUG] Change of `jupyter_cell_started_at` from 1690057434593 to 1690057436199\n",
      "2023-07-22 13:23:56,201 [lmk.jupyter.widget:thread - DEBUG] Change of `jupyter_cell_finished_at` from 1690057434597 to None\n",
      "\n"
     ]
    }
   ],
   "source": [
    "print(stdout.getvalue())"
   ]
  },
  {
   "cell_type": "code",
   "execution_count": 6,
   "id": "7fd73a09-5259-41e9-ba2a-8e69f9454ca7",
   "metadata": {
    "tags": []
   },
   "outputs": [
    {
     "ename": "Exception",
     "evalue": "hello\nhello\nhello\nhello\nhello\nhello\nhello\nhello\nhello\nhello\nhello\nhello\nhello\nhello\nhello\nhello\nhello\nhello\nhello\nhello\nhello\nhello\nhello\nhello\nhello\nhello\nhello\nhello\nhello\nhello\nhello\nhello\nhello\nhello\nhello\nhello\nhello\nhello\nhello\nhello\nhello\nhello\nhello\nhello\nhello\nhello\nhello\nhello\nhello\nhello\nhello\nhello\nhello\nhello\nhello\nhello\nhello\nhello\nhello\nhello\nhello\nhello\nhello\nhello\nhello\nhello\nhello\nhello\nhello\nhello\nhello\nhello\nhello\nhello\nhello\nhello\nhello\nhello\nhello\nhello\nhello\nhello\nhello\nhello\nhello\nhello\nhello\nhello\nhello\nhello\nhello\nhello\nhello\nhello\nhello\nhello\nhello\nhello\nhello\nhello\n",
     "output_type": "error",
     "traceback": [
      "\u001b[0;31m---------------------------------------------------------------------------\u001b[0m",
      "\u001b[0;31mException\u001b[0m                                 Traceback (most recent call last)",
      "Cell \u001b[0;32mIn[6], line 1\u001b[0m\n\u001b[0;32m----> 1\u001b[0m \u001b[38;5;28;01mraise\u001b[39;00m \u001b[38;5;167;01mException\u001b[39;00m(\u001b[38;5;124m\"\u001b[39m\u001b[38;5;124mhello\u001b[39m\u001b[38;5;130;01m\\n\u001b[39;00m\u001b[38;5;124m\"\u001b[39m \u001b[38;5;241m*\u001b[39m \u001b[38;5;241m100\u001b[39m)\n",
      "\u001b[0;31mException\u001b[0m: hello\nhello\nhello\nhello\nhello\nhello\nhello\nhello\nhello\nhello\nhello\nhello\nhello\nhello\nhello\nhello\nhello\nhello\nhello\nhello\nhello\nhello\nhello\nhello\nhello\nhello\nhello\nhello\nhello\nhello\nhello\nhello\nhello\nhello\nhello\nhello\nhello\nhello\nhello\nhello\nhello\nhello\nhello\nhello\nhello\nhello\nhello\nhello\nhello\nhello\nhello\nhello\nhello\nhello\nhello\nhello\nhello\nhello\nhello\nhello\nhello\nhello\nhello\nhello\nhello\nhello\nhello\nhello\nhello\nhello\nhello\nhello\nhello\nhello\nhello\nhello\nhello\nhello\nhello\nhello\nhello\nhello\nhello\nhello\nhello\nhello\nhello\nhello\nhello\nhello\nhello\nhello\nhello\nhello\nhello\nhello\nhello\nhello\nhello\nhello\n"
     ]
    }
   ],
   "source": [
    "raise Exception(\"hello\\n\" * 100)"
   ]
  },
  {
   "cell_type": "code",
   "execution_count": 7,
   "id": "e9bd2994-8325-4907-a78d-ff39f2562514",
   "metadata": {},
   "outputs": [
    {
     "name": "stdout",
     "output_type": "stream",
     "text": [
      "START 2023-07-18T05:02:49.822059\n",
      "END 2023-07-18T05:03:27.281084\n"
     ]
    },
    {
     "ename": "KeyboardInterrupt",
     "evalue": "",
     "output_type": "error",
     "traceback": [
      "\u001b[0;31m---------------------------------------------------------------------------\u001b[0m",
      "\u001b[0;31mKeyboardInterrupt\u001b[0m                         Traceback (most recent call last)",
      "Cell \u001b[0;32mIn[7], line 5\u001b[0m\n\u001b[1;32m      3\u001b[0m \u001b[38;5;28;01mtry\u001b[39;00m:\n\u001b[1;32m      4\u001b[0m     \u001b[38;5;28;01mfor\u001b[39;00m _ \u001b[38;5;129;01min\u001b[39;00m \u001b[38;5;28mrange\u001b[39m(\u001b[38;5;241m100\u001b[39m):\n\u001b[0;32m----> 5\u001b[0m         time\u001b[38;5;241m.\u001b[39msleep(\u001b[38;5;241m1\u001b[39m)\n\u001b[1;32m      6\u001b[0m \u001b[38;5;28;01mfinally\u001b[39;00m:\n\u001b[1;32m      7\u001b[0m     \u001b[38;5;28mprint\u001b[39m(\u001b[38;5;124m\"\u001b[39m\u001b[38;5;124mEND\u001b[39m\u001b[38;5;124m\"\u001b[39m, datetime\u001b[38;5;241m.\u001b[39mutcnow()\u001b[38;5;241m.\u001b[39misoformat())\n",
      "\u001b[0;31mKeyboardInterrupt\u001b[0m: "
     ]
    }
   ],
   "source": [
    "from datetime import datetime\n",
    "print(\"START\", datetime.utcnow().isoformat())\n",
    "try:\n",
    "    for _ in range(100):\n",
    "        time.sleep(1)\n",
    "finally:\n",
    "    print(\"END\", datetime.utcnow().isoformat())"
   ]
  },
  {
   "cell_type": "code",
   "execution_count": 7,
   "id": "f491f9c9-a305-4c91-9a5d-8e1d4df75faa",
   "metadata": {
    "tags": []
   },
   "outputs": [],
   "source": [
    "w = lmk.jupyter.get_widget()"
   ]
  },
  {
   "cell_type": "code",
   "execution_count": 8,
   "id": "c4a2d984-e49e-4a5d-beae-a05486a642eb",
   "metadata": {
    "tags": []
   },
   "outputs": [
    {
     "ename": "AttributeError",
     "evalue": "'BaseComm' object has no attribute 'observe'",
     "output_type": "error",
     "traceback": [
      "\u001b[0;31m---------------------------------------------------------------------------\u001b[0m",
      "\u001b[0;31mAttributeError\u001b[0m                            Traceback (most recent call last)",
      "Cell \u001b[0;32mIn[8], line 1\u001b[0m\n\u001b[0;32m----> 1\u001b[0m help(\u001b[43mw\u001b[49m\u001b[38;5;241;43m.\u001b[39;49m\u001b[43mcomm\u001b[49m\u001b[38;5;241;43m.\u001b[39;49m\u001b[43mobserve\u001b[49m)\n",
      "\u001b[0;31mAttributeError\u001b[0m: 'BaseComm' object has no attribute 'observe'"
     ]
    }
   ],
   "source": [
    "help(w.comm.observe)"
   ]
  },
  {
   "cell_type": "code",
   "execution_count": 9,
   "id": "09fcffc5-1bdc-484b-be96-a53bb855db9f",
   "metadata": {
    "tags": []
   },
   "outputs": [
    {
     "data": {
      "text/plain": [
       "['__annotations__',\n",
       " '__class__',\n",
       " '__del__',\n",
       " '__delattr__',\n",
       " '__dict__',\n",
       " '__dir__',\n",
       " '__doc__',\n",
       " '__eq__',\n",
       " '__format__',\n",
       " '__ge__',\n",
       " '__getattribute__',\n",
       " '__getstate__',\n",
       " '__gt__',\n",
       " '__hash__',\n",
       " '__init__',\n",
       " '__init_subclass__',\n",
       " '__le__',\n",
       " '__lt__',\n",
       " '__module__',\n",
       " '__ne__',\n",
       " '__new__',\n",
       " '__reduce__',\n",
       " '__reduce_ex__',\n",
       " '__repr__',\n",
       " '__setattr__',\n",
       " '__sizeof__',\n",
       " '__str__',\n",
       " '__subclasshook__',\n",
       " '__weakref__',\n",
       " '_close_callback',\n",
       " '_close_data',\n",
       " '_closed',\n",
       " '_msg_callback',\n",
       " '_open_data',\n",
       " 'close',\n",
       " 'comm_id',\n",
       " 'handle_close',\n",
       " 'handle_msg',\n",
       " 'kernel',\n",
       " 'on_close',\n",
       " 'on_msg',\n",
       " 'open',\n",
       " 'primary',\n",
       " 'publish_msg',\n",
       " 'send',\n",
       " 'target_module',\n",
       " 'target_name',\n",
       " 'topic']"
      ]
     },
     "execution_count": 9,
     "metadata": {},
     "output_type": "execute_result"
    }
   ],
   "source": [
    "dir(w.comm)"
   ]
  },
  {
   "cell_type": "code",
   "execution_count": 11,
   "id": "673cca3d-a850-4c53-8e78-fd95fa5029f8",
   "metadata": {},
   "outputs": [
    {
     "name": "stdout",
     "output_type": "stream",
     "text": [
      "Help on method on_msg in module comm.base_comm:\n",
      "\n",
      "on_msg(callback) method of ipykernel.comm.comm.BaseComm instance\n",
      "    Register a callback for comm_msg\n",
      "    \n",
      "    Will be called with the `data` of any comm_msg messages.\n",
      "    \n",
      "    Call `on_msg(None)` to disable an existing callback.\n",
      "\n"
     ]
    }
   ],
   "source": [
    "help(w.comm.on_msg)"
   ]
  },
  {
   "cell_type": "code",
   "execution_count": 12,
   "id": "2dcaf618-1238-4564-a778-1d26f56c10c2",
   "metadata": {},
   "outputs": [
    {
     "data": {
      "text/plain": [
       "<bound method _show_traceback.<locals>.m of LMKWidget()>"
      ]
     },
     "execution_count": 12,
     "metadata": {},
     "output_type": "execute_result"
    }
   ],
   "source": [
    "w.comm._msg_callback"
   ]
  },
  {
   "cell_type": "code",
   "execution_count": 13,
   "id": "6188b39a-4290-48f3-aefd-56d4c080e3b3",
   "metadata": {
    "tags": []
   },
   "outputs": [
    {
     "data": {
      "text/plain": [
       "<ipykernel.comm.comm.BaseComm at 0x106b1ea10>"
      ]
     },
     "execution_count": 13,
     "metadata": {},
     "output_type": "execute_result"
    }
   ],
   "source": [
    "w.comm"
   ]
  },
  {
   "cell_type": "code",
   "execution_count": null,
   "id": "cfacaa47-ae95-44a8-b071-fe7ddba28d24",
   "metadata": {},
   "outputs": [],
   "source": []
  }
 ],
 "metadata": {
  "kernelspec": {
   "display_name": "Python 3 (ipykernel)",
   "language": "python",
   "name": "python3"
  },
  "language_info": {
   "codemirror_mode": {
    "name": "ipython",
    "version": 3
   },
   "file_extension": ".py",
   "mimetype": "text/x-python",
   "name": "python",
   "nbconvert_exporter": "python",
   "pygments_lexer": "ipython3",
   "version": "3.11.3"
  }
 },
 "nbformat": 4,
 "nbformat_minor": 5
}
