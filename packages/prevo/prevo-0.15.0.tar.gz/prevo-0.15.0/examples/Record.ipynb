{
 "cells": [
  {
   "cell_type": "code",
   "execution_count": 1,
   "metadata": {},
   "outputs": [],
   "source": [
    "from prevo.record import RecordBase, RecordingBase, SensorBase\n",
    "from prevo.csv import RecordingToCsv\n",
    "from prevo.misc import DummyPressureSensor, DummyTemperatureSensor\n",
    "import pandas as pd\n",
    "%matplotlib tk"
   ]
  },
  {
   "cell_type": "markdown",
   "metadata": {},
   "source": [
    "# Define sensors"
   ]
  },
  {
   "cell_type": "code",
   "execution_count": 2,
   "metadata": {},
   "outputs": [],
   "source": [
    "class Sensor(SensorBase):\n",
    "    \"\"\"Provide methods common to all sensors\"\"\"\n",
    "    \n",
    "    def  _get_data(self):\n",
    "        \"\"\"Automatically add time and time uncertainty in data dict.\n",
    "        \n",
    "        If one does not want to add time info to measurements, or if one\n",
    "        wants to use time info from the sensors themselves, the method\n",
    "        _read() must be subclassed instead of _get_data().\n",
    "        \"\"\"\n",
    "        measurement = self.device.read()\n",
    "        return tuple(measurement.values())"
   ]
  },
  {
   "cell_type": "code",
   "execution_count": 3,
   "metadata": {},
   "outputs": [],
   "source": [
    "class PressureSensor(Sensor):\n",
    "    \n",
    "    name = 'P'\n",
    "    \n",
    "    # This will be the names of columns in the CSV file\n",
    "    # (as can be seen below, time columns are also added automatically)\n",
    "    data_names = 'P1', 'P2', 'P3'\n",
    "    \n",
    "    # data_types is useful only when using live graphs\n",
    "    data_types = 'P (Pa)', 'P (Pa)', 'P (mbar)'\n",
    "    \n",
    "    def __init__(self):\n",
    "        self.device = DummyPressureSensor()\n",
    "\n",
    "\n",
    "class TemperatureSensor(Sensor):\n",
    "    \n",
    "    name = 'T'\n",
    "    data_names = 'T1', 'T2'\n",
    "    data_types = 'T (°C)', 'T (°C)'\n",
    "    \n",
    "    def __init__(self):\n",
    "        self.device = DummyTemperatureSensor()"
   ]
  },
  {
   "cell_type": "code",
   "execution_count": 4,
   "metadata": {},
   "outputs": [
    {
     "data": {
      "text/plain": [
       "{'values': (3170.1163596469946, 2338.3641050654473, 17.10450680140587),\n",
       " 'time (unix)': 1690556987.7869794,\n",
       " 'dt (s)': 0.00011152098886668682}"
      ]
     },
     "execution_count": 4,
     "metadata": {},
     "output_type": "execute_result"
    }
   ],
   "source": [
    "with PressureSensor() as sensor:\n",
    "    data = sensor.read()\n",
    "data"
   ]
  },
  {
   "cell_type": "markdown",
   "metadata": {},
   "source": [
    "# Define recordings / record objects"
   ]
  },
  {
   "cell_type": "code",
   "execution_count": 5,
   "metadata": {},
   "outputs": [],
   "source": [
    "class Recording(RecordingToCsv, RecordingBase):\n",
    "    \"\"\"Recording class that defines how to read and handle data from sensors.\"\"\"\n",
    "\n",
    "    def __init__(self, Sensor, programs=()):\n",
    "        \"\"\"The 'programs' argument will be used only further below and\n",
    "        can be ignored in simple situations.\"\"\"\n",
    "\n",
    "        column_names = ('time (unix)', 'dt (s)') + Sensor.data_names\n",
    "        filename = 'Pressure.tsv' if Sensor.name == 'P' else 'Temperature.tsv'\n",
    "\n",
    "        RecordingBase.__init__(self, Sensor=Sensor, path='data', programs=programs)\n",
    "        RecordingToCsv.__init__(self, path='data', filename=filename, column_names=column_names)\n",
    "       \n",
    " \n",
    "class Record(RecordBase):\n",
    "    \"\"\"For simple cases no subclassing is necessary\"\"\"\n",
    "    pass"
   ]
  },
  {
   "cell_type": "markdown",
   "metadata": {},
   "source": [
    "# Start recording"
   ]
  },
  {
   "cell_type": "markdown",
   "metadata": {},
   "source": [
    "**IMPORTANT NOTE**: Below, by default recordings are OFF (`on=False`) option. After starting the recording, turn them on by typing `on True` in the CLI"
   ]
  },
  {
   "cell_type": "code",
   "execution_count": 6,
   "metadata": {},
   "outputs": [
    {
     "name": "stdout",
     "output_type": "stream",
     "text": [
      "Recording started in folder /Users/olivier.vincent/Python-OV/prevo/examples\n"
     ]
    },
    {
     "name": "stdout",
     "output_type": "stream",
     "text": [
      "Type command (help: ?):  q\n"
     ]
    },
    {
     "name": "stdout",
     "output_type": "stream",
     "text": [
      "CLI stopped\n",
      "Recording Stopped\n"
     ]
    }
   ],
   "source": [
    "recordings = Recording(PressureSensor), Recording(TemperatureSensor)\n",
    "record = Record(recordings, dt=3, dt_P=0.5, on=False)\n",
    "record.start()"
   ]
  },
  {
   "cell_type": "code",
   "execution_count": 10,
   "metadata": {},
   "outputs": [
    {
     "data": {
      "text/html": [
       "<div>\n",
       "<style scoped>\n",
       "    .dataframe tbody tr th:only-of-type {\n",
       "        vertical-align: middle;\n",
       "    }\n",
       "\n",
       "    .dataframe tbody tr th {\n",
       "        vertical-align: top;\n",
       "    }\n",
       "\n",
       "    .dataframe thead th {\n",
       "        text-align: right;\n",
       "    }\n",
       "</style>\n",
       "<table border=\"1\" class=\"dataframe\">\n",
       "  <thead>\n",
       "    <tr style=\"text-align: right;\">\n",
       "      <th></th>\n",
       "      <th>time (unix)</th>\n",
       "      <th>dt (s)</th>\n",
       "      <th>P1</th>\n",
       "      <th>P2</th>\n",
       "      <th>P3</th>\n",
       "    </tr>\n",
       "  </thead>\n",
       "  <tbody>\n",
       "    <tr>\n",
       "      <th>0</th>\n",
       "      <td>1.690554e+09</td>\n",
       "      <td>0.000053</td>\n",
       "      <td>3170.086843</td>\n",
       "      <td>2338.395726</td>\n",
       "      <td>17.264083</td>\n",
       "    </tr>\n",
       "    <tr>\n",
       "      <th>1</th>\n",
       "      <td>1.690554e+09</td>\n",
       "      <td>0.000022</td>\n",
       "      <td>3170.464515</td>\n",
       "      <td>2339.049874</td>\n",
       "      <td>17.473451</td>\n",
       "    </tr>\n",
       "    <tr>\n",
       "      <th>2</th>\n",
       "      <td>1.690554e+09</td>\n",
       "      <td>0.000031</td>\n",
       "      <td>3170.758837</td>\n",
       "      <td>2339.919008</td>\n",
       "      <td>17.527811</td>\n",
       "    </tr>\n",
       "    <tr>\n",
       "      <th>3</th>\n",
       "      <td>1.690554e+09</td>\n",
       "      <td>0.000035</td>\n",
       "      <td>3170.433966</td>\n",
       "      <td>2339.869703</td>\n",
       "      <td>17.532837</td>\n",
       "    </tr>\n",
       "    <tr>\n",
       "      <th>4</th>\n",
       "      <td>1.690554e+09</td>\n",
       "      <td>0.000053</td>\n",
       "      <td>3170.340078</td>\n",
       "      <td>2338.567331</td>\n",
       "      <td>17.117914</td>\n",
       "    </tr>\n",
       "  </tbody>\n",
       "</table>\n",
       "</div>"
      ],
      "text/plain": [
       "    time (unix)    dt (s)           P1           P2         P3\n",
       "0  1.690554e+09  0.000053  3170.086843  2338.395726  17.264083\n",
       "1  1.690554e+09  0.000022  3170.464515  2339.049874  17.473451\n",
       "2  1.690554e+09  0.000031  3170.758837  2339.919008  17.527811\n",
       "3  1.690554e+09  0.000035  3170.433966  2339.869703  17.532837\n",
       "4  1.690554e+09  0.000053  3170.340078  2338.567331  17.117914"
      ]
     },
     "execution_count": 10,
     "metadata": {},
     "output_type": "execute_result"
    }
   ],
   "source": [
    "pressure_data = pd.read_csv('data/Pressure.tsv', sep='\\t')\n",
    "pressure_data.head()"
   ]
  },
  {
   "cell_type": "code",
   "execution_count": 11,
   "metadata": {},
   "outputs": [
    {
     "data": {
      "text/plain": [
       "<Axes: xlabel='time (unix)'>"
      ]
     },
     "execution_count": 11,
     "metadata": {},
     "output_type": "execute_result"
    }
   ],
   "source": [
    "pressure_data.plot(x='time (unix)', y='P1', style='o')"
   ]
  },
  {
   "cell_type": "markdown",
   "metadata": {},
   "source": [
    "# Program recording"
   ]
  },
  {
   "cell_type": "markdown",
   "metadata": {},
   "source": [
    "It is possible to program recording properties, for example to change automatically the time interval between data points after some time, or to start / stop recording certain sensors at given times."
   ]
  },
  {
   "cell_type": "code",
   "execution_count": 9,
   "metadata": {},
   "outputs": [
    {
     "name": "stderr",
     "output_type": "stream",
     "text": [
      "/Users/olivier.vincent/Python-OV/prevo/prevo/control/program.py:208: UserWarning: Matplotlib is currently using module://matplotlib_inline.backend_inline, which is a non-GUI backend, so cannot show the figure.\n",
      "  fig.show()\n"
     ]
    },
    {
     "data": {
      "image/png": "[encoded data removed]",
      "text/plain": [
       "<Figure size 640x480 with 1 Axes>"
      ]
     },
     "metadata": {},
     "output_type": "display_data"
    },
    {
     "data": {
      "image/png": "[encoded data removed]",
      "text/plain": [
       "<Figure size 640x480 with 1 Axes>"
      ]
     },
     "metadata": {},
     "output_type": "display_data"
    }
   ],
   "source": [
    "from prevo.control import Program, Stairs\n",
    "\n",
    "prog_dt = Stairs(duration='::5', dt=[0.2, 0.5])\n",
    "prog_on = Program(durations=('::', '::17', '::'), on=[False, True, True])\n",
    "\n",
    "prog_dt.plot(time_unit='s')\n",
    "prog_on.plot(time_unit='s')"
   ]
  },
  {
   "cell_type": "code",
   "execution_count": 12,
   "metadata": {},
   "outputs": [
    {
     "name": "stdout",
     "output_type": "stream",
     "text": [
      "Recording started in folder /Users/olivier.vincent/Python-OV/prevo/examples\n",
      "[2023-07-28 16:27:35] ------ PROGRAM (on)--- NEW CYCLE 1 / 1\n",
      "\n",
      "[2023-07-28 16:27:35] ------ PROGRAM (on)--- NEW CYCLE 1 / 1\n",
      "\n",
      "[2023-07-28 16:27:35] ------ PROGRAM (dt)--- NEW CYCLE 1 / 1\n",
      "\n",
      "[2023-07-28 16:27:47] ------ PROGRAM (dt)--- FINISHED\n",
      "\n",
      "[2023-07-28 16:27:54] ------ PROGRAM (on)--- FINISHED\n",
      "\n",
      "[2023-07-28 16:27:54] ------ PROGRAM (on)--- FINISHED\n",
      "\n",
      "CLI stopped\n",
      "Recording Stopped\n"
     ]
    }
   ],
   "source": [
    "# With these options, the time interval of the pressure recording will oscillate\n",
    "# between 0.2 and 0.5 seconds every 5 seconds, and both recordings will stop\n",
    "# after 17 seconds.\n",
    "# The 'path' argument of the recording\n",
    "\n",
    "recordings = (\n",
    "    Recording(PressureSensor, programs=(prog_on, prog_dt)),\n",
    "    Recording(TemperatureSensor, programs=(prog_on,)),\n",
    ")\n",
    "Record(recordings).start()\n"
   ]
  },
  {
   "cell_type": "code",
   "execution_count": 17,
   "metadata": {},
   "outputs": [
    {
     "data": {
      "text/plain": [
       "<Axes: xlabel='time (unix)'>"
      ]
     },
     "execution_count": 17,
     "metadata": {},
     "output_type": "execute_result"
    },
    {
     "data": {
      "image/png": "[encoded data removed]",
      "text/plain": [
       "<Figure size 640x480 with 1 Axes>"
      ]
     },
     "metadata": {},
     "output_type": "display_data"
    }
   ],
   "source": [
    "pressure_data = pd.read_csv('data/Pressure.tsv', sep='\\t')\n",
    "pressure_data['dt'] = pressure_data['time (unix)'].diff()\n",
    "pressure_data.plot(x='time (unix)', y='dt', style='ok')"
   ]
  },
  {
   "cell_type": "markdown",
   "metadata": {},
   "source": [
    "# View recorded data in real time"
   ]
  },
  {
   "cell_type": "markdown",
   "metadata": {},
   "source": [
    "**ATTENTION**, this section requires the use of an interactive backend for matplotlib (e.g. tk or qt)\n",
    "\n",
    "The record class must be subclassed to indicate what to do when a graphing event is requested in the CLI during recording\n",
    "(this is done by typing `g` or `graph`)"
   ]
  },
  {
   "cell_type": "code",
   "execution_count": 9,
   "metadata": {},
   "outputs": [],
   "source": [
    "from prevo.plot import NumericalGraph\n",
    "\n",
    "Sensors = PressureSensor, TemperatureSensor\n",
    "data_types = {Sensor.name: Sensor.data_types for Sensor in Sensors}\n",
    "\n",
    "\n",
    "class RecordWithGraph(Record):\n",
    "\n",
    "    def data_plot(self):\n",
    "        \"\"\"What to do when graph event is triggered.\"\"\"\n",
    "        \n",
    "        print(self.recordings)\n",
    "        \n",
    "        graph = NumericalGraph(names=self.recordings, data_types=data_types)\n",
    "        \n",
    "        # Note that the data for plotting is automatically added to the queue\n",
    "        # self.q_plot when the graph is triggered.\n",
    "        # Passing the e_stop and e_graph arguments allows to connect the\n",
    "        # graph object to events from the CLI.\n",
    "        graph.run(q_plot=self.q_plot,\n",
    "                  e_stop=self.e_stop,\n",
    "                  e_graph=self.e_graph)"
   ]
  },
  {
   "cell_type": "code",
   "execution_count": 11,
   "metadata": {},
   "outputs": [
    {
     "name": "stdout",
     "output_type": "stream",
     "text": [
      "Recording started in folder /Users/olivier.vincent/Python-OV/prevo/examples\n"
     ]
    },
    {
     "name": "stdout",
     "output_type": "stream",
     "text": [
      "Type command (help: ?):  g\n"
     ]
    },
    {
     "name": "stdout",
     "output_type": "stream",
     "text": [
      "Graph event requested\n",
      "{'P': Recording (P), 'T': Recording (T)}\n"
     ]
    },
    {
     "name": "stdout",
     "output_type": "stream",
     "text": [
      "Type command (help: ?):  q\n"
     ]
    },
    {
     "name": "stdout",
     "output_type": "stream",
     "text": [
      "CLI stopped\n",
      "Recording Stopped\n"
     ]
    }
   ],
   "source": [
    "recordings = Recording(PressureSensor), Recording(TemperatureSensor)\n",
    "record = RecordWithGraph(recordings).start()"
   ]
  },
  {
   "cell_type": "markdown",
   "metadata": {},
   "source": []
  },
  {
   "cell_type": "code",
   "execution_count": null,
   "metadata": {},
   "outputs": [],
   "source": []
  }
 ],
 "metadata": {
  "kernelspec": {
   "display_name": "Python 3 (ipykernel)",
   "language": "python",
   "name": "python3"
  },
  "language_info": {
   "codemirror_mode": {
    "name": "ipython",
    "version": 3
   },
   "file_extension": ".py",
   "mimetype": "text/x-python",
   "name": "python",
   "nbconvert_exporter": "python",
   "pygments_lexer": "ipython3",
   "version": "3.10.9"
  }
 },
 "nbformat": 4,
 "nbformat_minor": 4
}
