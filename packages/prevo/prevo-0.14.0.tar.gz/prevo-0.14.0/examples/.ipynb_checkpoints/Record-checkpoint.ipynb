{
 "cells": [
  {
   "cell_type": "code",
   "execution_count": 8,
   "metadata": {},
   "outputs": [],
   "source": [
    "from prevo.record import RecordBase, RecordingBase, SensorBase\n",
    "from prevo.csv import RecordingToCsv\n",
    "from prevo.misc import DummyPressureSensor, DummyTemperatureSensor\n",
    "import oclock"
   ]
  },
  {
   "cell_type": "markdown",
   "metadata": {},
   "source": [
    "# Define sensors"
   ]
  },
  {
   "cell_type": "code",
   "execution_count": 9,
   "metadata": {},
   "outputs": [],
   "source": [
    "class Sensor(SensorBase):\n",
    "    \"\"\"Provide methods common to all sensors\"\"\"\n",
    "    \n",
    "    def  _read(self):\n",
    "        # Automatically add time and time uncertainty in data dict\n",
    "        with oclock.measure_time() as data:\n",
    "            measurement = self.device.read()\n",
    "            data['values'] = tuple(measurement.values())\n",
    "        return data"
   ]
  },
  {
   "cell_type": "code",
   "execution_count": 10,
   "metadata": {},
   "outputs": [],
   "source": [
    "class PressureSensor(Sensor):\n",
    "    \n",
    "    name = 'P'\n",
    "    \n",
    "    # This will be the names of columns in the CSV file\n",
    "    # (as can be seen below, time columns are also added automatically)\n",
    "    data_names = 'P1', 'P2', 'P3'\n",
    "    \n",
    "    # data_types is useful only when using live graphs\n",
    "    data_types = 'P (Pa)', 'P (Pa)', 'P (mbar)'\n",
    "    \n",
    "    def __init__(self):\n",
    "        self.device = DummyPressureSensor()\n",
    "\n",
    "\n",
    "class TemperatureSensor(Sensor):\n",
    "    \n",
    "    name = 'T'\n",
    "    data_names = 'T1', 'T2'\n",
    "    data_types = 'T (°C)', 'T (°C)', 'P (mbar)'\n",
    "    \n",
    "    def __init__(self):\n",
    "        self.device = DummyTemperatureSensor()"
   ]
  },
  {
   "cell_type": "code",
   "execution_count": 11,
   "metadata": {},
   "outputs": [
    {
     "data": {
      "text/plain": [
       "{'values': (3170.1983562037894, 2339.1402954700634, 17.147716760090333),\n",
       " 'time (unix)': 1688998547.8844986,\n",
       " 'dt (s)': 7.875001756474376e-06}"
      ]
     },
     "execution_count": 11,
     "metadata": {},
     "output_type": "execute_result"
    }
   ],
   "source": [
    "with PressureSensor() as sensor:\n",
    "    data = sensor.read()\n",
    "data"
   ]
  },
  {
   "cell_type": "code",
   "execution_count": 12,
   "metadata": {},
   "outputs": [
    {
     "data": {
      "text/plain": [
       "{'P': __main__.PressureSensor, 'T': __main__.TemperatureSensor}"
      ]
     },
     "execution_count": 12,
     "metadata": {},
     "output_type": "execute_result"
    }
   ],
   "source": [
    "Sensors = {Sensor.name: Sensor for Sensor in (PressureSensor, TemperatureSensor)}\n",
    "Sensors"
   ]
  },
  {
   "cell_type": "markdown",
   "metadata": {},
   "source": [
    "# Define recordings"
   ]
  },
  {
   "cell_type": "code",
   "execution_count": 13,
   "metadata": {},
   "outputs": [],
   "source": [
    "class Recording(RecordingToCsv, RecordingBase):\n",
    "    \"\"\"Recording class that defines how to read and handle data from sensors.\"\"\"\n",
    "\n",
    "    def __init__(self, name):\n",
    "        \n",
    "        Sensor = Sensors[name]\n",
    "        column_names = ('time (unix)', 'dt (s)') + Sensor.data_names\n",
    "        filename = 'Pressure.tsv' if name == 'P' else 'Temperature.tsv'\n",
    "\n",
    "        RecordingBase.__init__(self, Sensor=Sensors[name], dt=2)\n",
    "        RecordingToCsv.__init__(self, path='data', filename=filename, column_names=column_names)\n",
    "        \n",
    "recordings = {name: Recording(name) for name in ('P', 'T')}"
   ]
  },
  {
   "cell_type": "markdown",
   "metadata": {},
   "source": [
    "# Start recording"
   ]
  },
  {
   "cell_type": "code",
   "execution_count": 22,
   "metadata": {},
   "outputs": [
    {
     "name": "stdout",
     "output_type": "stream",
     "text": [
      "Recording started in folder /Users/olivier.vincent/Python-OV/prevo/examples/data\n"
     ]
    },
    {
     "name": "stdin",
     "output_type": "stream",
     "text": [
      "Type command (help: ?):  dt\n"
     ]
    },
    {
     "name": "stdout",
     "output_type": "stream",
     "text": [
      "Δt (s)\n",
      "P---N/A\n",
      "T---N/A\n"
     ]
    },
    {
     "name": "stdin",
     "output_type": "stream",
     "text": [
      "Type command (help: ?):  dt 10\n",
      "Type command (help: ?):  dt\n"
     ]
    },
    {
     "name": "stdout",
     "output_type": "stream",
     "text": [
      "Δt (s)\n",
      "P---N/A\n",
      "T---N/A\n"
     ]
    },
    {
     "name": "stdin",
     "output_type": "stream",
     "text": [
      "Type command (help: ?):  q\n"
     ]
    },
    {
     "name": "stdout",
     "output_type": "stream",
     "text": [
      "CLI stopped\n",
      "Recording Stopped\n"
     ]
    }
   ],
   "source": [
    "class Record(RecordBase):\n",
    "    \"\"\"For simple cases no subclassing is necessary\"\"\"\n",
    "    pass\n",
    "\n",
    "# This makes you able to control the interval between datapoints in real time\n",
    "properties = {'timer.interval': {'repr': 'Δt (s)',\n",
    "                                 'commands': ('dt',),\n",
    "                                 }}\n",
    "\n",
    "record = Record(recordings,\n",
    "                properties=properties,\n",
    "                path='data')\n",
    "\n",
    "record.start()"
   ]
  },
  {
   "cell_type": "code",
   "execution_count": 19,
   "metadata": {},
   "outputs": [],
   "source": [
    "recording = Recording('P')"
   ]
  },
  {
   "cell_type": "code",
   "execution_count": 20,
   "metadata": {},
   "outputs": [
    {
     "data": {
      "text/plain": [
       "<class 'oclock.timer.Timer'>, name 'P', interval 2s, warnings OFF"
      ]
     },
     "execution_count": 20,
     "metadata": {},
     "output_type": "execute_result"
    }
   ],
   "source": [
    "recording.timer"
   ]
  },
  {
   "cell_type": "code",
   "execution_count": null,
   "metadata": {},
   "outputs": [],
   "source": []
  }
 ],
 "metadata": {
  "kernelspec": {
   "display_name": "Python 3 (ipykernel)",
   "language": "python",
   "name": "python3"
  },
  "language_info": {
   "codemirror_mode": {
    "name": "ipython",
    "version": 3
   },
   "file_extension": ".py",
   "mimetype": "text/x-python",
   "name": "python",
   "nbconvert_exporter": "python",
   "pygments_lexer": "ipython3",
   "version": "3.10.9"
  }
 },
 "nbformat": 4,
 "nbformat_minor": 4
}
