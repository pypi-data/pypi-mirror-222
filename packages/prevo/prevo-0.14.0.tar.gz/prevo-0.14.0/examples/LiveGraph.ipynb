{
 "cells": [
  {
   "cell_type": "code",
   "execution_count": 1,
   "metadata": {},
   "outputs": [],
   "source": [
    "from prevo.misc import PeriodicSensor, PeriodicTimedSensor\n",
    "from prevo.misc import DummyPressureSensor, DummyTemperatureSensor, DummyElectricalSensor\n",
    "from prevo.plot import OscilloGraph, NumericalGraph\n",
    "%matplotlib qt5"
   ]
  },
  {
   "cell_type": "markdown",
   "metadata": {},
   "source": [
    "# Dummy sensors"
   ]
  },
  {
   "cell_type": "markdown",
   "metadata": {},
   "source": [
    "### Raw sensors"
   ]
  },
  {
   "cell_type": "code",
   "execution_count": 3,
   "metadata": {},
   "outputs": [],
   "source": [
    "pressure_sensor = DummyPressureSensor()\n",
    "temperature_sensor = DummyTemperatureSensor()\n",
    "electrical_sensor = DummyElectricalSensor(interval=0.1, npts=20)"
   ]
  },
  {
   "cell_type": "code",
   "execution_count": 4,
   "metadata": {},
   "outputs": [
    {
     "data": {
      "text/plain": [
       "{'P1 (Pa)': 3170.4669897831877,\n",
       " 'P2 (Pa)': 2338.7523702845797,\n",
       " 'P3 (mbar)': 17.501152753700588}"
      ]
     },
     "execution_count": 4,
     "metadata": {},
     "output_type": "execute_result"
    }
   ],
   "source": [
    "pressure_sensor.read()"
   ]
  },
  {
   "cell_type": "markdown",
   "metadata": {},
   "source": [
    "### Periodic reading of sensors"
   ]
  },
  {
   "cell_type": "code",
   "execution_count": 5,
   "metadata": {},
   "outputs": [],
   "source": [
    "class PressureReading(PeriodicTimedSensor):\n",
    "    \"\"\"Returns individual readings of pressure at each time step\"\"\"\n",
    "    \n",
    "    name = 'P'\n",
    "    data_types = 'P (Pa)', 'P (Pa)', 'P (mbar)'\n",
    "    \n",
    "    def _read_sensor(self):\n",
    "        return tuple(pressure_sensor.read().values())\n",
    "    \n",
    "\n",
    "class TemperatureReading(PeriodicTimedSensor):\n",
    "    \"\"\"Returns individual readings of temperature at each time step\"\"\"\n",
    "    \n",
    "    name = 'T'\n",
    "    data_types = 'T (°C)', 'T (°C)'\n",
    "    \n",
    "    def _read_sensor(self):\n",
    "        return tuple(temperature_sensor.read().values())\n",
    "   \n",
    "\n",
    "class ElectricalReading(PeriodicSensor):\n",
    "    \"\"\"Returns arrays of readings corresponding to different times\"\"\"\n",
    "    \n",
    "    name = 'V'\n",
    "    data_types = 'voltage (V)', 'voltage (V)'\n",
    "    \n",
    "    def _read(self):\n",
    "        data = electrical_sensor.read()\n",
    "        return {'time (unix)': data[0],\n",
    "                'values': data[1:],\n",
    "                'name': self.name}\n",
    "    \n",
    "pressure_reading = PressureReading(interval=0.02)\n",
    "temperature_reading = TemperatureReading(interval=0.7)\n",
    "electrical_reading = ElectricalReading(interval=0.1)\n",
    "\n",
    "readings = pressure_reading, temperature_reading, electrical_reading"
   ]
  },
  {
   "cell_type": "markdown",
   "metadata": {},
   "source": [
    "### Misc. sensor config"
   ]
  },
  {
   "cell_type": "code",
   "execution_count": 6,
   "metadata": {},
   "outputs": [],
   "source": [
    "data_types = {reading.name: reading.data_types for reading in readings}\n",
    "\n",
    "data_ranges = {'P (Pa)': (1000, 4000),\n",
    "               'P (mbar)': (10, 40),\n",
    "               'T (°C)': (20, 30),\n",
    "               'voltage (V)': (-0.5, 1.5)}"
   ]
  },
  {
   "cell_type": "markdown",
   "metadata": {},
   "source": [
    "### Start periodic sensor reading"
   ]
  },
  {
   "cell_type": "code",
   "execution_count": 7,
   "metadata": {},
   "outputs": [],
   "source": [
    "for reading in readings:\n",
    "    reading.start()"
   ]
  },
  {
   "cell_type": "code",
   "execution_count": 8,
   "metadata": {},
   "outputs": [
    {
     "data": {
      "text/plain": [
       "{'time (unix)': 1672933675.0776129,\n",
       " 'dt (s)': 1.0050000000205728e-05,\n",
       " 'values': (3170.795120263172, 2339.8305866730802, 17.426911764020705),\n",
       " 'name': 'P'}"
      ]
     },
     "execution_count": 8,
     "metadata": {},
     "output_type": "execute_result"
    }
   ],
   "source": [
    "pressure_reading.queue.get()"
   ]
  },
  {
   "cell_type": "markdown",
   "metadata": {},
   "source": [
    "# Live Graphs of sensors"
   ]
  },
  {
   "cell_type": "code",
   "execution_count": 9,
   "metadata": {},
   "outputs": [],
   "source": [
    "colors = {'fig': 'lightgrey',   # set color of figure background around axes\n",
    "          'T': ('k', 'b')}      # set color of curves of the two channels of sensor T\n",
    "\n",
    "legends = {'P': ('Inlet', 'Outlet', 'Chamber')}\n",
    "\n",
    "linestyles = {'T': ('-', '--')}"
   ]
  },
  {
   "cell_type": "markdown",
   "metadata": {},
   "source": [
    "## Regular numerical plot"
   ]
  },
  {
   "cell_type": "markdown",
   "metadata": {},
   "source": [
    "**ATTENTION**: one may need to restart the kernel after running one of the examples below, in order to run another example"
   ]
  },
  {
   "cell_type": "markdown",
   "metadata": {},
   "source": [
    "### Data as single time values"
   ]
  },
  {
   "cell_type": "code",
   "execution_count": null,
   "metadata": {},
   "outputs": [
    {
     "name": "stderr",
     "output_type": "stream",
     "text": [
      "No handles with labels found to put in legend.\n"
     ]
    }
   ],
   "source": [
    "numplot = NumericalGraph(names=('P', 'T'),\n",
    "                         data_types=data_types,\n",
    "                         legends=legends,\n",
    "                         linestyles=linestyles,\n",
    "                         linestyle='.-',\n",
    "                         colors=colors)\n",
    "\n",
    "numplot.run(q_plot={'P': pressure_reading.queue,\n",
    "                    'T': temperature_reading.queue},\n",
    "            dt_graph=0.2)"
   ]
  },
  {
   "cell_type": "markdown",
   "metadata": {},
   "source": [
    "### Data as arrays"
   ]
  },
  {
   "cell_type": "code",
   "execution_count": null,
   "metadata": {},
   "outputs": [],
   "source": [
    "numplot = NumericalGraph(names=('V',),\n",
    "                         data_types=data_types,\n",
    "                         data_as_array=True)\n",
    "\n",
    "numplot.run(q_plot={'V': electrical_reading.queue}, dt_graph=0.2)"
   ]
  },
  {
   "cell_type": "markdown",
   "metadata": {},
   "source": [
    "### Mix of single times and arrays"
   ]
  },
  {
   "cell_type": "code",
   "execution_count": null,
   "metadata": {},
   "outputs": [],
   "source": [
    "numplot = NumericalGraph(names=('P', 'V'),\n",
    "                         data_types=data_types,\n",
    "                         data_as_array={'P': False, 'V': True},\n",
    "                         time_conversion='pandas')\n",
    "\n",
    "numplot.run(q_plot={'P': pressure_reading.queue,\n",
    "                    'V': electrical_reading.queue},\n",
    "            dt_graph=0.2)"
   ]
  },
  {
   "cell_type": "markdown",
   "metadata": {},
   "source": [
    "## Oscilloscope-like graph"
   ]
  },
  {
   "cell_type": "markdown",
   "metadata": {},
   "source": [
    "### Data as single time values"
   ]
  },
  {
   "cell_type": "code",
   "execution_count": null,
   "metadata": {},
   "outputs": [
    {
     "name": "stderr",
     "output_type": "stream",
     "text": [
      "No handles with labels found to put in legend.\n"
     ]
    }
   ],
   "source": [
    "oscillo = OscilloGraph(names=('P', 'T'),\n",
    "                       data_types=data_types,\n",
    "                       data_ranges=data_ranges,\n",
    "                       window_width=10,\n",
    "                       colors=colors,\n",
    "                       legends=legends,\n",
    "                       linestyles=linestyles)\n",
    "\n",
    "oscillo.run(q_plot={'P': pressure_reading.queue,\n",
    "                    'T': temperature_reading.queue},\n",
    "            dt_graph=0.02)"
   ]
  },
  {
   "cell_type": "markdown",
   "metadata": {},
   "source": [
    "### Data as arrays"
   ]
  },
  {
   "cell_type": "code",
   "execution_count": null,
   "metadata": {},
   "outputs": [],
   "source": [
    "oscillo = OscilloGraph(names=('V',),\n",
    "                       data_types=data_types,\n",
    "                       data_ranges=data_ranges,\n",
    "                       window_width=5.7,\n",
    "                       data_as_array=True)\n",
    "\n",
    "oscillo.run(q_plot={'V': electrical_reading.queue}, dt_graph=0.02)"
   ]
  },
  {
   "cell_type": "markdown",
   "metadata": {},
   "source": [
    "### Mix of single times and arrays"
   ]
  },
  {
   "cell_type": "code",
   "execution_count": null,
   "metadata": {},
   "outputs": [],
   "source": [
    "oscillo = OscilloGraph(names=('P', 'T', 'V'),\n",
    "                       data_types=data_types,\n",
    "                       data_ranges=data_ranges,\n",
    "                       window_width=5.7,\n",
    "                       colors=colors,\n",
    "                       data_as_array={'P': False, 'T': False, 'V': True})\n",
    "\n",
    "oscillo.run(q_plot={'P': pressure_reading.queue,\n",
    "                    'T': temperature_reading.queue,\n",
    "                    'V': electrical_reading.queue},\n",
    "            dt_graph=0.02)"
   ]
  },
  {
   "cell_type": "markdown",
   "metadata": {},
   "source": [
    "# Stop dummy sensors"
   ]
  },
  {
   "cell_type": "code",
   "execution_count": null,
   "metadata": {},
   "outputs": [],
   "source": [
    "for reading in readings:\n",
    "    reading.stop()"
   ]
  },
  {
   "cell_type": "code",
   "execution_count": null,
   "metadata": {},
   "outputs": [],
   "source": []
  }
 ],
 "metadata": {
  "kernelspec": {
   "display_name": "Python 3",
   "language": "python",
   "name": "python3"
  },
  "language_info": {
   "codemirror_mode": {
    "name": "ipython",
    "version": 3
   },
   "file_extension": ".py",
   "mimetype": "text/x-python",
   "name": "python",
   "nbconvert_exporter": "python",
   "pygments_lexer": "ipython3",
   "version": "3.8.5"
  }
 },
 "nbformat": 4,
 "nbformat_minor": 4
}
