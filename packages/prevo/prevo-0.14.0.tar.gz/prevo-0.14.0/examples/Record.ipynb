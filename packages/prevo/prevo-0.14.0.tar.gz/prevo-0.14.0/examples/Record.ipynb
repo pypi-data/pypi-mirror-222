{
 "cells": [
  {
   "cell_type": "code",
   "execution_count": 1,
   "metadata": {},
   "outputs": [],
   "source": [
    "from prevo.record import RecordBase, RecordingBase, SensorBase\n",
    "from prevo.csv import RecordingToCsv\n",
    "from prevo.misc import DummyPressureSensor, DummyTemperatureSensor\n",
    "import pandas as pd\n",
    "import oclock"
   ]
  },
  {
   "attachments": {},
   "cell_type": "markdown",
   "metadata": {},
   "source": []
  },
  {
   "attachments": {},
   "cell_type": "markdown",
   "metadata": {},
   "source": [
    "# Define sensors"
   ]
  },
  {
   "cell_type": "code",
   "execution_count": 2,
   "metadata": {},
   "outputs": [],
   "source": [
    "class Sensor(SensorBase):\n",
    "    \"\"\"Provide methods common to all sensors\"\"\"\n",
    "    \n",
    "    def  _read(self):\n",
    "        # Automatically add time and time uncertainty in data dict\n",
    "        with oclock.measure_time() as data:\n",
    "            measurement = self.device.read()\n",
    "            data['values'] = tuple(measurement.values())\n",
    "        return data"
   ]
  },
  {
   "cell_type": "code",
   "execution_count": 3,
   "metadata": {},
   "outputs": [],
   "source": [
    "class PressureSensor(Sensor):\n",
    "    \n",
    "    name = 'P'\n",
    "    \n",
    "    # This will be the names of columns in the CSV file\n",
    "    # (as can be seen below, time columns are also added automatically)\n",
    "    data_names = 'P1', 'P2', 'P3'\n",
    "    \n",
    "    # data_types is useful only when using live graphs\n",
    "    data_types = 'P (Pa)', 'P (Pa)', 'P (mbar)'\n",
    "    \n",
    "    def __init__(self):\n",
    "        self.device = DummyPressureSensor()\n",
    "\n",
    "\n",
    "class TemperatureSensor(Sensor):\n",
    "    \n",
    "    name = 'T'\n",
    "    data_names = 'T1', 'T2'\n",
    "    data_types = 'T (°C)', 'T (°C)', 'P (mbar)'\n",
    "    \n",
    "    def __init__(self):\n",
    "        self.device = DummyTemperatureSensor()"
   ]
  },
  {
   "cell_type": "code",
   "execution_count": 4,
   "metadata": {},
   "outputs": [
    {
     "data": {
      "text/plain": [
       "{'values': (3170.897578861687, 2338.380319679982, 17.282422994294976),\n",
       " 'time (unix)': 1689172700.150032,\n",
       " 'dt (s)': 2.291999408043921e-06}"
      ]
     },
     "execution_count": 4,
     "metadata": {},
     "output_type": "execute_result"
    }
   ],
   "source": [
    "with PressureSensor() as sensor:\n",
    "    data = sensor.read()\n",
    "data"
   ]
  },
  {
   "cell_type": "code",
   "execution_count": 5,
   "metadata": {},
   "outputs": [
    {
     "data": {
      "text/plain": [
       "{'P': __main__.PressureSensor, 'T': __main__.TemperatureSensor}"
      ]
     },
     "execution_count": 5,
     "metadata": {},
     "output_type": "execute_result"
    }
   ],
   "source": [
    "Sensors = {Sensor.name: Sensor for Sensor in (PressureSensor, TemperatureSensor)}\n",
    "Sensors"
   ]
  },
  {
   "attachments": {},
   "cell_type": "markdown",
   "metadata": {},
   "source": [
    "# Define recordings"
   ]
  },
  {
   "cell_type": "code",
   "execution_count": 6,
   "metadata": {},
   "outputs": [
    {
     "name": "stdout",
     "output_type": "stream",
     "text": [
      "COMMANDS {'dt': ControlledProperty (Δt (s)) [attribute: timer.interval] [commands: ('dt',)], 'on': ControlledProperty (Rec. ON) [attribute: active] [commands: ('on',)]}\n",
      "COMMANDS {'dt': ControlledProperty (Δt (s)) [attribute: timer.interval] [commands: ('dt',)], 'on': ControlledProperty (Rec. ON) [attribute: active] [commands: ('on',)]}\n"
     ]
    }
   ],
   "source": [
    "class Recording(RecordingToCsv, RecordingBase):\n",
    "    \"\"\"Recording class that defines how to read and handle data from sensors.\"\"\"\n",
    "\n",
    "    def __init__(self, name):\n",
    "        \n",
    "        Sensor = Sensors[name]\n",
    "        column_names = ('time (unix)', 'dt (s)') + Sensor.data_names\n",
    "        filename = 'Pressure.tsv' if name == 'P' else 'Temperature.tsv'\n",
    "\n",
    "        RecordingBase.__init__(self, Sensor=Sensors[name], dt=2)\n",
    "        RecordingToCsv.__init__(self, path='data', filename=filename, column_names=column_names)\n",
    "        \n",
    "recordings = {name: Recording(name) for name in ('P', 'T')}"
   ]
  },
  {
   "attachments": {},
   "cell_type": "markdown",
   "metadata": {},
   "source": [
    "# Start recording"
   ]
  },
  {
   "cell_type": "code",
   "execution_count": 15,
   "metadata": {},
   "outputs": [],
   "source": [
    "class Record(RecordBase):\n",
    "    \"\"\"For simple cases no subclassing is necessary\"\"\"\n",
    "    pass"
   ]
  },
  {
   "attachments": {},
   "cell_type": "markdown",
   "metadata": {},
   "source": [
    "**Note**: Below, by default recordings are OFF (`on=False`) option. After starting the recording, turn them on by typing `on True` in the CLI"
   ]
  },
  {
   "cell_type": "code",
   "execution_count": 16,
   "metadata": {},
   "outputs": [
    {
     "name": "stdout",
     "output_type": "stream",
     "text": [
      "global {'dt': 3, 'on': False}\n",
      "specific {'P': ('dt', 0.5)}\n",
      "P <class 'clivo.cli.ControlledProperty'> Δt (s) (('dt',)) 3\n",
      "T <class 'clivo.cli.ControlledProperty'> Δt (s) (('dt',)) 3\n",
      "P <class 'clivo.cli.ControlledProperty'> Rec. ON (('on',)) False\n",
      "T <class 'clivo.cli.ControlledProperty'> Rec. ON (('on',)) False\n",
      "{'P': {<class 'clivo.cli.ControlledProperty'> Δt (s) (('dt',)): 0.5, <class 'clivo.cli.ControlledProperty'> Rec. ON (('on',)): False}, 'T': {<class 'clivo.cli.ControlledProperty'> Δt (s) (('dt',)): 3, <class 'clivo.cli.ControlledProperty'> Rec. ON (('on',)): False}}\n",
      "Recording started in folder /Users/olivier.vincent/Python-OV/prevo/examples/data\n",
      "Δt (s)\n",
      "P---0.5\n",
      "T---3\n",
      "New Δt (s) for P: 5\n",
      "Rec. ON\n",
      "P---False\n",
      "T---False\n",
      "New Rec. ON for P: True\n",
      "New Rec. ON for T: True\n",
      "CLI stopped\n",
      "Recording Stopped\n"
     ]
    }
   ],
   "source": [
    "record = Record(recordings, path='data', dt=3, dt_P=0.5, on=False)\n",
    "record.start()"
   ]
  },
  {
   "cell_type": "code",
   "execution_count": 17,
   "metadata": {},
   "outputs": [
    {
     "data": {
      "text/html": [
       "<div>\n",
       "<style scoped>\n",
       "    .dataframe tbody tr th:only-of-type {\n",
       "        vertical-align: middle;\n",
       "    }\n",
       "\n",
       "    .dataframe tbody tr th {\n",
       "        vertical-align: top;\n",
       "    }\n",
       "\n",
       "    .dataframe thead th {\n",
       "        text-align: right;\n",
       "    }\n",
       "</style>\n",
       "<table border=\"1\" class=\"dataframe\">\n",
       "  <thead>\n",
       "    <tr style=\"text-align: right;\">\n",
       "      <th></th>\n",
       "      <th>time (unix)</th>\n",
       "      <th>dt (s)</th>\n",
       "      <th>P1</th>\n",
       "      <th>P2</th>\n",
       "      <th>P3</th>\n",
       "    </tr>\n",
       "  </thead>\n",
       "  <tbody>\n",
       "    <tr>\n",
       "      <th>0</th>\n",
       "      <td>1.689170e+09</td>\n",
       "      <td>0.000008</td>\n",
       "      <td>3170.819832</td>\n",
       "      <td>2338.025854</td>\n",
       "      <td>17.466064</td>\n",
       "    </tr>\n",
       "    <tr>\n",
       "      <th>1</th>\n",
       "      <td>1.689170e+09</td>\n",
       "      <td>0.000004</td>\n",
       "      <td>3170.873416</td>\n",
       "      <td>2339.095267</td>\n",
       "      <td>17.132561</td>\n",
       "    </tr>\n",
       "  </tbody>\n",
       "</table>\n",
       "</div>"
      ],
      "text/plain": [
       "    time (unix)    dt (s)           P1           P2         P3\n",
       "0  1.689170e+09  0.000008  3170.819832  2338.025854  17.466064\n",
       "1  1.689170e+09  0.000004  3170.873416  2339.095267  17.132561"
      ]
     },
     "execution_count": 17,
     "metadata": {},
     "output_type": "execute_result"
    }
   ],
   "source": [
    "pressure_data = pd.read_csv('data/Pressure.tsv', sep='\\t')\n",
    "pressure_data.head()"
   ]
  },
  {
   "cell_type": "code",
   "execution_count": 18,
   "metadata": {},
   "outputs": [
    {
     "data": {
      "text/plain": [
       "<Axes: xlabel='time (unix)'>"
      ]
     },
     "execution_count": 18,
     "metadata": {},
     "output_type": "execute_result"
    },
    {
     "data": {
      "image/png": "[encoded data removed]",
      "text/plain": [
       "<Figure size 640x480 with 1 Axes>"
      ]
     },
     "metadata": {},
     "output_type": "display_data"
    }
   ],
   "source": [
    "pressure_data.plot(x='time (unix)', y='P1', style='o')"
   ]
  },
  {
   "cell_type": "code",
   "execution_count": null,
   "metadata": {},
   "outputs": [],
   "source": []
  }
 ],
 "metadata": {
  "kernelspec": {
   "display_name": "Python 3 (ipykernel)",
   "language": "python",
   "name": "python3"
  },
  "language_info": {
   "codemirror_mode": {
    "name": "ipython",
    "version": 3
   },
   "file_extension": ".py",
   "mimetype": "text/x-python",
   "name": "python",
   "nbconvert_exporter": "python",
   "pygments_lexer": "ipython3",
   "version": "3.10.9"
  }
 },
 "nbformat": 4,
 "nbformat_minor": 4
}
