{
 "cells": [
  {
   "cell_type": "code",
   "execution_count": 4,
   "id": "1d2af543-f82e-47ce-866d-60bbb8f5d496",
   "metadata": {},
   "outputs": [
    {
     "name": "stdout",
     "output_type": "stream",
     "text": [
      "                 ts      id      value  label\n",
      "17    1587640477999  pump-2  46.499027      1\n",
      "54    1587640569617  pump-1  36.690836      1\n",
      "57    1587640577999  pump-2  30.381902      1\n",
      "97    1587640677999  pump-2  27.098402      1\n",
      "137   1587640778000  pump-2  23.285751      1\n",
      "...             ...     ...        ...    ...\n",
      "2857  1587647577999  pump-2  27.028010      1\n",
      "2897  1587647677999  pump-2  27.624972      1\n",
      "2937  1587647777999  pump-2  34.052650      1\n",
      "2977  1587647877999  pump-2  45.218748      1\n",
      "3017  1587647978000  pump-2  43.276667      1\n",
      "\n",
      "[84 rows x 4 columns]\n"
     ]
    }
   ],
   "source": [
    "import pandas as pd\n",
    "\n",
    "# Load your CSV file into a pandas DataFrame\n",
    "df = pd.read_csv('raw-data.csv')\n",
    "\n",
    "# Now, you can search in a specific column for a specific value like this:\n",
    "matches = df[df['label'] == 1]\n",
    "\n",
    "# 'matches' is now a new DataFrame containing only the rows where 'your_column_name' has 'your_value'\n",
    "print(matches)"
   ]
  },
  {
   "cell_type": "code",
   "execution_count": null,
   "id": "2f62236f-4301-4c8f-a203-e568e347bfba",
   "metadata": {},
   "outputs": [],
   "source": []
  }
 ],
 "metadata": {
  "kernelspec": {
   "display_name": "Python 3 (ipykernel)",
   "language": "python",
   "name": "python3"
  },
  "language_info": {
   "codemirror_mode": {
    "name": "ipython",
    "version": 3
   },
   "file_extension": ".py",
   "mimetype": "text/x-python",
   "name": "python",
   "nbconvert_exporter": "python",
   "pygments_lexer": "ipython3",
   "version": "3.11.4"
  }
 },
 "nbformat": 4,
 "nbformat_minor": 5
}
