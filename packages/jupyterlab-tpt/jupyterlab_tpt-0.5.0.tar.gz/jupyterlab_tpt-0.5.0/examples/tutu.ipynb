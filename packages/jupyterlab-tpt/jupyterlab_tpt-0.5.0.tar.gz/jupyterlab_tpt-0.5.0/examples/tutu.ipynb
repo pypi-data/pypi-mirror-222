{
 "cells": [
  {
   "cell_type": "code",
   "execution_count": null,
   "id": "8319240e-15dc-4fbf-96bc-ade0a7f9c730",
   "metadata": {
    "hide_input": true,
    "tags": [
     "hide-input"
    ]
   },
   "outputs": [],
   "source": [
    "print('hello')"
   ]
  },
  {
   "cell_type": "markdown",
   "id": "62743f8b-a7e2-4429-8f86-5a27c9e117ab",
   "metadata": {
    "hide_input": true,
    "tags": [
     "hide-input"
    ]
   },
   "source": [
    "some text 1"
   ]
  },
  {
   "cell_type": "code",
   "execution_count": 5,
   "id": "8cb28dfa-1ab6-4ace-a3c2-d3a7f87dbfaf",
   "metadata": {
    "hide_input": true,
    "tags": [
     "hide-input"
    ]
   },
   "outputs": [],
   "source": [
    "# and a code cell 1"
   ]
  },
  {
   "cell_type": "markdown",
   "id": "f1006c06-c167-49fe-9d4c-6f06bf319916",
   "metadata": {},
   "source": [
    "some text 2"
   ]
  },
  {
   "cell_type": "code",
   "execution_count": 6,
   "id": "91afd88d-6913-4ed9-81a0-e1651998c5ff",
   "metadata": {
    "hide_input": true,
    "tags": []
   },
   "outputs": [],
   "source": [
    "# and a code cell 2"
   ]
  },
  {
   "cell_type": "markdown",
   "id": "f05abb1b-29a9-4a89-982a-c81a533dee2f",
   "metadata": {},
   "source": [
    "some text 2"
   ]
  },
  {
   "cell_type": "code",
   "execution_count": 1,
   "id": "dedcb800-8560-4571-88e7-46fdd3705f03",
   "metadata": {
    "hide_input": true,
    "slideshow": {
     "slide_type": "slide"
    },
    "tags": []
   },
   "outputs": [],
   "source": [
    "# and a code cell 2"
   ]
  }
 ],
 "metadata": {
  "kernelspec": {
   "display_name": "Python 3 (ipykernel)",
   "language": "python",
   "name": "python3"
  },
  "language_info": {
   "codemirror_mode": {
    "name": "ipython",
    "version": 3
   },
   "file_extension": ".py",
   "mimetype": "text/x-python",
   "name": "python",
   "nbconvert_exporter": "python",
   "pygments_lexer": "ipython3",
   "version": "3.11.4"
  }
 },
 "nbformat": 4,
 "nbformat_minor": 5
}
