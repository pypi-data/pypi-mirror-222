{
 "cells": [
  {
   "cell_type": "markdown",
   "id": "6a5ccd28-e1ba-4726-8e75-aeb8f7365bac",
   "metadata": {},
   "source": [
    "## mermaid"
   ]
  },
  {
   "cell_type": "markdown",
   "id": "a1e6e2c8-e6ba-4fe3-a95d-a39ff4f52375",
   "metadata": {},
   "source": [
    "un graphe simplissime\n",
    "\n",
    "```{mermaid}\n",
    "graph LR\n",
    "  a --> b\n",
    "```\n"
   ]
  },
  {
   "cell_type": "markdown",
   "id": "aa0c439b-9d45-4855-b0dd-34bd9838369e",
   "metadata": {},
   "source": [
    "```{mermaid}\n",
    "---\n",
    "title: Example Git diagram\n",
    "---\n",
    "gitGraph\n",
    "   commit\n",
    "   commit\n",
    "   branch develop\n",
    "   checkout develop\n",
    "   commit\n",
    "   commit\n",
    "   checkout main\n",
    "   merge develop\n",
    "   commit\n",
    "   commit\n",
    "```"
   ]
  },
  {
   "cell_type": "markdown",
   "id": "890dc32d-8a37-429b-84ff-713daa829a96",
   "metadata": {},
   "source": [
    "### iframe\n",
    "\n",
    "#### html tag\n",
    "\n",
    "not working in jlab, and works in jupyter book only if the target is in `_static`\n",
    "\n",
    "<iframe src=\"_static/addresses-final.html\" width=\"100%\" height=\"600px\">\n",
    "</iframe>"
   ]
  }
 ],
 "metadata": {
  "kernelspec": {
   "display_name": "Python 3 (ipykernel)",
   "language": "python",
   "name": "python3"
  },
  "language_info": {
   "codemirror_mode": {
    "name": "ipython",
    "version": 3
   },
   "file_extension": ".py",
   "mimetype": "text/x-python",
   "name": "python",
   "nbconvert_exporter": "python",
   "pygments_lexer": "ipython3",
   "version": "3.11.4"
  }
 },
 "nbformat": 4,
 "nbformat_minor": 5
}
