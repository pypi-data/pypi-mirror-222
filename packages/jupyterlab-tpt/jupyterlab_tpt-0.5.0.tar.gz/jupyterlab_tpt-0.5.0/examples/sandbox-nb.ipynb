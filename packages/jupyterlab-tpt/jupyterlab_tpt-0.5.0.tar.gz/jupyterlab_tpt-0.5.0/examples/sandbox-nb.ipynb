{
 "cells": [
  {
   "cell_type": "markdown",
   "id": "8b295f57",
   "metadata": {
    "slideshow": {
     "slide_type": "-"
    }
   },
   "source": [
    "Licence CC BY-NC-ND, Thierry Parmentelat"
   ]
  },
  {
   "cell_type": "markdown",
   "id": "a5b23452",
   "metadata": {
    "tags": []
   },
   "source": [
    "# sandbox"
   ]
  },
  {
   "cell_type": "markdown",
   "id": "e99dd088",
   "metadata": {
    "tags": []
   },
   "source": [
    "````{attention} ### what\n",
    "summarize most of our notebook recipes, \n",
    "\n",
    "* regular admonitions\n",
    "* hide-input artefact (a code cell whose input code is hidden)\n",
    "* collapsible (texts where some part is toggable with a right or down arrow)\n",
    "  note that collapsible also applies to admonitions\n",
    "* course levels:\n",
    "  * using tags to specifiy a level among basic=green, intermediate=blue, advanced=red\n",
    "  * also the ability to put a frame around a cell\n",
    "* miscell usual tricks (link to a downloadable file, iframe with some static html, ...)\n",
    "* mermaid: some inline (git)graphs using `mermaid.js`\n",
    "````"
   ]
  },
  {
   "cell_type": "markdown",
   "id": "5f1b41a4",
   "metadata": {
    "tags": []
   },
   "source": [
    "````{seealso} targets\n",
    "\n",
    "and check how that renders in the following contexts\n",
    "\n",
    "* jupyter book output, which is now our primary output medium\n",
    "* jlab4, with a cocktail of extensions, at least\n",
    "  * jupytext, myst, courselevels\n",
    "* notebook 7, which as of 2023 June is about to get released \n",
    "* there was also nbclassic, but it's getting deprecated so..\n",
    "````"
   ]
  },
  {
   "cell_type": "code",
   "execution_count": null,
   "id": "729912cc",
   "metadata": {},
   "outputs": [],
   "source": [
    "# this is the required piece\n",
    "#%pip show jupyterlab-myst jupyterlab-jupytext jupyterlab-courselevels"
   ]
  },
  {
   "cell_type": "markdown",
   "id": "052cb25f",
   "metadata": {},
   "source": [
    "## admonitions"
   ]
  },
  {
   "cell_type": "markdown",
   "id": "ae27956d",
   "metadata": {},
   "source": [
    "```{attention}\n",
    "without the dropdown class\n",
    "this is a regular *admonition* with a custom title  \n",
    "any of the types below accept a superseded title\n",
    "```"
   ]
  },
  {
   "cell_type": "markdown",
   "id": "f955d04f",
   "metadata": {},
   "source": [
    "````{tip} \n",
    "Let's give readers a helpful `tip` - this one uses quadruple ```` like this\n",
    "```\n",
    "    ````{tip}\n",
    "    a tip\n",
    "    ````\n",
    "```\n",
    "````"
   ]
  },
  {
   "cell_type": "markdown",
   "id": "6eb58282",
   "metadata": {},
   "source": [
    "````{hint} my title\n",
    "this is a `hint` admonition with an overridden title\n",
    "```\n",
    "    ````{hint} my title\n",
    "    some text\n",
    "    ````\n",
    "```\n",
    "````"
   ]
  },
  {
   "cell_type": "markdown",
   "id": "25daf53f",
   "metadata": {},
   "source": [
    "````{seealso}\n",
    "let us try `seealso`\n",
    "````"
   ]
  },
  {
   "cell_type": "markdown",
   "id": "c3fad0f5",
   "metadata": {},
   "source": [
    "````{note}\n",
    "this is a `note`\n",
    "```\n",
    ":::{note}\n",
    "this would work too\n",
    ":::\n",
    "```\n",
    "````"
   ]
  },
  {
   "cell_type": "markdown",
   "id": "4b974694",
   "metadata": {},
   "source": [
    "````{important}\n",
    "let us try `important`\n",
    "````"
   ]
  },
  {
   "cell_type": "markdown",
   "id": "170605c4",
   "metadata": {},
   "source": [
    "````{admonition} This requires an ad hoc title\n",
    "let us try `admonition`\n",
    "````"
   ]
  },
  {
   "cell_type": "markdown",
   "id": "7779e47a",
   "metadata": {},
   "source": [
    "````{attention} my title\n",
    "this is an `attention` admonition with an overridden title\n",
    "```\n",
    "    ````{attention} my title\n",
    "    some text\n",
    "    ````\n",
    "```\n",
    "````"
   ]
  },
  {
   "cell_type": "markdown",
   "id": "546b09ab",
   "metadata": {},
   "source": [
    "````{caution}\n",
    "let us try `caution`\n",
    "````"
   ]
  },
  {
   "cell_type": "markdown",
   "id": "7c7ce6fa",
   "metadata": {},
   "source": [
    "````{warning}\n",
    "let us try `warning`\n",
    "````"
   ]
  },
  {
   "cell_type": "markdown",
   "id": "d6231744",
   "metadata": {},
   "source": [
    "````{danger}\n",
    "let us try `danger`\n",
    "````"
   ]
  },
  {
   "cell_type": "markdown",
   "id": "194aa357",
   "metadata": {},
   "source": [
    "````{error}\n",
    "let us try `error`\n",
    "````"
   ]
  },
  {
   "cell_type": "markdown",
   "id": "e5c8895e",
   "metadata": {},
   "source": [
    "## hide-input"
   ]
  },
  {
   "cell_type": "markdown",
   "id": "fe86f861",
   "metadata": {
    "slideshow": {
     "slide_type": ""
    },
    "tags": []
   },
   "source": [
    "### code cells"
   ]
  },
  {
   "cell_type": "markdown",
   "id": "522dc027",
   "metadata": {
    "slideshow": {
     "slide_type": ""
    },
    "tags": []
   },
   "source": [
    "````{caution}\n",
    "the next code cell is marked as\n",
    "\n",
    "1. `metadata.tags` contains `hide-input`\n",
    "1. and also `metadata.hide_input=true`  \n",
    "  see below, this second setting is not useful unless you aim at nbclassic\n",
    "````"
   ]
  },
  {
   "cell_type": "markdown",
   "id": "a35b74f2",
   "metadata": {
    "slideshow": {
     "slide_type": ""
    },
    "tags": []
   },
   "source": [
    "````{note}\n",
    "* thanks to (1) the jb HTML output will come as a collapsible\n",
    "* thanks to the `jupyterlab-courselevels` extension, with (1) the code cell input should be hidden in jupyterlab (and hopefully nb7 as well)\n",
    "* because of (2) the cell input will not show under nbclassic  \n",
    "  this requires the jupyter contrib extensions installed, and the hide-input extension enabled\n",
    "````"
   ]
  },
  {
   "cell_type": "markdown",
   "id": "da084ccc",
   "metadata": {
    "slideshow": {
     "slide_type": ""
    },
    "tags": []
   },
   "source": [
    "↓↓↓↓↓↓↓↓↓↓↓↓↓↓↓↓↓↓↓↓↓↓↓↓ 2 hide-input cells below"
   ]
  },
  {
   "cell_type": "code",
   "execution_count": null,
   "id": "968ba05a",
   "metadata": {
    "hide_input": true,
    "slideshow": {
     "slide_type": ""
    },
    "tags": [
     "hide-input"
    ]
   },
   "outputs": [],
   "source": [
    "# this text should be hidden\n",
    "print(\"should show the output but not the code\")"
   ]
  },
  {
   "cell_type": "code",
   "execution_count": null,
   "id": "992888d6",
   "metadata": {
    "hide_input": true,
    "slideshow": {
     "slide_type": ""
    },
    "tags": [
     "hide-input"
    ]
   },
   "outputs": [],
   "source": [
    "# this text should be hidden\n",
    "print('and another hide-input cell')"
   ]
  },
  {
   "cell_type": "markdown",
   "id": "df89c05c",
   "metadata": {},
   "source": [
    "↑↑↑↑↑↑↑↑↑↑↑↑↑↑↑↑↑↑↑↑↑↑↑↑ hide-input cells above"
   ]
  },
  {
   "cell_type": "markdown",
   "id": "a4733b9c",
   "metadata": {},
   "source": [
    "## collapsable"
   ]
  },
  {
   "cell_type": "markdown",
   "id": "5ee17fa0",
   "metadata": {
    "slideshow": {
     "slide_type": ""
    },
    "tags": []
   },
   "source": [
    "here is an simple untagged admonition with the `dropdown` class:\n",
    "\n",
    "````{admonition} Click the button to reveal!\n",
    ":class: dropdown\n",
    "Some hidden collapsible content !\n",
    "```\n",
    "    ```{admonition} click me\n",
    "    :class: dropdown\n",
    "    the text to be hidden\n",
    "    ```\n",
    "````"
   ]
  },
  {
   "cell_type": "markdown",
   "id": "64b3bc01",
   "metadata": {
    "slideshow": {
     "slide_type": ""
    },
    "tags": []
   },
   "source": [
    "### using raw HTML"
   ]
  },
  {
   "cell_type": "markdown",
   "id": "6b956185",
   "metadata": {},
   "source": [
    "it should also be possible to do this using plain HTML with a `details` tag\n",
    "\n",
    "<details>\n",
    "<summary>the visible part</summary>\n",
    "\n",
    "and the rest of the message is just mentioned directly in the &lt;details&gt; tag\n",
    "</details>\n",
    "\n",
    "however apparently this requires extra configuration ?"
   ]
  },
  {
   "cell_type": "markdown",
   "id": "978150bd",
   "metadata": {
    "slideshow": {
     "slide_type": ""
    },
    "tags": []
   },
   "source": [
    "## course levels"
   ]
  },
  {
   "cell_type": "markdown",
   "id": "cd24ee1e",
   "metadata": {
    "slideshow": {
     "slide_type": ""
    },
    "tags": []
   },
   "source": [
    "somthing we had in place before admonitions; 3 levels defined, + the framed cell business\n",
    "\n",
    "(in the mix, it comes with css support for the `hide-input` cell tag, tested above)"
   ]
  },
  {
   "cell_type": "markdown",
   "id": "1c8c3753",
   "metadata": {
    "slideshow": {
     "slide_type": ""
    },
    "tags": []
   },
   "source": [
    "### code"
   ]
  },
  {
   "cell_type": "markdown",
   "id": "f6e15ca7",
   "metadata": {
    "slideshow": {
     "slide_type": ""
    },
    "tags": []
   },
   "source": [
    "code cells will work in both worlds (jlab + jbook)"
   ]
  },
  {
   "cell_type": "code",
   "execution_count": null,
   "id": "6ef84f22",
   "metadata": {
    "slideshow": {
     "slide_type": ""
    },
    "tags": [
     "level_basic"
    ]
   },
   "outputs": [],
   "source": [
    "# a basic cell\n",
    "\n",
    "def fact(n):\n",
    "    if n <= 1:\n",
    "        return 1\n",
    "    else:\n",
    "        return n * fact(n-1)"
   ]
  },
  {
   "cell_type": "code",
   "execution_count": null,
   "id": "c901842f",
   "metadata": {
    "slideshow": {
     "slide_type": ""
    },
    "tags": []
   },
   "outputs": [],
   "source": [
    "fact(10)"
   ]
  },
  {
   "cell_type": "code",
   "execution_count": null,
   "id": "9c6611a6",
   "metadata": {
    "slideshow": {
     "slide_type": ""
    },
    "tags": [
     "level_intermediate"
    ]
   },
   "outputs": [],
   "source": [
    "# an intermediate cell\n",
    "\n",
    "def fact(n):\n",
    "    return 1 if n <= 1 else n * fact(n-1)"
   ]
  },
  {
   "cell_type": "code",
   "execution_count": null,
   "id": "c7a819c0",
   "metadata": {
    "slideshow": {
     "slide_type": ""
    },
    "tags": []
   },
   "outputs": [],
   "source": [
    "fact(10)"
   ]
  },
  {
   "cell_type": "code",
   "execution_count": null,
   "id": "34aecbd9",
   "metadata": {
    "slideshow": {
     "slide_type": ""
    },
    "tags": [
     "level_advanced"
    ]
   },
   "outputs": [],
   "source": [
    "# an advanced cell\n",
    "\n",
    "from functools import reduce\n",
    "from operator import mul\n",
    "\n",
    "def fact(n):\n",
    "    return reduce(mul, range(1, n+1))"
   ]
  },
  {
   "cell_type": "code",
   "execution_count": null,
   "id": "584d3b93",
   "metadata": {
    "slideshow": {
     "slide_type": ""
    },
    "tags": []
   },
   "outputs": [],
   "source": [
    "fact(10)"
   ]
  },
  {
   "cell_type": "markdown",
   "id": "4d1db403",
   "metadata": {
    "slideshow": {
     "slide_type": ""
    },
    "tags": []
   },
   "source": [
    "### text\n",
    "\n",
    "unfortunately text cells is another matter entirely, as when producing markdown (intermediary step in jbook to produce html) the cell structure gets lost entirely\n",
    "\n",
    "<https://github.com/orgs/executablebooks/discussions/1033#discussioncomment-6198957>"
   ]
  },
  {
   "cell_type": "markdown",
   "id": "14eea1b3",
   "metadata": {
    "slideshow": {
     "slide_type": ""
    },
    "tags": [
     "framed_cell"
    ]
   },
   "source": [
    "#### let's start with a framed cell\n",
    "\n",
    "Lorem Ipsum is simply dummy text of the printing and typesetting industry. Lorem Ipsum has been the industry's standard dummy text ever since the 1500s, when an unknown printer took a galley of type and scrambled it to make a type specimen book. It has survived not only five centuries, but also the leap into electronic typesetting, remaining essentially unchanged. It was popularised in the 1960s with the release of Letraset sheets containing Lorem Ipsum passages, and more recently with desktop publishing software like Aldus PageMaker including versions of Lorem Ipsum.\n",
    "\n",
    "Where does it come from?\n",
    "Contrary to popular belief, Lorem Ipsum is not simply random text. It has roots in a piece of classical Latin literature from 45 BC, making it over 2000 years old. Richard McClintock, a Latin professor at Hampden-Sydney College in Virginia, looked up one of the more obscure Latin words, consectetur, from a Lorem Ipsum passage, and going through the cites of the word in classical literature, discovered the undoubtable source. Lorem Ipsum comes from sections 1.10.32 and 1.10.33 of \"de Finibus Bonorum et Malorum\" (The Extremes of Good and Evil) by Cicero, written in 45 BC. This book is a treatise on the theory of ethics, very popular during the Renaissance. The first line of Lorem Ipsum, \"Lorem ipsum dolor sit amet..\", comes from a line in section 1.10.32."
   ]
  },
  {
   "cell_type": "markdown",
   "id": "f93f6409",
   "metadata": {
    "slideshow": {
     "slide_type": ""
    },
    "tags": [
     "level_basic"
    ]
   },
   "source": [
    "#### basic text (^X)\n",
    "\n",
    "Where does it come from?\n",
    "Contrary to popular belief, Lorem Ipsum is not simply random text. It has roots in a piece of classical Latin literature from 45 BC, making it over 2000 years old. Richard McClintock, a Latin professor at Hampden-Sydney College in Virginia, looked up one of the more obscure Latin words, consectetur, from a Lorem Ipsum passage, and going through the cites of the word in classical literature, discovered the undoubtable source. Lorem Ipsum comes from sections 1.10.32 and 1.10.33 of \"de Finibus Bonorum et Malorum\" (The Extremes of Good and Evil) by Cicero, written in 45 BC. This book is a treatise on the theory of ethics, very popular during the Renaissance. The first line of Lorem Ipsum, \"Lorem ipsum dolor sit amet..\", comes from a line in section 1.10.32."
   ]
  },
  {
   "cell_type": "markdown",
   "id": "ca8e17c8",
   "metadata": {
    "tags": [
     "level_intermediate"
    ]
   },
   "source": [
    "#### intermediate text (^Y)\n",
    "\n",
    "Where does it come from?\n",
    "Contrary to popular belief, Lorem Ipsum is not simply random text. It has roots in a piece of classical Latin literature from 45 BC, making it over 2000 years old. Richard McClintock, a Latin professor at Hampden-Sydney College in Virginia, looked up one of the more obscure Latin words, consectetur, from a Lorem Ipsum passage, and going through the cites of the word in classical literature, discovered the undoubtable source. Lorem Ipsum comes from sections 1.10.32 and 1.10.33 of \"de Finibus Bonorum et Malorum\" (The Extremes of Good and Evil) by Cicero, written in 45 BC. This book is a treatise on the theory of ethics, very popular during the Renaissance. The first line of Lorem Ipsum, \"Lorem ipsum dolor sit amet..\", comes from a line in section 1.10.32."
   ]
  },
  {
   "cell_type": "markdown",
   "id": "cf5d2735",
   "metadata": {
    "tags": [
     "level_advanced"
    ]
   },
   "source": [
    "#### advanced text (^Z)\n",
    "\n",
    "Where does it come from?\n",
    "Contrary to popular belief, Lorem Ipsum is not simply random text. It has roots in a piece of classical Latin literature from 45 BC, making it over 2000 years old. Richard McClintock, a Latin professor at Hampden-Sydney College in Virginia, looked up one of the more obscure Latin words, consectetur, from a Lorem Ipsum passage, and going through the cites of the word in classical literature, discovered the undoubtable source. Lorem Ipsum comes from sections 1.10.32 and 1.10.33 of \"de Finibus Bonorum et Malorum\" (The Extremes of Good and Evil) by Cicero, written in 45 BC. This book is a treatise on the theory of ethics, very popular during the Renaissance. The first line of Lorem Ipsum, \"Lorem ipsum dolor sit amet..\", comes from a line in section 1.10.32."
   ]
  },
  {
   "cell_type": "markdown",
   "id": "6112980f",
   "metadata": {
    "tags": [
     "level_intermediate",
     "framed_cell"
    ]
   },
   "source": [
    "#### framed and colored (^M)\n",
    "\n",
    "Where does it come from?\n",
    "Contrary to popular belief, Lorem Ipsum is not simply random text. It has roots in a piece of classical Latin literature from 45 BC, making it over 2000 years old. Richard McClintock, a Latin professor at Hampden-Sydney College in Virginia, looked up one of the more obscure Latin words, consectetur, from a Lorem Ipsum passage, and going through the cites of the word in classical literature, discovered the undoubtable source. Lorem Ipsum comes from sections 1.10.32 and 1.10.33 of \"de Finibus Bonorum et Malorum\" (The Extremes of Good and Evil) by Cicero, written in 45 BC. This book is a treatise on the theory of ethics, very popular during the Renaissance. The first line of Lorem Ipsum, \"Lorem ipsum dolor sit amet..\", comes from a line in section 1.10.32."
   ]
  },
  {
   "cell_type": "markdown",
   "id": "db6ca2c6",
   "metadata": {},
   "source": [
    "## ipythontutor"
   ]
  },
  {
   "cell_type": "code",
   "execution_count": null,
   "id": "6e6d7e1c",
   "metadata": {},
   "outputs": [],
   "source": [
    "%load_ext ipythontutor"
   ]
  },
  {
   "cell_type": "code",
   "execution_count": null,
   "id": "a9e9fff6",
   "metadata": {},
   "outputs": [],
   "source": [
    "%%ipythontutor\n",
    "\n",
    "L1 = L2 = [1, 2, 3]\n",
    "L1[1:2] = [100, 200, 300]"
   ]
  },
  {
   "cell_type": "markdown",
   "id": "f48f5205",
   "metadata": {},
   "source": [
    "## nbautoeval"
   ]
  },
  {
   "cell_type": "code",
   "execution_count": null,
   "id": "998f71f0",
   "metadata": {},
   "outputs": [],
   "source": [
    "from exo_pgcd import exo_pgcd\n",
    "\n",
    "exo_pgcd.example()"
   ]
  },
  {
   "cell_type": "code",
   "execution_count": null,
   "id": "6f50ae4c",
   "metadata": {},
   "outputs": [],
   "source": [
    "def pgcd(a, b):\n",
    "    return b % a"
   ]
  },
  {
   "cell_type": "code",
   "execution_count": null,
   "id": "7856fa2a",
   "metadata": {},
   "outputs": [],
   "source": [
    "exo_pgcd.correction(pgcd)"
   ]
  },
  {
   "cell_type": "markdown",
   "id": "6fffc8ba",
   "metadata": {},
   "source": [
    "## miscell"
   ]
  },
  {
   "cell_type": "markdown",
   "id": "82e7f45c",
   "metadata": {},
   "source": [
    "### dollarmath\n",
    "\n",
    "same for latex-math inline $\\forall x\\in \\mathbb{C}$ like this, or double-dollars like that\n",
    "\n",
    "$$\n",
    "\\forall x\\in \\mathbb{C}\n",
    "$$"
   ]
  },
  {
   "cell_type": "markdown",
   "id": "883d5474",
   "metadata": {},
   "source": [
    "### strikethrough\n",
    "\n",
    "this requires an extra config step ~~so that one can see text in strikethrough mode~~\n",
    "\n",
    "not yet working with jupyterlab(-myst)"
   ]
  },
  {
   "cell_type": "markdown",
   "id": "1963aae8",
   "metadata": {},
   "source": [
    "### download links"
   ]
  },
  {
   "cell_type": "markdown",
   "id": "62cc5fb6",
   "metadata": {
    "tags": []
   },
   "source": [
    "#### MyST download role\n",
    "\n",
    "mostly we use this to create a link to download an exercise as a zip\n",
    "\n",
    "```{error} BEWARE\n",
    "this works in the jupyter book output only at this point\n",
    "```\n",
    "\n",
    " {download}`commencez par télécharger le zip<./downloadable.zip>`"
   ]
  },
  {
   "cell_type": "markdown",
   "id": "4dadc265",
   "metadata": {},
   "source": [
    "#### regular html link\n",
    "\n",
    "instead we could try and use a regular `<a>` tag; \n",
    "it remains to check however if that is going to play well with jupyter-book though\n",
    "\n",
    "\n",
    "avec la construction standard markdown pour les liens `[]()`: [commencez par télécharger le zip](./dowloadable.zip)\n",
    "\n",
    "---\n",
    "le tag html `<a>` marche vraiment très mal: <a href=\"./downloadable.zip\">commencez par télécharger le zip</a>"
   ]
  },
  {
   "cell_type": "markdown",
   "id": "e7cf9cab",
   "metadata": {},
   "source": [
    "### iframe\n",
    "\n",
    "#### html tag\n",
    "\n",
    "not working in jlab, and works in jupyter book only if the target is in `_static`\n",
    "\n",
    "<iframe src=\"_static/addresses-final.html\" width=\"100%\" height=\"600px\">\n",
    "</iframe>"
   ]
  },
  {
   "cell_type": "markdown",
   "id": "96c2ee7e",
   "metadata": {},
   "source": [
    "### matplotlib"
   ]
  },
  {
   "cell_type": "code",
   "execution_count": null,
   "id": "949159ef",
   "metadata": {},
   "outputs": [],
   "source": [
    "import numpy as np\n",
    "\n",
    "X = np.linspace(-10, 10)\n",
    "Y = X ** 2"
   ]
  },
  {
   "cell_type": "code",
   "execution_count": null,
   "id": "d09bf75a",
   "metadata": {},
   "outputs": [],
   "source": [
    "import matplotlib.pyplot as plt\n",
    "#%matplotlib notebook\n",
    "#%matplotlib widget\n",
    "%matplotlib ipympl"
   ]
  },
  {
   "cell_type": "code",
   "execution_count": null,
   "id": "33b1068b",
   "metadata": {},
   "outputs": [],
   "source": [
    "plt.figure()\n",
    "plt.plot(X, Y);"
   ]
  },
  {
   "cell_type": "markdown",
   "id": "b4944bfa",
   "metadata": {
    "tags": [
     "framed_cell"
    ]
   },
   "source": [
    "## references\n",
    "\n",
    "* jbook: <https://jupyterbook.org/en/stable/interactive/hiding.html>\n",
    "* myst: <https://myst-tools.org/docs/spec/admonitions>"
   ]
  },
  {
   "cell_type": "markdown",
   "id": "3b86a8dc",
   "metadata": {},
   "source": [
    "## mermaid"
   ]
  },
  {
   "cell_type": "markdown",
   "id": "0810ef54",
   "metadata": {},
   "source": [
    "un graphe simplissime\n",
    "\n",
    "```{mermaid}\n",
    "graph LR\n",
    "  a --> b\n",
    "```"
   ]
  },
  {
   "cell_type": "markdown",
   "id": "0f707896",
   "metadata": {},
   "source": [
    "un graph a little more complex\n",
    "\n",
    "```{mermaid}\n",
    "gitGraph\n",
    "   commit\n",
    "   commit\n",
    "   branch develop\n",
    "   checkout develop\n",
    "   commit\n",
    "   commit\n",
    "   checkout main\n",
    "   merge develop\n",
    "   commit\n",
    "   commit\n",
    "```"
   ]
  },
  {
   "cell_type": "markdown",
   "id": "62665f9a",
   "metadata": {},
   "source": [
    "### a plausible git scenario\n",
    "\n",
    "`git commit`\n",
    "\n",
    "```{mermaid}\n",
    "gitGraph\n",
    "    commit id: \"A\" type: HIGHLIGHT\n",
    "```"
   ]
  },
  {
   "cell_type": "markdown",
   "id": "6ca635d3",
   "metadata": {},
   "source": [
    "`git commit`\n",
    "\n",
    "```{mermaid}\n",
    "gitGraph\n",
    "    commit id: \"A\"\n",
    "    commit id: \"B\" type: HIGHLIGHT\n",
    "```"
   ]
  },
  {
   "cell_type": "markdown",
   "id": "7e6052e1",
   "metadata": {},
   "source": [
    "`git commit`\n",
    "\n",
    "```{mermaid}\n",
    "gitGraph\n",
    "    commit id: \"A\"\n",
    "    commit id: \"B\"\n",
    "    commit id: \"C\" type: HIGHLIGHT\n",
    "```"
   ]
  },
  {
   "cell_type": "markdown",
   "id": "f73362ca",
   "metadata": {
    "tags": []
   },
   "source": [
    "`git switch -c devel A`\n",
    "\n",
    "```{mermaid}\n",
    "gitGraph\n",
    "    commit id: \"A\" type: HIGHLIGHT\n",
    "    branch devel\n",
    "    checkout main\n",
    "    commit id: \"B\"\n",
    "    commit id: \"C\"\n",
    "    checkout devel\n",
    "```\n",
    "\n",
    "```{note}\n",
    "`git switch -c devel A` is a shortcut for\n",
    "\n",
    "* `git branch devel A` (create branch `devel` at commit `A`)\n",
    "* `git switch devel`   (teleport to branch `devel`)\n",
    "```"
   ]
  },
  {
   "cell_type": "markdown",
   "id": "bc05055b",
   "metadata": {
    "tags": []
   },
   "source": [
    "`git commit`\n",
    "\n",
    "```{mermaid}\n",
    "gitGraph\n",
    "    commit id: \"A\"\n",
    "    branch devel\n",
    "    checkout main\n",
    "    commit id: \"B\"\n",
    "    commit id: \"C\"\n",
    "    checkout devel\n",
    "    commit id: \"D\" type: HIGHLIGHT\n",
    "```"
   ]
  },
  {
   "cell_type": "markdown",
   "id": "5192d067",
   "metadata": {
    "tags": []
   },
   "source": [
    "`git commit`\n",
    "\n",
    "```{mermaid}\n",
    "gitGraph\n",
    "    commit id: \"A\"\n",
    "    branch devel\n",
    "    checkout main\n",
    "    commit id: \"B\"\n",
    "    commit id: \"C\"\n",
    "    checkout devel\n",
    "    commit id: \"D\"\n",
    "    commit id: \"E\" type: HIGHLIGHT\n",
    "```"
   ]
  },
  {
   "cell_type": "markdown",
   "id": "b8a8b1df",
   "metadata": {
    "tags": []
   },
   "source": [
    "`git merge main`\n",
    "\n",
    "```{mermaid}\n",
    "gitGraph\n",
    "    commit id: \"A\"\n",
    "    branch devel\n",
    "    checkout main\n",
    "    commit id: \"B\"\n",
    "    commit id: \"C\"\n",
    "    checkout devel\n",
    "    commit id: \"D\"\n",
    "    commit id: \"E\"\n",
    "    merge main id: \"F\" type: HIGHLIGHT\n",
    "```"
   ]
  },
  {
   "cell_type": "markdown",
   "id": "ab0d977d",
   "metadata": {
    "tags": []
   },
   "source": [
    "`git switch main`\n",
    "\n",
    "```{mermaid}\n",
    "gitGraph\n",
    "    commit id: \"A\"\n",
    "    branch devel\n",
    "    checkout main\n",
    "    commit id: \"B\"\n",
    "    commit id: \"C\" type: HIGHLIGHT\n",
    "    checkout devel\n",
    "    commit id: \"D\"\n",
    "    commit id: \"E\"\n",
    "    merge main id: \"F\"\n",
    "    checkout main\n",
    "```"
   ]
  },
  {
   "cell_type": "markdown",
   "id": "d3f5db1a",
   "metadata": {
    "tags": []
   },
   "source": [
    "`git merge devel main`\n",
    "\n",
    "```{mermaid}\n",
    "gitGraph\n",
    "    commit id: \"A\"\n",
    "    branch devel\n",
    "    checkout main\n",
    "    commit id: \"B\"\n",
    "    commit id: \"C\"\n",
    "    checkout devel\n",
    "    commit id: \"D\"\n",
    "    commit id: \"E\"\n",
    "    checkout main\n",
    "    merge devel id: \"F\" type: HIGHLIGHT\n",
    "```"
   ]
  }
 ],
 "metadata": {
  "celltoolbar": "Edit Metadata",
  "jupytext": {
   "cell_metadata_filter": "all,-hidden,-heading_collapsed,-run_control,-trusted",
   "notebook_metadata_filter": "all,-language_info,-toc,-jupytext.text_representation.jupytext_version,-jupytext.text_representation.format_version"
  },
  "kernelspec": {
   "display_name": "Python 3 (ipykernel)",
   "language": "python",
   "name": "python3"
  },
  "language_info": {
   "codemirror_mode": {
    "name": "ipython",
    "version": 3
   },
   "file_extension": ".py",
   "mimetype": "text/x-python",
   "name": "python",
   "nbconvert_exporter": "python",
   "pygments_lexer": "ipython3",
   "version": "3.11.4"
  },
  "nbhosting": {
   "title": "React apps basics"
  },
  "rise": {
   "autolaunch": true,
   "slideNumber": "c/t",
   "start_slideshow_at": "selected",
   "theme": "sky",
   "transition": "cube"
  }
 },
 "nbformat": 4,
 "nbformat_minor": 5
}
