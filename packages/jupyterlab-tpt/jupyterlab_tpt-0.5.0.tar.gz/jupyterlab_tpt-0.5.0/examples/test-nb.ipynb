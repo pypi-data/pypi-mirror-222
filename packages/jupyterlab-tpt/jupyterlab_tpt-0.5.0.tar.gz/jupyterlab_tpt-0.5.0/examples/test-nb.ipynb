{
 "cells": [
  {
   "cell_type": "markdown",
   "id": "777d7dd4",
   "metadata": {
    "hide_input": true,
    "hide_output": true,
    "tags": [
     "hide-input"
    ]
   },
   "source": [
    "# header 1"
   ]
  },
  {
   "cell_type": "markdown",
   "id": "4d5c8e5f",
   "metadata": {
    "tags": [
     "level_basic"
    ]
   },
   "source": [
    "text cell 1"
   ]
  },
  {
   "cell_type": "markdown",
   "id": "d07cabfb",
   "metadata": {
    "hide_input": false,
    "tags": [
     "level_intermediate",
     "hide-input"
    ]
   },
   "source": [
    "## header 2"
   ]
  },
  {
   "cell_type": "markdown",
   "id": "7efc1164",
   "metadata": {
    "tags": [
     "level_advanced"
    ]
   },
   "source": [
    "text cell 2"
   ]
  },
  {
   "cell_type": "code",
   "execution_count": 1,
   "id": "5c4d843a",
   "metadata": {
    "hide_input": false
   },
   "outputs": [
    {
     "name": "stdout",
     "output_type": "stream",
     "text": [
      "hello\n"
     ]
    }
   ],
   "source": [
    "# a code cell 1\n",
    "print('hello')"
   ]
  },
  {
   "cell_type": "markdown",
   "id": "1ba12345",
   "metadata": {
    "hide_input": false,
    "jupyter": {
     "source_hidden": true
    }
   },
   "source": [
    "## header 2 again"
   ]
  },
  {
   "cell_type": "code",
   "execution_count": 2,
   "id": "2e0d7287",
   "metadata": {
    "hide_input": true,
    "tags": [
     "raises-exception",
     "hide-input"
    ]
   },
   "outputs": [],
   "source": [
    "# and a code cell 2"
   ]
  },
  {
   "cell_type": "markdown",
   "id": "75cd8510",
   "metadata": {
    "hide_input": false,
    "tags": [
     "raises-exception"
    ]
   },
   "source": [
    "### header 3"
   ]
  },
  {
   "cell_type": "markdown",
   "id": "9e113780",
   "metadata": {},
   "source": [
    "text cell 3"
   ]
  },
  {
   "cell_type": "markdown",
   "id": "70cab11f",
   "metadata": {
    "hide_input": false,
    "slideshow": {
     "slide_type": "slide"
    },
    "tags": [
     "level_basic"
    ]
   },
   "source": [
    "#### and a header 4"
   ]
  },
  {
   "cell_type": "markdown",
   "id": "c135cf2f",
   "metadata": {},
   "source": [
    "text cell 4"
   ]
  },
  {
   "cell_type": "code",
   "execution_count": 3,
   "id": "3ada77a5",
   "metadata": {
    "hide_input": true,
    "tags": [
     "hide-input"
    ]
   },
   "outputs": [
    {
     "name": "stdout",
     "output_type": "stream",
     "text": [
      "12 a=100 + b=200 = a+b=300\n"
     ]
    }
   ],
   "source": [
    "# this cell should get hide-input with option-command 8 even if not active\n",
    "\n",
    "class Foo: pass\n",
    "tools = Foo()\n",
    "tools.sample_from = print\n",
    "\n",
    "a, b = 100, 200\n",
    "\n",
    "tools.sample_from(12, f\"{a=} + {b=} = {a+b=}\")"
   ]
  }
 ],
 "metadata": {
  "jupytext": {
   "cell_metadata_filter": "all,-hidden,-heading_collapsed,-run_control,-trusted",
   "custom_cell_magics": "kql",
   "notebook_metadata_filter": "all, -jupytext.text_representation.jupytext_version, -jupytext.text_representation.format_version,\n-language_info.version, -language_info.codemirror_mode.version, -language_info.codemirror_mode,\n-language_info.file_extension, -language_info.mimetype, -toc"
  },
  "kernelspec": {
   "display_name": "Python 3 (ipykernel)",
   "language": "python",
   "name": "python3"
  },
  "language_info": {
   "codemirror_mode": {
    "name": "ipython",
    "version": 3
   },
   "file_extension": ".py",
   "mimetype": "text/x-python",
   "name": "python",
   "nbconvert_exporter": "python",
   "pygments_lexer": "ipython3",
   "version": "3.11.4"
  }
 },
 "nbformat": 4,
 "nbformat_minor": 5
}
