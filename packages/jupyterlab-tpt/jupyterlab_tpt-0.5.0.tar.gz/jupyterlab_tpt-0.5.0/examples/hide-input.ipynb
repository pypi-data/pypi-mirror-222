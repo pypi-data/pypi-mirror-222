{
 "cells": [
  {
   "cell_type": "markdown",
   "id": "8fb8ca7f-d0df-40e3-ae3b-9287615dcf7e",
   "metadata": {
    "editable": true,
    "slideshow": {
     "slide_type": ""
    },
    "tags": []
   },
   "source": [
    "# a regular markdown section"
   ]
  },
  {
   "cell_type": "markdown",
   "id": "7d6d913c-58f4-4920-9247-8b8cdb771338",
   "metadata": {},
   "source": [
    "with one markdown cell (this very one) and one code cell"
   ]
  },
  {
   "cell_type": "code",
   "execution_count": 6,
   "id": "0b11dcb0-b0c2-4b32-9b52-9488d5965454",
   "metadata": {
    "editable": true,
    "scrolled": true,
    "slideshow": {
     "slide_type": ""
    },
    "tags": []
   },
   "outputs": [
    {
     "name": "stdout",
     "output_type": "stream",
     "text": [
      "hello\n"
     ]
    }
   ],
   "source": [
    "# code (visible)\n",
    "print(\"hello\")"
   ]
  },
  {
   "cell_type": "markdown",
   "id": "71f57ade-d1a4-4b15-8813-78793d85797e",
   "metadata": {},
   "source": [
    "# section with hidden cells\n",
    "\n",
    "below we repeat these 2 cells, with hide-input set\n"
   ]
  },
  {
   "cell_type": "markdown",
   "id": "8969e6ed-bf29-45fc-95be-aa62a2b84b32",
   "metadata": {
    "editable": true,
    "slideshow": {
     "slide_type": ""
    },
    "tags": [
     "hide-input"
    ]
   },
   "source": [
    "a (hidden-input) markdown cell wont show up at all"
   ]
  },
  {
   "cell_type": "code",
   "execution_count": 5,
   "id": "a0c0319d-5add-4049-9b8f-625339602e45",
   "metadata": {
    "editable": true,
    "scrolled": true,
    "slideshow": {
     "slide_type": ""
    },
    "tags": [
     "hide-input"
    ]
   },
   "outputs": [
    {
     "name": "stdout",
     "output_type": "stream",
     "text": [
      "hello\n"
     ]
    }
   ],
   "source": [
    "# code (hidden-input) will just produce an output, but won't show up\n",
    "print(\"hello\")"
   ]
  },
  {
   "cell_type": "code",
   "execution_count": null,
   "id": "9a78a899-cf3f-42e1-9818-9a98bc071538",
   "metadata": {
    "editable": true,
    "slideshow": {
     "slide_type": ""
    },
    "tags": [
     "hide-input"
    ]
   },
   "outputs": [],
   "source": []
  }
 ],
 "metadata": {
  "kernelspec": {
   "display_name": "Python 3 (ipykernel)",
   "language": "python",
   "name": "python3"
  },
  "language_info": {
   "codemirror_mode": {
    "name": "ipython",
    "version": 3
   },
   "file_extension": ".py",
   "mimetype": "text/x-python",
   "name": "python",
   "nbconvert_exporter": "python",
   "pygments_lexer": "ipython3",
   "version": "3.11.3"
  },
  "toc": {
   "base_numbering": 1
  }
 },
 "nbformat": 4,
 "nbformat_minor": 5
}
