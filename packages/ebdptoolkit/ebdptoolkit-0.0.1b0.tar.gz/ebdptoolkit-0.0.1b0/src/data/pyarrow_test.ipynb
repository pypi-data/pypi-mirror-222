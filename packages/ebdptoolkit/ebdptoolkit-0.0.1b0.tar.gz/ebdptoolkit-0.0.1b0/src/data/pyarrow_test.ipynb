{
 "cells": [
  {
   "cell_type": "markdown",
   "metadata": {},
   "source": [
    "Download the dataset - note that this requires around 40GB of RAM...\n",
    "\n",
    "Remember to delete afterwards to free up space!\n",
    "`aws s3 cp --region us-west-2 --no-sign-request --recursive s3://overturemaps-us-west-2/release/2023-07-26-alpha.0/theme=places/ ~/dev/temp/test.parquet`"
   ]
  },
  {
   "cell_type": "markdown",
   "metadata": {},
   "source": [
    "Use pyarrow to read the dataset via the [read_table](https://arrow.apache.org/docs/python/generated/pyarrow.parquet.read_table.html) method."
   ]
  },
  {
   "cell_type": "code",
   "execution_count": null,
   "metadata": {},
   "outputs": [],
   "source": [
    "import pyarrow.parquet as pq\n",
    "\n",
    "dataset = pq.read_table(\"~/dev/temp/overture/place\")"
   ]
  },
  {
   "cell_type": "code",
   "execution_count": 4,
   "metadata": {},
   "outputs": [
    {
     "data": {
      "text/plain": [
       "['id',\n",
       " 'updatetime',\n",
       " 'version',\n",
       " 'names',\n",
       " 'categories',\n",
       " 'confidence',\n",
       " 'websites',\n",
       " 'socials',\n",
       " 'emails',\n",
       " 'phones',\n",
       " 'brand',\n",
       " 'addresses',\n",
       " 'sources',\n",
       " 'bbox',\n",
       " 'geometry']"
      ]
     },
     "execution_count": 4,
     "metadata": {},
     "output_type": "execute_result"
    }
   ],
   "source": [
    "dataset.column_names"
   ]
  },
  {
   "cell_type": "code",
   "execution_count": 3,
   "metadata": {},
   "outputs": [
    {
     "data": {
      "text/plain": [
       "id: string\n",
       "updatetime: string\n",
       "version: int32\n",
       "names: map<string, list<array_element: map<string, string ('array_element')>> ('names')>\n",
       "  child 0, names: struct<key: string not null, value: list<array_element: map<string, string ('array_element')>>> not null\n",
       "      child 0, key: string not null\n",
       "      child 1, value: list<array_element: map<string, string ('array_element')>>\n",
       "          child 0, array_element: map<string, string ('array_element')>\n",
       "              child 0, array_element: struct<key: string not null, value: string> not null\n",
       "                  child 0, key: string not null\n",
       "                  child 1, value: string\n",
       "categories: struct<main: string, alternate: list<array_element: string>>\n",
       "  child 0, main: string\n",
       "  child 1, alternate: list<array_element: string>\n",
       "      child 0, array_element: string\n",
       "confidence: double\n",
       "websites: list<array_element: string>\n",
       "  child 0, array_element: string\n",
       "socials: list<array_element: string>\n",
       "  child 0, array_element: string\n",
       "emails: list<array_element: string>\n",
       "  child 0, array_element: string\n",
       "phones: list<array_element: string>\n",
       "  child 0, array_element: string\n",
       "brand: struct<names: map<string, list<array_element: map<string, string ('array_element')>> ('names')>, wikidata: string>\n",
       "  child 0, names: map<string, list<array_element: map<string, string ('array_element')>> ('names')>\n",
       "      child 0, names: struct<key: string not null, value: list<array_element: map<string, string ('array_element')>>> not null\n",
       "          child 0, key: string not null\n",
       "          child 1, value: list<array_element: map<string, string ('array_element')>>\n",
       "              child 0, array_element: map<string, string ('array_element')>\n",
       "                  child 0, array_element: struct<key: string not null, value: string> not null\n",
       "                      child 0, key: string not null\n",
       "                      child 1, value: string\n",
       "  child 1, wikidata: string\n",
       "addresses: list<array_element: map<string, string ('array_element')>>\n",
       "  child 0, array_element: map<string, string ('array_element')>\n",
       "      child 0, array_element: struct<key: string not null, value: string> not null\n",
       "          child 0, key: string not null\n",
       "          child 1, value: string\n",
       "sources: list<array_element: map<string, string ('array_element')>>\n",
       "  child 0, array_element: map<string, string ('array_element')>\n",
       "      child 0, array_element: struct<key: string not null, value: string> not null\n",
       "          child 0, key: string not null\n",
       "          child 1, value: string\n",
       "bbox: struct<minx: double, maxx: double, miny: double, maxy: double>\n",
       "  child 0, minx: double\n",
       "  child 1, maxx: double\n",
       "  child 2, miny: double\n",
       "  child 3, maxy: double\n",
       "geometry: binary\n",
       "-- schema metadata --\n",
       "writer.time.zone: 'UTC'"
      ]
     },
     "execution_count": 3,
     "metadata": {},
     "output_type": "execute_result"
    }
   ],
   "source": [
    "dataset.schema"
   ]
  }
 ],
 "metadata": {
  "kernelspec": {
   "display_name": ".venv",
   "language": "python",
   "name": "python3"
  },
  "language_info": {
   "codemirror_mode": {
    "name": "ipython",
    "version": 3
   },
   "file_extension": ".py",
   "mimetype": "text/x-python",
   "name": "python",
   "nbconvert_exporter": "python",
   "pygments_lexer": "ipython3",
   "version": "3.11.4"
  },
  "orig_nbformat": 4
 },
 "nbformat": 4,
 "nbformat_minor": 2
}
