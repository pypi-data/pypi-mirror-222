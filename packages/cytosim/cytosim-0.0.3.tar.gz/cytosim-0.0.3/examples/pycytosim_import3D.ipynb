{
 "cells": [
  {
   "cell_type": "markdown",
   "metadata": {},
   "source": [
    "# Loading 3D objects from file\n",
    "Requires Python>=3.7  \n",
    "\n",
    "Here we showcase object creation by creating a network of filaments and motors.  "
   ]
  },
  {
   "cell_type": "markdown",
   "metadata": {},
   "source": [
    "This requires compiling cytosim in 3 dimensions. For this edit the file \"src/math/dim.h\" to have \"DIM = 3\". Then compile cythosim and play, and move cytosim.---.so to the current folder.\n",
    "```bash\n",
    "$ make -j4 pycytosim play\n",
    "$ cp bin/*.so ./examples/\n",
    "```"
   ]
  },
  {
   "cell_type": "code",
   "execution_count": 1,
   "metadata": {},
   "outputs": [],
   "source": [
    "import cytosim\n",
    "import numpy as np\n",
    "import pandas as pd"
   ]
  },
  {
   "cell_type": "markdown",
   "metadata": {},
   "source": [
    "### Starting simulation\n",
    "Here we start with fiber.cym for simplicity, and we erase the filament."
   ]
  },
  {
   "cell_type": "code",
   "execution_count": 2,
   "metadata": {},
   "outputs": [],
   "source": [
    "parser = cytosim.start(\"../cym/fiber.cym\")\n",
    "sim = parser.simul"
   ]
  },
  {
   "cell_type": "code",
   "execution_count": 3,
   "metadata": {},
   "outputs": [],
   "source": [
    "sim.fibers.erase_all()\n",
    "sim.once()"
   ]
  },
  {
   "cell_type": "markdown",
   "metadata": {},
   "source": [
    "### Defining actin filament properties\n",
    "We define actin as a semi-flexible filament, and define segmentation length ds as 3nm."
   ]
  },
  {
   "cell_type": "code",
   "execution_count": 4,
   "metadata": {},
   "outputs": [],
   "source": [
    "ds = 0.003\n",
    "actin_props = \"rigidity = 0.01 ; segmentation = %s ; confine = inside, 200, cell\" %ds\n",
    "parser.set(\"fiber\",\"actin\",actin_props);"
   ]
  },
  {
   "cell_type": "markdown",
   "metadata": {},
   "source": [
    "### Loading from file \n",
    "Here we take file file_example_1_xCoeur749.384_yCoeur898.589.txt from the repository https://gitlab.com/SergeDmi/podosome-demo/-/tree/master/data\n",
    "\n",
    "This contains a fraction of a podosome, in which actin filament have been segmented by electron tomography.\n",
    "\n",
    "Download the file to the current folder to run this example. To download it, run : \n",
    "```bash\n",
    "$ git clone git@gitlab.com:SergeDmi/podosome-demo.git pdemo\n",
    "$ cp pdemo/data/file_example_1_xCoeur749.384_yCoeur898.589.txt .\n",
    "```\n",
    "\n"
   ]
  },
  {
   "cell_type": "code",
   "execution_count": 5,
   "metadata": {},
   "outputs": [],
   "source": [
    "filename = \"file_example_1_xCoeur749.384_yCoeur898.589.txt\"\n",
    "raw_fibs = pd.read_csv(filename, header=None,).to_numpy()"
   ]
  },
  {
   "cell_type": "code",
   "execution_count": 6,
   "metadata": {},
   "outputs": [],
   "source": [
    "# column 4 contain the filament number\n",
    "# column 1-3 contain the x,y,z coordinates\n",
    "for ix in np.unique(raw_fibs[:,4]):\n",
    "    pts = raw_fibs[raw_fibs[:,4]==ix,1:4]/1000.0\n",
    "    length = (pts.shape[0] - 1)*ds\n",
    "    # adding one filament with the adequate number of points\n",
    "    newfil = sim.add(\"actin\", \"length=%s\"%length, 1)[0]\n",
    "    # replacing these points by those read in the files\n",
    "    np.array(newfil.data(),copy=False)[:,:] = pts"
   ]
  },
  {
   "cell_type": "code",
   "execution_count": 7,
   "metadata": {},
   "outputs": [],
   "source": [
    "# Running several timesteps and saving\n",
    "parser.save()\n",
    "for i in range(10):\n",
    "    sim.once()\n",
    "    parser.save()"
   ]
  },
  {
   "cell_type": "markdown",
   "metadata": {},
   "source": [
    "### Changing segmentation size\n",
    "We can change the segmentation of the imported filaments to allow for faster simulations."
   ]
  },
  {
   "cell_type": "code",
   "execution_count": 8,
   "metadata": {},
   "outputs": [],
   "source": [
    "parser.change(\"actin\",\"segmentation = %s\" %(ds*5))"
   ]
  },
  {
   "cell_type": "code",
   "execution_count": 9,
   "metadata": {},
   "outputs": [],
   "source": [
    "parser.save()\n",
    "for i in range(20):\n",
    "    sim.once()\n",
    "    parser.save()"
   ]
  },
  {
   "cell_type": "markdown",
   "metadata": {},
   "source": [
    "### Playing the results\n",
    "This requires play to be compiled in the folder /bin.  "
   ]
  },
  {
   "cell_type": "code",
   "execution_count": null,
   "metadata": {},
   "outputs": [
    {
     "name": "stdout",
     "output_type": "stream",
     "text": [
      "chain f2:0369\r\n",
      "{\r\n",
      "    segmentation = 0.003\r\n",
      "    segment_min = 0.00280314\r\n",
      "    segment_max = 0.00299999\r\n",
      "    length  = 0.228\r\n",
      "    contour = 0.225235\r\n",
      "}\r\n",
      "chain f2:0322\r\n",
      "{\r\n",
      "    segmentation = 0.003\r\n",
      "    segment_min = 0.00283317\r\n",
      "    segment_max = 0.0029989\r\n",
      "    length  = 0.102\r\n",
      "    contour = 0.101254\r\n",
      "}\r\n",
      "chain f2:0297\r\n",
      "{\r\n",
      "    segmentation = 0.003\r\n",
      "    segment_min = 0.00284855\r\n",
      "    segment_max = 0.00299997\r\n",
      "    length  = 0.072\r\n",
      "    contour = 0.070953\r\n",
      "}\r\n",
      "chain f2:0089\r\n",
      "{\r\n",
      "    segmentation = 0.003\r\n",
      "    segment_min = 0.00280177\r\n",
      "    segment_max = 0.00300001\r\n",
      "    length  = 0.348\r\n",
      "    contour = 0.345389\r\n",
      "}\r\n"
     ]
    }
   ],
   "source": [
    "# Playing ()\n",
    "!./bin/play"
   ]
  },
  {
   "cell_type": "code",
   "execution_count": null,
   "metadata": {},
   "outputs": [],
   "source": []
  }
 ],
 "metadata": {
  "kernelspec": {
   "display_name": "Python 3 (ipykernel)",
   "language": "python",
   "name": "python3"
  },
  "language_info": {
   "codemirror_mode": {
    "name": "ipython",
    "version": 3
   },
   "file_extension": ".py",
   "mimetype": "text/x-python",
   "name": "python",
   "nbconvert_exporter": "python",
   "pygments_lexer": "ipython3",
   "version": "3.9.13"
  }
 },
 "nbformat": 4,
 "nbformat_minor": 4
}
