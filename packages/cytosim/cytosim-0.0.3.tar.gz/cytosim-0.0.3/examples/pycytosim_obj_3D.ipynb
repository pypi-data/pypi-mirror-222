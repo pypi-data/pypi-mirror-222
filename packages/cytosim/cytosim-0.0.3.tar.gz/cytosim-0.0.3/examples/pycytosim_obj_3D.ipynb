{
 "cells": [
  {
   "cell_type": "markdown",
   "metadata": {},
   "source": [
    "# Dealing with 3D objects\n",
    "Requires Python>=3.7  \n",
    "Before running, copy or move the cytosim module (cytosim.---.so) to the current folder.\n",
    "```bash\n",
    "$ make -j4 pycytosim\n",
    "$ cp bin/*.so examples/\n",
    "```\n",
    "\n",
    "Here we showcase by plotting a network of filaments and motors.  \n",
    "Requires iPyvolume (conda install -c conda-forge ipyvolume) "
   ]
  },
  {
   "cell_type": "code",
   "execution_count": 1,
   "metadata": {},
   "outputs": [],
   "source": [
    "import cytosim\n",
    "import numpy as np\n",
    "import matplotlib.pyplot as plt"
   ]
  },
  {
   "cell_type": "code",
   "execution_count": 2,
   "metadata": {},
   "outputs": [],
   "source": [
    "# Just a function to plot the system in 3D\n",
    "try:\n",
    "    import ipyvolume as ipv\n",
    "    def plot_sim(sim):\n",
    "        f = ipv.figure()\n",
    "        for fiber in sim.fibers:\n",
    "            p = fiber.points()\n",
    "            ipv.plot(p[:,0],p[:,1],p[:,2],color=\"green\")\n",
    "            ipv.scatter(p[:,0],p[:,1],p[:,2],color=\"green\")\n",
    "        pos2 = np.array([c.position() for c in sim.couples if c.state()==3])\n",
    "        pos1 = np.array([c.position() for c in sim.couples if c.state()==1 or c.state()==2])\n",
    "        if pos2.size>0:\n",
    "            ipv.scatter(pos2[:,0],pos2[:,1],pos2[:,2],color=\"red\",size=15, marker=\"sphere\")\n",
    "        if pos1.size>0:\n",
    "            ipv.scatter(pos1[:,0],pos1[:,1],pos1[:,2],color=\"magenta\",size=15, marker=\"sphere\")\n",
    "        #ipv.xlim(-10, 10)\n",
    "        #ipv.ylim(-10, 10)\n",
    "        #ipv.zlim(-10, 10)\n",
    "        ipv.squarelim()\n",
    "        f.camera.position = (0, -20, 0)\n",
    "        f.camera.fov = 400\n",
    "        f.camera.lookAt([0,0,0])\n",
    "        ipv.show()\n",
    "\n",
    "except:\n",
    "    print(\"Could not import ipyvolume\")\n",
    "    def plot_sim(sim):\n",
    "        print(\"Ipyvolume not installed\")\n"
   ]
  },
  {
   "cell_type": "markdown",
   "metadata": {},
   "source": [
    "## Fiber simulation\n",
    "Here we simulate and a fiber. Each point correspond to the end of a segment."
   ]
  },
  {
   "cell_type": "code",
   "execution_count": 3,
   "metadata": {},
   "outputs": [],
   "source": [
    "parser = cytosim.start(\"../cym/fiber.cym\")\n",
    "sim = parser.simul"
   ]
  },
  {
   "cell_type": "code",
   "execution_count": 4,
   "metadata": {},
   "outputs": [
    {
     "data": {
      "application/vnd.jupyter.widget-view+json": {
       "model_id": "1c420d3479de4671a7077c5dd4d33354",
       "version_major": 2,
       "version_minor": 0
      },
      "text/plain": [
       "VBox(children=(Figure(camera=PerspectiveCamera(fov=400.0, position=(0.0, -20.0, 0.0), projectionMatrix=(1.0, 0…"
      ]
     },
     "metadata": {},
     "output_type": "display_data"
    }
   ],
   "source": [
    "# Adding with instructions\n",
    "parser.add(\"filament\",\"length = 5\",50)\n",
    "parser.run(10)\n",
    "plot_sim(sim)"
   ]
  },
  {
   "cell_type": "code",
   "execution_count": 5,
   "metadata": {},
   "outputs": [
    {
     "data": {
      "application/vnd.jupyter.widget-view+json": {
       "model_id": "9c45ffe235c14e9bbc691c76ce8cd342",
       "version_major": 2,
       "version_minor": 0
      },
      "text/plain": [
       "VBox(children=(Figure(camera=PerspectiveCamera(fov=400.0, position=(0.0, -20.0, 0.0), projectionMatrix=(1.0, 0…"
      ]
     },
     "metadata": {},
     "output_type": "display_data"
    }
   ],
   "source": [
    "kin_props = \"binding_rate=10; binding_range=0.1; \\\n",
    "    unbinding_rate = 0.3 ; unbinding_force = 5 ; \\\n",
    "    activity=move; unloaded_speed = 1.0 ; stall_force = 5 ;hold_growing_end=1 ; \"\n",
    "s = parser.set(\"hand\",\"kinesin\",kin_props)\n",
    "mot_props = \"hand1=kinesin ; hand2=kinesin ; stiffness=100 ; diffusion=100 ; length = 0.05\"\n",
    "parser.set(\"couple\",\"motor\",mot_props)\n",
    "a = parser.add(\"motor\",\"\",1000)\n",
    "parser.run(500)\n",
    "plot_sim(sim)"
   ]
  },
  {
   "cell_type": "code",
   "execution_count": null,
   "metadata": {},
   "outputs": [],
   "source": []
  }
 ],
 "metadata": {
  "kernelspec": {
   "display_name": "Python 3 (ipykernel)",
   "language": "python",
   "name": "python3"
  },
  "language_info": {
   "codemirror_mode": {
    "name": "ipython",
    "version": 3
   },
   "file_extension": ".py",
   "mimetype": "text/x-python",
   "name": "python",
   "nbconvert_exporter": "python",
   "pygments_lexer": "ipython3",
   "version": "3.9.13"
  }
 },
 "nbformat": 4,
 "nbformat_minor": 4
}
