{
 "cells": [
  {
   "cell_type": "markdown",
   "metadata": {},
   "source": [
    "## Installation\n",
    "\n",
    "Use pip to install the Commonbase Python SDK"
   ]
  },
  {
   "cell_type": "code",
   "execution_count": null,
   "metadata": {
    "vscode": {
     "languageId": "shellscript"
    }
   },
   "outputs": [],
   "source": [
    "pip install commonbase"
   ]
  },
  {
   "cell_type": "markdown",
   "metadata": {},
   "source": [
    "## Usage"
   ]
  },
  {
   "cell_type": "markdown",
   "metadata": {},
   "source": [
    "A project ID is required for all Commonbase requests. You can find your project ID in the [Commonbase Dashboard](https://commonbase.com/).\n",
    "\n",
    "To create a completion, provide your project ID and prompt to the `Completion.create` class method."
   ]
  },
  {
   "cell_type": "code",
   "execution_count": null,
   "metadata": {},
   "outputs": [],
   "source": [
    "import commonbase\n",
    "\n",
    "project_id=\"<YOUR_PROJECT_ID>\"\n",
    "\n",
    "result = commonbase.Completion.create(project_id=project_id, prompt=\"Hello!\")\n",
    "\n",
    "print(result.choices[0].text)"
   ]
  },
  {
   "cell_type": "markdown",
   "metadata": {},
   "source": [
    "Use `Completion.stream` to stream a completion response."
   ]
  },
  {
   "cell_type": "code",
   "execution_count": null,
   "metadata": {},
   "outputs": [],
   "source": [
    "import commonbase\n",
    "\n",
    "project_id=\"<YOUR_PROJECT_ID>\"\n",
    "\n",
    "result = commonbase.Completion.stream(project_id=project_id, prompt=\"Write me a short essay about artificial intelligence.\")\n",
    "\n",
    "for completion in result:\n",
    "    if not completion.completed:\n",
    "        print(completion.choices[0].text, end=\"\")\n",
    "    else:\n",
    "        print(\"\\n\\ndone\")"
   ]
  },
  {
   "cell_type": "markdown",
   "metadata": {},
   "source": [
    "### Chat\n",
    "\n",
    "To create a chat completion, use the `chat_context` argument to provide a list of chat messages.\n",
    "You must also set the OpenAI configuration to `chat`. In this mode, the `prompt` argument\n",
    "functions as a system message."
   ]
  },
  {
   "cell_type": "code",
   "execution_count": null,
   "metadata": {},
   "outputs": [],
   "source": [
    "import commonbase\n",
    "\n",
    "project_id=\"<YOUR_PROJECT_ID>\"\n",
    "\n",
    "result = commonbase.Completion.create(\n",
    "    project_id=project_id,\n",
    "    prompt=\"You are an assistant who helps users with tech problems.\",\n",
    "    chat_context=commonbase.ChatContext([\n",
    "        commonbase.ChatMessage(role=\"user\", content=\"My internet isn't working.\"),\n",
    "        commonbase.ChatMessage(role=\"assistant\", content=\"Have you tried restarting your router?\"),\n",
    "        commonbase.ChatMessage(role=\"user\", content=\"Yes I've tried that.\"),\n",
    "    ]),\n",
    "    provider_config=commonbase.ProviderConfig(\n",
    "        provider=\"cb-openai-eu\", params=commonbase.OpenAIParams(type=\"chat\")\n",
    "    ),\n",
    ")\n",
    "\n",
    "print(result.choices[0].text)"
   ]
  }
 ],
 "metadata": {
  "kernelspec": {
   "display_name": "Python 3",
   "language": "python",
   "name": "python3"
  },
  "language_info": {
   "codemirror_mode": {
    "name": "ipython",
    "version": 3
   },
   "file_extension": ".py",
   "mimetype": "text/x-python",
   "name": "python",
   "nbconvert_exporter": "python",
   "pygments_lexer": "ipython3",
   "version": "3.11.4"
  },
  "orig_nbformat": 4
 },
 "nbformat": 4,
 "nbformat_minor": 2
}
