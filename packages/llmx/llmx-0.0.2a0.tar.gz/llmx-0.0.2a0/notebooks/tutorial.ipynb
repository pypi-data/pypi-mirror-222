{
 "cells": [
  {
   "cell_type": "code",
   "execution_count": 5,
   "metadata": {},
   "outputs": [],
   "source": [
    "from llmx.generators.text.textgen import TextGenerator\n",
    "from llmx.datamodel import TextGenerationConfig"
   ]
  },
  {
   "cell_type": "code",
   "execution_count": 6,
   "metadata": {},
   "outputs": [],
   "source": [
    "config = TextGenerationConfig( \n",
    "    n=1,\n",
    "    temperature=0.0,\n",
    "    max_tokens=100,\n",
    "    top_p=1.0,\n",
    "    top_k=50,\n",
    "    frequency_penalty=0.0,\n",
    "    presence_penalty=0.0,\n",
    "    messages =  [\n",
    "        {\"role\": \"user\", \"content\": \"What is the height of the Eiffel Tower?\"},\n",
    "    ]\n",
    ")"
   ]
  },
  {
   "attachments": {},
   "cell_type": "markdown",
   "metadata": {},
   "source": [
    "## Multiple Providers - OpenAI, PaLM etc"
   ]
  },
  {
   "cell_type": "code",
   "execution_count": 7,
   "metadata": {},
   "outputs": [
    {
     "name": "stdout",
     "output_type": "stream",
     "text": [
      "The height of the Eiffel Tower is 324 meters (1,063 feet).\n"
     ]
    }
   ],
   "source": [
    "openai_gen = TextGenerator(provider=\"openai\")\n",
    "openai_response = openai_gen.generate(config=config, use_cache=False)\n",
    "print(openai_response.text[0].content)"
   ]
  },
  {
   "cell_type": "code",
   "execution_count": 9,
   "metadata": {},
   "outputs": [
    {
     "name": "stdout",
     "output_type": "stream",
     "text": [
      "The Eiffel Tower is 324 meters (1,063 ft) tall, about the same height as an 81-story building, and the tallest structure in Paris. Built from 1887–89 as the entrance to the 1889 World's Fair, it was initially criticised by some of France's leading artists and intellectuals for its design, but it has become a global cultural icon of France and one of the most recognisable structures in the world. The Eiffel Tower is the most-visited paid monument in the world; 6.91 million people ascended it in 2015.\n"
     ]
    }
   ],
   "source": [
    "config.model = \"models/chat-bison-001\" # important to set the right model name\n",
    "config.n = 2\n",
    "palm_gen = TextGenerator(provider=\"palm\")\n",
    "palm_response = palm_gen.generate(config=config, use_cache=False)\n",
    "print(palm_response.text[0].content)"
   ]
  },
  {
   "cell_type": "code",
   "execution_count": 10,
   "metadata": {},
   "outputs": [
    {
     "data": {
      "text/plain": [
       "[Message(role='assistant', content=\"The Eiffel Tower is 324 meters (1,063 ft) tall, about the same height as an 81-story building, and the tallest structure in Paris. Built from 1887–89 as the entrance to the 1889 World's Fair, it was initially criticised by some of France's leading artists and intellectuals for its design, but it has become a global cultural icon of France and one of the most recognisable structures in the world. The Eiffel Tower is the most-visited paid monument in the world; 6.91 million people ascended it in 2015.\"),\n",
       " Message(role='assistant', content=\"The Eiffel Tower is 324 meters (1,063 ft) tall, about the same height as an 81-story building, and the tallest structure in Paris. Constructed from 1887–89 as the entrance to the 1889 World's Fair, it was initially criticized by some of France's leading artists and intellectuals for its design, but it has become a global cultural icon of France and one of the most recognizable structures in the world. The tower is the most-visited paid monument in the world; 6.91 million people ascended it in 2015.\")]"
      ]
     },
     "execution_count": 10,
     "metadata": {},
     "output_type": "execute_result"
    }
   ],
   "source": [
    "palm_response.text"
   ]
  },
  {
   "cell_type": "code",
   "execution_count": null,
   "metadata": {},
   "outputs": [],
   "source": []
  }
 ],
 "metadata": {
  "kernelspec": {
   "display_name": "base",
   "language": "python",
   "name": "python3"
  },
  "language_info": {
   "codemirror_mode": {
    "name": "ipython",
    "version": 3
   },
   "file_extension": ".py",
   "mimetype": "text/x-python",
   "name": "python",
   "nbconvert_exporter": "python",
   "pygments_lexer": "ipython3",
   "version": "3.11.4"
  },
  "orig_nbformat": 4
 },
 "nbformat": 4,
 "nbformat_minor": 2
}
