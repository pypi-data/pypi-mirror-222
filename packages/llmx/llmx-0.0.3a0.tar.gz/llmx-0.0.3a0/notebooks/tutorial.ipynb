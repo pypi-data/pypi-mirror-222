{
 "cells": [
  {
   "cell_type": "code",
   "execution_count": 1,
   "metadata": {},
   "outputs": [],
   "source": [
    "from llmx import  text_generator as generator\n",
    "from llmx.datamodel import TextGenerationConfig"
   ]
  },
  {
   "cell_type": "code",
   "execution_count": 11,
   "metadata": {},
   "outputs": [],
   "source": [
    "config = TextGenerationConfig( \n",
    "    n=1,\n",
    "    temperature=0.8,\n",
    "    max_tokens=100,\n",
    "    top_p=1.0,\n",
    "    top_k=50,\n",
    "    frequency_penalty=0.0,\n",
    "    presence_penalty=0.0,\n",
    ")\n",
    "messages =  messages = [\n",
    "    {\"role\": \"system\", \"content\": \"You are a helpful assistant that can explain concepts clearly to a 6 year old child.\"},\n",
    "    {\"role\": \"user\", \"content\": \"What is  gravity?\"}\n",
    "]"
   ]
  },
  {
   "attachments": {},
   "cell_type": "markdown",
   "metadata": {},
   "source": [
    "## Multiple Providers - OpenAI, PaLM etc"
   ]
  },
  {
   "cell_type": "code",
   "execution_count": 12,
   "metadata": {},
   "outputs": [
    {
     "name": "stdout",
     "output_type": "stream",
     "text": [
      "Gravity is like a special invisible force that pulls things towards each other. It's what keeps us on the ground instead of floating off into space! It's also what makes things fall when you drop them. Imagine if you have a ball in your hand and you let it go, it falls down, right? That's gravity pulling it towards the ground.\n"
     ]
    }
   ],
   "source": [
    "openai_gen = generator(provider=\"openai\")\n",
    "openai_config = TextGenerationConfig(model=\"gpt-4\", max_tokens=50)\n",
    "openai_response = openai_gen.generate(messages, config=openai_config, use_cache=True)\n",
    "print(openai_response.text[0].content)"
   ]
  },
  {
   "cell_type": "code",
   "execution_count": 13,
   "metadata": {},
   "outputs": [
    {
     "data": {
      "text/plain": [
       "TextGenerationResponse(text=[Message(role='assistant', content=\"Gravity is like a special invisible force that pulls things towards each other. It's what keeps us on the ground instead of floating off into space! It's also what makes things fall when you drop them. Imagine if you have a ball in your hand and you let it go, it falls down, right? That's gravity pulling it towards the ground.\")], config=TextGenerationConfig(n=1, temperature=0.1, max_tokens=8147, top_p=1.0, top_k=50, frequency_penalty=0.0, presence_penalty=0.0, model_type='openai', model='gpt-4', stop=None), logprobs=[], usage={'prompt_tokens': 34, 'completion_tokens': 71, 'total_tokens': 105})"
      ]
     },
     "execution_count": 13,
     "metadata": {},
     "output_type": "execute_result"
    }
   ],
   "source": [
    "openai_response"
   ]
  },
  {
   "cell_type": "code",
   "execution_count": 14,
   "metadata": {},
   "outputs": [
    {
     "name": "stdout",
     "output_type": "stream",
     "text": [
      "Gravity is a force that pulls objects towards each other. The more mass an object has, the stronger its gravitational pull. The Earth has a very strong gravitational pull, which is why we don't float off into space. The Moon also has a gravitational pull, which is why it orbits the Earth.\n",
      "\n",
      "You can see gravity in action when you drop a ball. The ball falls to the ground because of the Earth's gravitational pull. You can also see gravity in action when you jump. When you jump, you push off the ground with your feet. The ground pushes back on you with an equal and opposite force, which is what makes you jump.\n",
      "\n",
      "Gravity is a very important force in the universe. It keeps the planets in orbit around the sun, and it keeps the moon in orbit around the Earth. It also keeps us on the ground!\n",
      "\n",
      "Here's a fun experiment you can do to learn more about gravity:\n",
      "\n",
      "1. Take a balloon and blow it up.\n",
      "2. Tie a string to the balloon.\n",
      "3. Hold the balloon up in the air and let go of the string.\n",
      "4. Watch what happens to the balloon.\n",
      "\n",
      "The balloon will fall to the ground because of the Earth's gravitational pull. This is a simple example of how gravity works.\n"
     ]
    }
   ],
   "source": [
    "palm_gen = generator(provider=\"palm\")\n",
    "palm_config = TextGenerationConfig(model=\"models/chat-bison-001\", max_tokens=50)\n",
    "palm_response = palm_gen.generate(messages, config=palm_config, use_cache=True)\n",
    "print(palm_response.text[0].content)"
   ]
  },
  {
   "cell_type": "code",
   "execution_count": 15,
   "metadata": {},
   "outputs": [
    {
     "name": "stdout",
     "output_type": "stream",
     "text": [
      "Gravity is a force that pulls things towards each other. It's what makes things fall to the ground and what holds us on the earth. It's also what makes the moon orbit the earth and the planets orbit the sun. Gravity is a fundamental force\n"
     ]
    }
   ],
   "source": [
    "cohere_gen = generator(provider=\"cohere\")\n",
    "cohere_config = TextGenerationConfig(model=\"command\", max_tokens=50)\n",
    "cohere_response = cohere_gen.generate(messages, config=cohere_config, use_cache=True)\n",
    "print(cohere_response.text[0].content)"
   ]
  },
  {
   "cell_type": "code",
   "execution_count": null,
   "metadata": {},
   "outputs": [],
   "source": []
  }
 ],
 "metadata": {
  "kernelspec": {
   "display_name": "base",
   "language": "python",
   "name": "python3"
  },
  "language_info": {
   "codemirror_mode": {
    "name": "ipython",
    "version": 3
   },
   "file_extension": ".py",
   "mimetype": "text/x-python",
   "name": "python",
   "nbconvert_exporter": "python",
   "pygments_lexer": "ipython3",
   "version": "3.11.4"
  },
  "orig_nbformat": 4
 },
 "nbformat": 4,
 "nbformat_minor": 2
}
