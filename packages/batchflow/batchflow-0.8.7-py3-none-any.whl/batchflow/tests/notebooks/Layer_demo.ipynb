{
 "cells": [
  {
   "cell_type": "code",
   "execution_count": 1,
   "id": "9c1d9c2a-3289-467d-8cd3-63585300cb10",
   "metadata": {
    "execution": {
     "iopub.execute_input": "2022-06-21T13:58:29.009347Z",
     "iopub.status.busy": "2022-06-21T13:58:29.008820Z",
     "iopub.status.idle": "2022-06-21T13:58:32.055134Z",
     "shell.execute_reply": "2022-06-21T13:58:32.054319Z",
     "shell.execute_reply.started": "2022-06-21T13:58:29.009226Z"
    },
    "tags": []
   },
   "outputs": [],
   "source": [
    "%load_ext autoreload\n",
    "%autoreload 2\n",
    "import os\n",
    "import sys\n",
    "import warnings\n",
    "\n",
    "import numpy as np\n",
    "import torch\n",
    "import torch.nn as nn\n",
    "\n",
    "sys.path.insert(0, \"../../..\")\n",
    "from batchflow import *\n",
    "from batchflow.models.torch import *\n",
    "from batchflow.models.torch.layers import *"
   ]
  },
  {
   "cell_type": "markdown",
   "id": "6a23e1d7-429f-4764-8ad9-b41bd6cfd0b6",
   "metadata": {},
   "source": [
    "# Simple"
   ]
  },
  {
   "cell_type": "code",
   "execution_count": 2,
   "id": "0b53178f-76d9-4e13-8053-3ba1e14c29a2",
   "metadata": {
    "execution": {
     "iopub.execute_input": "2022-06-21T13:58:32.056151Z",
     "iopub.status.busy": "2022-06-21T13:58:32.056004Z",
     "iopub.status.idle": "2022-06-21T13:58:32.091372Z",
     "shell.execute_reply": "2022-06-21T13:58:32.090962Z",
     "shell.execute_reply.started": "2022-06-21T13:58:32.056134Z"
    },
    "tags": []
   },
   "outputs": [],
   "source": [
    "inputs = torch.rand(4, 3, 128, 128)"
   ]
  },
  {
   "cell_type": "code",
   "execution_count": 3,
   "id": "a6492c96-118d-4a28-af40-b0eb633e9b02",
   "metadata": {
    "execution": {
     "iopub.execute_input": "2022-06-21T13:58:32.092799Z",
     "iopub.status.busy": "2022-06-21T13:58:32.092425Z",
     "iopub.status.idle": "2022-06-21T13:58:32.130727Z",
     "shell.execute_reply": "2022-06-21T13:58:32.130048Z",
     "shell.execute_reply.started": "2022-06-21T13:58:32.092780Z"
    },
    "tags": []
   },
   "outputs": [
    {
     "data": {
      "text/plain": [
       "torch.Size([4, 17, 128, 128])"
      ]
     },
     "execution_count": 3,
     "metadata": {},
     "output_type": "execute_result"
    }
   ],
   "source": [
    "layer_torch = nn.Conv2d(in_channels=3, out_channels=17, kernel_size=3, padding=1, stride=1)\n",
    "layer_torch(inputs).shape"
   ]
  },
  {
   "cell_type": "code",
   "execution_count": 4,
   "id": "22994bb5-e029-4bc7-ab44-e1cd4dd33320",
   "metadata": {
    "execution": {
     "iopub.execute_input": "2022-06-21T13:58:32.131658Z",
     "iopub.status.busy": "2022-06-21T13:58:32.131512Z",
     "iopub.status.idle": "2022-06-21T13:58:32.167385Z",
     "shell.execute_reply": "2022-06-21T13:58:32.166867Z",
     "shell.execute_reply.started": "2022-06-21T13:58:32.131641Z"
    },
    "tags": []
   },
   "outputs": [
    {
     "data": {
      "text/plain": [
       "Conv2d(3, 17, kernel_size=(3, 3), stride=(1, 1), padding=(1, 1))"
      ]
     },
     "execution_count": 4,
     "metadata": {},
     "output_type": "execute_result"
    }
   ],
   "source": [
    "layer_torch"
   ]
  },
  {
   "cell_type": "code",
   "execution_count": null,
   "id": "821c3548-8bcc-4956-96d9-8e8c4b52df9a",
   "metadata": {},
   "outputs": [],
   "source": [
    "class Conv(nn.Module):\n",
    "    def __init__(self, inputs=None, **kwargs):\n",
    "        self.layer = nn.Conv2d(in_channels=inputs.shape[1], **kwargs)"
   ]
  },
  {
   "cell_type": "code",
   "execution_count": 56,
   "id": "388d8a53-bbac-4437-82c0-25d76e2ad56c",
   "metadata": {
    "execution": {
     "iopub.execute_input": "2022-06-21T14:38:28.649125Z",
     "iopub.status.busy": "2022-06-21T14:38:28.648718Z",
     "iopub.status.idle": "2022-06-21T14:38:28.700327Z",
     "shell.execute_reply": "2022-06-21T14:38:28.699294Z",
     "shell.execute_reply.started": "2022-06-21T14:38:28.649077Z"
    },
    "tags": []
   },
   "outputs": [
    {
     "data": {
      "text/plain": [
       "torch.Size([4, 8, 128, 128])"
      ]
     },
     "execution_count": 56,
     "metadata": {},
     "output_type": "execute_result"
    }
   ],
   "source": [
    "layer_bf = Conv(inputs=inputs, channels='max(1, same // 8) * 8', kernel_size=3, padding='same', stride=1)\n",
    "layer_bf(inputs).shape"
   ]
  },
  {
   "cell_type": "code",
   "execution_count": 6,
   "id": "75d31feb-1ce7-443b-984c-815991011266",
   "metadata": {
    "execution": {
     "iopub.execute_input": "2022-06-21T13:58:32.206130Z",
     "iopub.status.busy": "2022-06-21T13:58:32.205734Z",
     "iopub.status.idle": "2022-06-21T13:58:32.240405Z",
     "shell.execute_reply": "2022-06-21T13:58:32.239905Z",
     "shell.execute_reply.started": "2022-06-21T13:58:32.206109Z"
    },
    "tags": []
   },
   "outputs": [
    {
     "data": {
      "text/plain": [
       "Conv(\n",
       "  (layer): Conv2d(3, 17, kernel_size=(3, 3), stride=(1, 1), padding=(1, 1), bias=False)\n",
       ")"
      ]
     },
     "execution_count": 6,
     "metadata": {},
     "output_type": "execute_result"
    }
   ],
   "source": [
    "layer_bf"
   ]
  },
  {
   "cell_type": "code",
   "execution_count": 7,
   "id": "b317754a-6d61-4e4c-a73e-ca1e8ed73b75",
   "metadata": {
    "execution": {
     "iopub.execute_input": "2022-06-21T13:58:32.241448Z",
     "iopub.status.busy": "2022-06-21T13:58:32.241098Z",
     "iopub.status.idle": "2022-06-21T13:58:32.278629Z",
     "shell.execute_reply": "2022-06-21T13:58:32.278143Z",
     "shell.execute_reply.started": "2022-06-21T13:58:32.241427Z"
    },
    "tags": []
   },
   "outputs": [
    {
     "data": {
      "text/plain": [
       "(torch.Size([4, 3, 128, 128]), torch.Size([4, 3, 64, 64]))"
      ]
     },
     "execution_count": 7,
     "metadata": {},
     "output_type": "execute_result"
    }
   ],
   "source": [
    "(Activation('softmax', dim=-1)(inputs).shape,\n",
    " MaxPool(inputs=inputs, pool_size=3, pool_stride=2)(inputs).shape)"
   ]
  },
  {
   "cell_type": "markdown",
   "id": "01a1cfdb-3f44-4756-9417-0bff9e78699e",
   "metadata": {},
   "source": [
    "# Multilayer"
   ]
  },
  {
   "cell_type": "code",
   "execution_count": 10,
   "id": "3996f0ce-afa3-458c-9bf5-e8b09122fde8",
   "metadata": {
    "execution": {
     "iopub.execute_input": "2022-06-21T14:04:05.247514Z",
     "iopub.status.busy": "2022-06-21T14:04:05.246942Z",
     "iopub.status.idle": "2022-06-21T14:04:05.304133Z",
     "shell.execute_reply": "2022-06-21T14:04:05.303041Z",
     "shell.execute_reply.started": "2022-06-21T14:04:05.247462Z"
    },
    "tags": []
   },
   "outputs": [
    {
     "data": {
      "text/plain": [
       "torch.Size([4, 17, 128, 128])"
      ]
     },
     "execution_count": 10,
     "metadata": {},
     "output_type": "execute_result"
    }
   ],
   "source": [
    "block_torch = nn.Sequential(nn.Conv2d(3, 17, kernel_size=3, padding=1), nn.BatchNorm2d(17))\n",
    "block_torch(inputs).shape"
   ]
  },
  {
   "cell_type": "code",
   "execution_count": 34,
   "id": "1e56bd90-3123-4484-998d-fcc2bba73a54",
   "metadata": {
    "execution": {
     "iopub.execute_input": "2022-06-21T14:19:24.027523Z",
     "iopub.status.busy": "2022-06-21T14:19:24.027050Z",
     "iopub.status.idle": "2022-06-21T14:19:24.101245Z",
     "shell.execute_reply": "2022-06-21T14:19:24.100662Z",
     "shell.execute_reply.started": "2022-06-21T14:19:24.027474Z"
    },
    "tags": []
   },
   "outputs": [
    {
     "data": {
      "text/plain": [
       "torch.Size([4, 17, 128, 128])"
      ]
     },
     "execution_count": 34,
     "metadata": {},
     "output_type": "execute_result"
    }
   ],
   "source": [
    "block_bf = MultiLayer(inputs=inputs, layout='Rcnacn+', channels=17, kernel_size=[[3, 1], 5],\n",
    "                      branch={'layout': 'cn', 'channels': 17}, )\n",
    "block_bf(inputs).shape"
   ]
  },
  {
   "cell_type": "code",
   "execution_count": 43,
   "id": "cd9f655b-f9f2-49e0-a3cb-7cc4f4c10a08",
   "metadata": {
    "execution": {
     "iopub.execute_input": "2022-06-21T14:21:14.419307Z",
     "iopub.status.busy": "2022-06-21T14:21:14.418800Z",
     "iopub.status.idle": "2022-06-21T14:21:14.493847Z",
     "shell.execute_reply": "2022-06-21T14:21:14.492683Z",
     "shell.execute_reply.started": "2022-06-21T14:21:14.419250Z"
    },
    "tags": []
   },
   "outputs": [
    {
     "name": "stdout",
     "output_type": "stream",
     "text": [
      "MultiLayer(\n",
      "    layout=Rcnacn+\n",
      "    (Layer 0,    skip \"R\":  (?,   3, 128, 128)  ⟶ (?,  17, 128, 128), #params=493)\n",
      "    (Layer 1,  letter \"c\":  (?,   3, 128, 128)  ⟶ (?,  17, 128, 128), #params=153)\n",
      "    (Layer 2,  letter \"n\":  (?,  17, 128, 128)  ⟶ (?,  17, 128, 128), #params=34)\n",
      "    (Layer 3,  letter \"a\":  (?,  17, 128, 128)  ⟶ (?,  17, 128, 128), #params=0)\n",
      "    (Layer 4,  letter \"c\":  (?,  17, 128, 128)  ⟶ (?,  17, 128, 128), #params=7,225)\n",
      "    (Layer 5,  letter \"n\":  (?,  17, 128, 128)  ⟶ (?,  17, 128, 128), #params=34)\n",
      "    (Layer 6, combine \"+\": [(?,  17, 128, 128),\n",
      "                            (?,  17, 128, 128)] ⟶ (?,  17, 128, 128), #params=0)\n",
      ")\n"
     ]
    }
   ],
   "source": [
    "block_bf.repr(4, show_num_parameters=True)"
   ]
  },
  {
   "cell_type": "markdown",
   "id": "06dadf1a-d0c2-44f6-8d77-9137cf06bb96",
   "metadata": {
    "execution": {
     "iopub.execute_input": "2022-06-21T14:19:38.499356Z",
     "iopub.status.busy": "2022-06-21T14:19:38.498879Z",
     "iopub.status.idle": "2022-06-21T14:19:38.553052Z",
     "shell.execute_reply": "2022-06-21T14:19:38.552092Z",
     "shell.execute_reply.started": "2022-06-21T14:19:38.499305Z"
    },
    "tags": []
   },
   "source": [
    "# Named blocks"
   ]
  },
  {
   "cell_type": "code",
   "execution_count": 60,
   "id": "0cc89091-3143-4f0f-a4da-17b760fa9b00",
   "metadata": {
    "execution": {
     "iopub.execute_input": "2022-06-21T14:46:34.543959Z",
     "iopub.status.busy": "2022-06-21T14:46:34.543410Z",
     "iopub.status.idle": "2022-06-21T14:46:34.605239Z",
     "shell.execute_reply": "2022-06-21T14:46:34.604470Z",
     "shell.execute_reply.started": "2022-06-21T14:46:34.543870Z"
    },
    "tags": []
   },
   "outputs": [],
   "source": [
    "block = ResBlock(inputs=inputs, layout='cna', channels='same')"
   ]
  },
  {
   "cell_type": "code",
   "execution_count": 45,
   "id": "f1f2f115-30c9-4daa-93b2-94c6ecbc250f",
   "metadata": {
    "execution": {
     "iopub.execute_input": "2022-06-21T14:35:23.572075Z",
     "iopub.status.busy": "2022-06-21T14:35:23.571478Z",
     "iopub.status.idle": "2022-06-21T14:35:23.636413Z",
     "shell.execute_reply": "2022-06-21T14:35:23.635594Z",
     "shell.execute_reply.started": "2022-06-21T14:35:23.572023Z"
    },
    "tags": []
   },
   "outputs": [
    {
     "data": {
      "text/plain": [
       "ResBlock(\n",
       "  (repeat0-args0): MultiLayer(\n",
       "    layout=Rcnacn+a\n",
       "    (Layer 0,    skip \"R\"): Branch(\n",
       "      (layer): Identity()\n",
       "    )\n",
       "    (Layer 1,  letter \"c\"): Conv(\n",
       "      (layer): Conv2d(3, 3, kernel_size=(3, 3), stride=(1, 1), padding=(1, 1), bias=False)\n",
       "    )\n",
       "    (Layer 2,  letter \"n\"): BatchNorm(\n",
       "      (layer): BatchNorm2d(3, eps=1e-05, momentum=0.1, affine=True, track_running_stats=True)\n",
       "    )\n",
       "    (Layer 3,  letter \"a\"): Activation(\n",
       "      (activation): ReLU(inplace=True)\n",
       "    )\n",
       "    (Layer 4,  letter \"c\"): Conv(\n",
       "      (layer): Conv2d(3, 3, kernel_size=(3, 3), stride=(1, 1), padding=(1, 1), bias=False)\n",
       "    )\n",
       "    (Layer 5,  letter \"n\"): BatchNorm(\n",
       "      (layer): BatchNorm2d(3, eps=1e-05, momentum=0.1, affine=True, track_running_stats=True)\n",
       "    )\n",
       "    (Layer 6, combine \"+\"): Combine(\n",
       "      op=sum, leading_idx=0, force_resize=True,\n",
       "        input_shapes=[(4, 3, 128, 128), (4, 3, 128, 128)],\n",
       "      resized_shapes=[(4, 3, 128, 128), (4, 3, 128, 128)],\n",
       "       output_shapes=(4, 3, 128, 128)\n",
       "    )\n",
       "    (Layer 7,  letter \"a\"): Activation(\n",
       "      (activation): ReLU(inplace=True)\n",
       "    )\n",
       "  )\n",
       ")"
      ]
     },
     "execution_count": 45,
     "metadata": {},
     "output_type": "execute_result"
    }
   ],
   "source": [
    "Block()"
   ]
  },
  {
   "cell_type": "code",
   "execution_count": null,
   "id": "85a084a7-9581-4685-a894-833881be48f5",
   "metadata": {},
   "outputs": [],
   "source": []
  }
 ],
 "metadata": {
  "kernelspec": {
   "display_name": "Python 3 (ipykernel)",
   "language": "python",
   "name": "python3"
  },
  "language_info": {
   "codemirror_mode": {
    "name": "ipython",
    "version": 3
   },
   "file_extension": ".py",
   "mimetype": "text/x-python",
   "name": "python",
   "nbconvert_exporter": "python",
   "pygments_lexer": "ipython3",
   "version": "3.8.10"
  },
  "widgets": {
   "application/vnd.jupyter.widget-state+json": {
    "state": {},
    "version_major": 2,
    "version_minor": 0
   }
  }
 },
 "nbformat": 4,
 "nbformat_minor": 5
}
