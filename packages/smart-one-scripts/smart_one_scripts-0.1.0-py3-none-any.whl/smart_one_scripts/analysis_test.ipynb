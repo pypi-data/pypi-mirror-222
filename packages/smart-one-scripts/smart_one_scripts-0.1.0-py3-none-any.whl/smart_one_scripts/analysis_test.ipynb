{
 "cells": [
  {
   "attachments": {},
   "cell_type": "markdown",
   "metadata": {},
   "source": [
    "# NLP - Information Extraction from Excel files to Smart One"
   ]
  },
  {
   "attachments": {},
   "cell_type": "markdown",
   "metadata": {},
   "source": [
    "## 1. Importing the libraries"
   ]
  },
  {
   "cell_type": "code",
   "execution_count": 1,
   "metadata": {
    "ExecuteTime": {
     "start_time": "2023-07-13T22:10:54.633781Z",
     "end_time": "2023-07-13T22:10:54.921355Z"
    }
   },
   "outputs": [],
   "source": [
    "import ProcessNotebooks as pn, glob"
   ]
  },
  {
   "attachments": {},
   "cell_type": "markdown",
   "metadata": {},
   "source": [
    "## 2. Getting the data"
   ]
  },
  {
   "cell_type": "code",
   "execution_count": 2,
   "outputs": [],
   "source": [
    "data = []\n",
    "for sheet in glob.glob(\"data/sheets/notebooks/*.xlsx\"):\n",
    "    process = pn.ProcessNotebook(sheet)\n",
    "    process.preprocess()\n",
    "    data.append(process.get_sheet())"
   ],
   "metadata": {
    "collapsed": false,
    "ExecuteTime": {
     "start_time": "2023-07-13T22:10:54.922534Z",
     "end_time": "2023-07-13T22:10:56.194234Z"
    }
   }
  },
  {
   "cell_type": "code",
   "execution_count": 3,
   "outputs": [
    {
     "data": {
      "text/plain": "        tvrheinlandcertified  \\\n0    TÜV Rheinland-certified   \n1    TÜV Rheinland-certified   \n2                        NaN   \n3                        NaN   \n4                        NaN   \n..                       ...   \n96                       NaN   \n97                       NaN   \n98                       NaN   \n99                       NaN   \n100                      NaN   \n\n                              disclaimerforintelirisxe  \\\n0    *Intel Iris Xᵉ Graphics is only available in m...   \n1    *Intel Iris Xᵉ Graphics is only available in m...   \n2                                                  NaN   \n3                                                  NaN   \n4                                                  NaN   \n..                                                 ...   \n96                                                 NaN   \n97   *Intel Iris Xᵉ Graphics is only available in m...   \n98   *Intel Iris Xᵉ Graphics is only available in m...   \n99                                                 NaN   \n100                                                NaN   \n\n                                   disclaimerformemory  \\\n0    *Dual-channel memory support requires at least...   \n1    *Dual-channel memory support requires at least...   \n2                                                  NaN   \n3                                                  NaN   \n4                                                  NaN   \n..                                                 ...   \n96                                                 NaN   \n97                                                 NaN   \n98                                                 NaN   \n99                                                 NaN   \n100                                                NaN   \n\n    reparabilityindexforfrance  \\\n0                          5.3   \n1                          5.3   \n2                          NaN   \n3                          NaN   \n4                          7.4   \n..                         ...   \n96                         7.4   \n97                         6.2   \n98                         6.2   \n99                         NaN   \n100                        7.4   \n\n                                 product_power_adapter  \\\n0    {'Power Adapter': {'AC': '4.5', 'Description':...   \n1    {'Power Adapter': {'AC': '4.5', 'Description':...   \n2    {'Power Adapter': {'AC': '6.0', 'Description':...   \n3    {'Power Adapter': {'AC': '4.0', 'Description':...   \n4    {'Power Adapter': {'AC': '4.5', 'Description':...   \n..                                                 ...   \n96   {'Power Adapter': {'AC': '4.5', 'Description':...   \n97   {'Power Adapter': {'AC': '4.0', 'Description':...   \n98   {'Power Adapter': {'AC': '4.0', 'Description':...   \n99   {'Power Adapter': {'AC': '4.5', 'Description':...   \n100  {'Power Adapter': {'AC': '4.5', 'Description':...   \n\n                                        product_screen  \\\n0    {'Brightness': '300', 'Size': '16.0', 'Touch S...   \n1    {'Brightness': '300', 'Size': '16.0', 'Touch S...   \n2    {'Brightness': '250', 'Size': '15.6', 'Touch S...   \n3    {'Brightness': '200', 'Size': '15.6', 'Touch S...   \n4    {'Brightness': None, 'Size': '15.6', 'Touch Sc...   \n..                                                 ...   \n96   {'Brightness': None, 'Size': '15.6', 'Touch Sc...   \n97   {'Brightness': '200', 'Size': '15.6', 'Touch S...   \n98   {'Brightness': '200', 'Size': '15.6', 'Touch S...   \n99   {'Brightness': '250', 'Size': '15.6', 'Touch S...   \n100  {'Brightness': None, 'Size': '15.6', 'Touch Sc...   \n\n             product_connectivity  \\\n0    {'Bluetooth Version': '4.1'}   \n1    {'Bluetooth Version': '4.1'}   \n2    {'Bluetooth Version': '5.2'}   \n3    {'Bluetooth Version': '4.1'}   \n4    {'Bluetooth Version': '4.1'}   \n..                            ...   \n96   {'Bluetooth Version': '4.1'}   \n97   {'Bluetooth Version': '4.1'}   \n98   {'Bluetooth Version': '4.1'}   \n99   {'Bluetooth Version': '4.1'}   \n100  {'Bluetooth Version': '4.1'}   \n\n                                       product_network  \\\n0    {'Wireless Network': {'Type': 'Wi-Fi 5(802.11a...   \n1    {'Wireless Network': {'Type': 'Wi-Fi 5(802.11a...   \n2    {'Wireless Network': {'Type': 'Wi-Fi 6(802.11a...   \n3    {'Wireless Network': {'Type': 'Wi-Fi 5(802.11a...   \n4    {'Wireless Network': {'Type': 'Wi-Fi 5(802.11a...   \n..                                                 ...   \n96   {'Wireless Network': {'Type': 'Wi-Fi 5(802.11a...   \n97   {'Wireless Network': {'Type': 'Wi-Fi 5(802.11a...   \n98   {'Wireless Network': {'Type': 'Wi-Fi 5(802.11a...   \n99   {'Wireless Network': {'Type': 'Wi-Fi 5(802.11a...   \n100  {'Wireless Network': {'Type': 'Wi-Fi 5(802.11a...   \n\n                                      product_keyboard  \\\n0    {'BackLit Keyboard': False, 'Keyboard': 'Chicl...   \n1    {'BackLit Keyboard': False, 'Keyboard': 'Chicl...   \n2    {'BackLit Keyboard': True, 'Keyboard': 'Chiclet'}   \n3    {'BackLit Keyboard': False, 'Keyboard': 'Chicl...   \n4    {'BackLit Keyboard': False, 'Keyboard': 'Chicl...   \n..                                                 ...   \n96   {'BackLit Keyboard': False, 'Keyboard': 'Chicl...   \n97   {'BackLit Keyboard': False, 'Keyboard': 'Chicl...   \n98   {'BackLit Keyboard': False, 'Keyboard': 'Chicl...   \n99   {'BackLit Keyboard': False, 'Keyboard': 'Chicl...   \n100  {'BackLit Keyboard': False, 'Keyboard': 'Chicl...   \n\n                                         product_audio  ...  \\\n0    {'Microphone': True, 'Subwoofer': False, 'Audi...  ...   \n1    {'Microphone': True, 'Subwoofer': False, 'Audi...  ...   \n2    {'Microphone': False, 'Subwoofer': False, 'Aud...  ...   \n3    {'Microphone': True, 'Subwoofer': False, 'Audi...  ...   \n4    {'Microphone': True, 'Subwoofer': False, 'Audi...  ...   \n..                                                 ...  ...   \n96   {'Microphone': True, 'Subwoofer': False, 'Audi...  ...   \n97   {'Microphone': True, 'Subwoofer': False, 'Audi...  ...   \n98   {'Microphone': True, 'Subwoofer': False, 'Audi...  ...   \n99   {'Microphone': True, 'Subwoofer': False, 'Audi...  ...   \n100  {'Microphone': True, 'Subwoofer': False, 'Audi...  ...   \n\n       tuvrheinlandcertified peakbrightness vesacertifieddisplayhdr  \\\n0                        NaN            NaN                     NaN   \n1                        NaN            NaN                     NaN   \n2                        NaN            NaN                     NaN   \n3                        NaN            NaN                     NaN   \n4                        NaN            NaN                     NaN   \n..                       ...            ...                     ...   \n96                       NaN            NaN                     NaN   \n97                       NaN            NaN                     NaN   \n98                       NaN            NaN                     NaN   \n99   TÜV Rheinland-certified            NaN                     NaN   \n100                      NaN            NaN                     NaN   \n\n    lowbluelight gamutmapping sgseyecaredisplay intelathenaprogram  \\\n0            NaN          NaN               NaN                NaN   \n1            NaN          NaN               NaN                NaN   \n2            NaN          NaN               NaN                NaN   \n3            NaN          NaN               NaN                NaN   \n4            NaN          NaN               NaN                NaN   \n..           ...          ...               ...                ...   \n96           NaN          NaN               NaN                NaN   \n97           NaN          NaN               NaN                NaN   \n98           NaN          NaN               NaN                NaN   \n99           NaN          NaN               NaN                NaN   \n100          NaN          NaN               NaN                NaN   \n\n    panelpowerconsumption supportdolbyvisionhdr reparabilityindexforfr  \n0                     NaN                   NaN                    NaN  \n1                     NaN                   NaN                    NaN  \n2                     NaN                   NaN                    NaN  \n3                     NaN                   NaN                    NaN  \n4                     NaN                   NaN                    NaN  \n..                    ...                   ...                    ...  \n96                    NaN                   NaN                    NaN  \n97                    NaN                   NaN                    NaN  \n98                    NaN                   NaN                    NaN  \n99                    NaN                   NaN                    NaN  \n100                   NaN                   NaN                    NaN  \n\n[101 rows x 41 columns]",
      "text/html": "<div>\n<style scoped>\n    .dataframe tbody tr th:only-of-type {\n        vertical-align: middle;\n    }\n\n    .dataframe tbody tr th {\n        vertical-align: top;\n    }\n\n    .dataframe thead th {\n        text-align: right;\n    }\n</style>\n<table border=\"1\" class=\"dataframe\">\n  <thead>\n    <tr style=\"text-align: right;\">\n      <th></th>\n      <th>tvrheinlandcertified</th>\n      <th>disclaimerforintelirisxe</th>\n      <th>disclaimerformemory</th>\n      <th>reparabilityindexforfrance</th>\n      <th>product_power_adapter</th>\n      <th>product_screen</th>\n      <th>product_connectivity</th>\n      <th>product_network</th>\n      <th>product_keyboard</th>\n      <th>product_audio</th>\n      <th>...</th>\n      <th>tuvrheinlandcertified</th>\n      <th>peakbrightness</th>\n      <th>vesacertifieddisplayhdr</th>\n      <th>lowbluelight</th>\n      <th>gamutmapping</th>\n      <th>sgseyecaredisplay</th>\n      <th>intelathenaprogram</th>\n      <th>panelpowerconsumption</th>\n      <th>supportdolbyvisionhdr</th>\n      <th>reparabilityindexforfr</th>\n    </tr>\n  </thead>\n  <tbody>\n    <tr>\n      <th>0</th>\n      <td>TÜV Rheinland-certified</td>\n      <td>*Intel Iris Xᵉ Graphics is only available in m...</td>\n      <td>*Dual-channel memory support requires at least...</td>\n      <td>5.3</td>\n      <td>{'Power Adapter': {'AC': '4.5', 'Description':...</td>\n      <td>{'Brightness': '300', 'Size': '16.0', 'Touch S...</td>\n      <td>{'Bluetooth Version': '4.1'}</td>\n      <td>{'Wireless Network': {'Type': 'Wi-Fi 5(802.11a...</td>\n      <td>{'BackLit Keyboard': False, 'Keyboard': 'Chicl...</td>\n      <td>{'Microphone': True, 'Subwoofer': False, 'Audi...</td>\n      <td>...</td>\n      <td>NaN</td>\n      <td>NaN</td>\n      <td>NaN</td>\n      <td>NaN</td>\n      <td>NaN</td>\n      <td>NaN</td>\n      <td>NaN</td>\n      <td>NaN</td>\n      <td>NaN</td>\n      <td>NaN</td>\n    </tr>\n    <tr>\n      <th>1</th>\n      <td>TÜV Rheinland-certified</td>\n      <td>*Intel Iris Xᵉ Graphics is only available in m...</td>\n      <td>*Dual-channel memory support requires at least...</td>\n      <td>5.3</td>\n      <td>{'Power Adapter': {'AC': '4.5', 'Description':...</td>\n      <td>{'Brightness': '300', 'Size': '16.0', 'Touch S...</td>\n      <td>{'Bluetooth Version': '4.1'}</td>\n      <td>{'Wireless Network': {'Type': 'Wi-Fi 5(802.11a...</td>\n      <td>{'BackLit Keyboard': False, 'Keyboard': 'Chicl...</td>\n      <td>{'Microphone': True, 'Subwoofer': False, 'Audi...</td>\n      <td>...</td>\n      <td>NaN</td>\n      <td>NaN</td>\n      <td>NaN</td>\n      <td>NaN</td>\n      <td>NaN</td>\n      <td>NaN</td>\n      <td>NaN</td>\n      <td>NaN</td>\n      <td>NaN</td>\n      <td>NaN</td>\n    </tr>\n    <tr>\n      <th>2</th>\n      <td>NaN</td>\n      <td>NaN</td>\n      <td>NaN</td>\n      <td>NaN</td>\n      <td>{'Power Adapter': {'AC': '6.0', 'Description':...</td>\n      <td>{'Brightness': '250', 'Size': '15.6', 'Touch S...</td>\n      <td>{'Bluetooth Version': '5.2'}</td>\n      <td>{'Wireless Network': {'Type': 'Wi-Fi 6(802.11a...</td>\n      <td>{'BackLit Keyboard': True, 'Keyboard': 'Chiclet'}</td>\n      <td>{'Microphone': False, 'Subwoofer': False, 'Aud...</td>\n      <td>...</td>\n      <td>NaN</td>\n      <td>NaN</td>\n      <td>NaN</td>\n      <td>NaN</td>\n      <td>NaN</td>\n      <td>NaN</td>\n      <td>NaN</td>\n      <td>NaN</td>\n      <td>NaN</td>\n      <td>NaN</td>\n    </tr>\n    <tr>\n      <th>3</th>\n      <td>NaN</td>\n      <td>NaN</td>\n      <td>NaN</td>\n      <td>NaN</td>\n      <td>{'Power Adapter': {'AC': '4.0', 'Description':...</td>\n      <td>{'Brightness': '200', 'Size': '15.6', 'Touch S...</td>\n      <td>{'Bluetooth Version': '4.1'}</td>\n      <td>{'Wireless Network': {'Type': 'Wi-Fi 5(802.11a...</td>\n      <td>{'BackLit Keyboard': False, 'Keyboard': 'Chicl...</td>\n      <td>{'Microphone': True, 'Subwoofer': False, 'Audi...</td>\n      <td>...</td>\n      <td>NaN</td>\n      <td>NaN</td>\n      <td>NaN</td>\n      <td>NaN</td>\n      <td>NaN</td>\n      <td>NaN</td>\n      <td>NaN</td>\n      <td>NaN</td>\n      <td>NaN</td>\n      <td>NaN</td>\n    </tr>\n    <tr>\n      <th>4</th>\n      <td>NaN</td>\n      <td>NaN</td>\n      <td>NaN</td>\n      <td>7.4</td>\n      <td>{'Power Adapter': {'AC': '4.5', 'Description':...</td>\n      <td>{'Brightness': None, 'Size': '15.6', 'Touch Sc...</td>\n      <td>{'Bluetooth Version': '4.1'}</td>\n      <td>{'Wireless Network': {'Type': 'Wi-Fi 5(802.11a...</td>\n      <td>{'BackLit Keyboard': False, 'Keyboard': 'Chicl...</td>\n      <td>{'Microphone': True, 'Subwoofer': False, 'Audi...</td>\n      <td>...</td>\n      <td>NaN</td>\n      <td>NaN</td>\n      <td>NaN</td>\n      <td>NaN</td>\n      <td>NaN</td>\n      <td>NaN</td>\n      <td>NaN</td>\n      <td>NaN</td>\n      <td>NaN</td>\n      <td>NaN</td>\n    </tr>\n    <tr>\n      <th>...</th>\n      <td>...</td>\n      <td>...</td>\n      <td>...</td>\n      <td>...</td>\n      <td>...</td>\n      <td>...</td>\n      <td>...</td>\n      <td>...</td>\n      <td>...</td>\n      <td>...</td>\n      <td>...</td>\n      <td>...</td>\n      <td>...</td>\n      <td>...</td>\n      <td>...</td>\n      <td>...</td>\n      <td>...</td>\n      <td>...</td>\n      <td>...</td>\n      <td>...</td>\n      <td>...</td>\n    </tr>\n    <tr>\n      <th>96</th>\n      <td>NaN</td>\n      <td>NaN</td>\n      <td>NaN</td>\n      <td>7.4</td>\n      <td>{'Power Adapter': {'AC': '4.5', 'Description':...</td>\n      <td>{'Brightness': None, 'Size': '15.6', 'Touch Sc...</td>\n      <td>{'Bluetooth Version': '4.1'}</td>\n      <td>{'Wireless Network': {'Type': 'Wi-Fi 5(802.11a...</td>\n      <td>{'BackLit Keyboard': False, 'Keyboard': 'Chicl...</td>\n      <td>{'Microphone': True, 'Subwoofer': False, 'Audi...</td>\n      <td>...</td>\n      <td>NaN</td>\n      <td>NaN</td>\n      <td>NaN</td>\n      <td>NaN</td>\n      <td>NaN</td>\n      <td>NaN</td>\n      <td>NaN</td>\n      <td>NaN</td>\n      <td>NaN</td>\n      <td>NaN</td>\n    </tr>\n    <tr>\n      <th>97</th>\n      <td>NaN</td>\n      <td>*Intel Iris Xᵉ Graphics is only available in m...</td>\n      <td>NaN</td>\n      <td>6.2</td>\n      <td>{'Power Adapter': {'AC': '4.0', 'Description':...</td>\n      <td>{'Brightness': '200', 'Size': '15.6', 'Touch S...</td>\n      <td>{'Bluetooth Version': '4.1'}</td>\n      <td>{'Wireless Network': {'Type': 'Wi-Fi 5(802.11a...</td>\n      <td>{'BackLit Keyboard': False, 'Keyboard': 'Chicl...</td>\n      <td>{'Microphone': True, 'Subwoofer': False, 'Audi...</td>\n      <td>...</td>\n      <td>NaN</td>\n      <td>NaN</td>\n      <td>NaN</td>\n      <td>NaN</td>\n      <td>NaN</td>\n      <td>NaN</td>\n      <td>NaN</td>\n      <td>NaN</td>\n      <td>NaN</td>\n      <td>NaN</td>\n    </tr>\n    <tr>\n      <th>98</th>\n      <td>NaN</td>\n      <td>*Intel Iris Xᵉ Graphics is only available in m...</td>\n      <td>NaN</td>\n      <td>6.2</td>\n      <td>{'Power Adapter': {'AC': '4.0', 'Description':...</td>\n      <td>{'Brightness': '200', 'Size': '15.6', 'Touch S...</td>\n      <td>{'Bluetooth Version': '4.1'}</td>\n      <td>{'Wireless Network': {'Type': 'Wi-Fi 5(802.11a...</td>\n      <td>{'BackLit Keyboard': False, 'Keyboard': 'Chicl...</td>\n      <td>{'Microphone': True, 'Subwoofer': False, 'Audi...</td>\n      <td>...</td>\n      <td>NaN</td>\n      <td>NaN</td>\n      <td>NaN</td>\n      <td>NaN</td>\n      <td>NaN</td>\n      <td>NaN</td>\n      <td>NaN</td>\n      <td>NaN</td>\n      <td>NaN</td>\n      <td>NaN</td>\n    </tr>\n    <tr>\n      <th>99</th>\n      <td>NaN</td>\n      <td>NaN</td>\n      <td>NaN</td>\n      <td>NaN</td>\n      <td>{'Power Adapter': {'AC': '4.5', 'Description':...</td>\n      <td>{'Brightness': '250', 'Size': '15.6', 'Touch S...</td>\n      <td>{'Bluetooth Version': '4.1'}</td>\n      <td>{'Wireless Network': {'Type': 'Wi-Fi 5(802.11a...</td>\n      <td>{'BackLit Keyboard': False, 'Keyboard': 'Chicl...</td>\n      <td>{'Microphone': True, 'Subwoofer': False, 'Audi...</td>\n      <td>...</td>\n      <td>TÜV Rheinland-certified</td>\n      <td>NaN</td>\n      <td>NaN</td>\n      <td>NaN</td>\n      <td>NaN</td>\n      <td>NaN</td>\n      <td>NaN</td>\n      <td>NaN</td>\n      <td>NaN</td>\n      <td>NaN</td>\n    </tr>\n    <tr>\n      <th>100</th>\n      <td>NaN</td>\n      <td>NaN</td>\n      <td>NaN</td>\n      <td>7.4</td>\n      <td>{'Power Adapter': {'AC': '4.5', 'Description':...</td>\n      <td>{'Brightness': None, 'Size': '15.6', 'Touch Sc...</td>\n      <td>{'Bluetooth Version': '4.1'}</td>\n      <td>{'Wireless Network': {'Type': 'Wi-Fi 5(802.11a...</td>\n      <td>{'BackLit Keyboard': False, 'Keyboard': 'Chicl...</td>\n      <td>{'Microphone': True, 'Subwoofer': False, 'Audi...</td>\n      <td>...</td>\n      <td>NaN</td>\n      <td>NaN</td>\n      <td>NaN</td>\n      <td>NaN</td>\n      <td>NaN</td>\n      <td>NaN</td>\n      <td>NaN</td>\n      <td>NaN</td>\n      <td>NaN</td>\n      <td>NaN</td>\n    </tr>\n  </tbody>\n</table>\n<p>101 rows × 41 columns</p>\n</div>"
     },
     "execution_count": 3,
     "metadata": {},
     "output_type": "execute_result"
    }
   ],
   "source": [
    "import pandas as pd\n",
    "pd.DataFrame(data)"
   ],
   "metadata": {
    "collapsed": false,
    "ExecuteTime": {
     "start_time": "2023-07-13T22:10:56.197401Z",
     "end_time": "2023-07-13T22:10:56.218612Z"
    }
   }
  }
 ],
 "metadata": {
  "kernelspec": {
   "display_name": "Python 3 (ipykernel)",
   "language": "python",
   "name": "python3"
  },
  "language_info": {
   "codemirror_mode": {
    "name": "ipython",
    "version": 3
   },
   "file_extension": ".py",
   "mimetype": "text/x-python",
   "name": "python",
   "nbconvert_exporter": "python",
   "pygments_lexer": "ipython3",
   "version": "3.10.9"
  },
  "orig_nbformat": 4,
  "vscode": {
   "interpreter": {
    "hash": "e313781e5f9487634688338feaea31cdeb3d0e175705036a80436c634137acb0"
   }
  }
 },
 "nbformat": 4,
 "nbformat_minor": 2
}
