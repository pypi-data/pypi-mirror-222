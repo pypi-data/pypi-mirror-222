{
 "cells": [
  {
   "cell_type": "code",
   "execution_count": 1,
   "metadata": {},
   "outputs": [],
   "source": [
    "import jax\n",
    "import jax.numpy as jnp"
   ]
  },
  {
   "cell_type": "code",
   "execution_count": 14,
   "metadata": {},
   "outputs": [],
   "source": [
    "def _interpolate(idxs, values):\n",
    "    \"\"\"\n",
    "    Interpolate values at given indices.\n",
    "\n",
    "    Args:\n",
    "        idxs: should be fractional, between 0 and 1\n",
    "        values: values to interpolate, assumed to be evenly spaced between 0 and 1\n",
    "    \"\"\"\n",
    "    idxs = idxs * (values.shape[0] - 1)\n",
    "    idxs_floor = jnp.floor(idxs)\n",
    "    idxs_ceil = jnp.ceil(idxs)\n",
    "    idxs_frac = idxs - idxs_floor.astype(jnp.float32)\n",
    "    idxs_floor = idxs_floor.astype(jnp.int32)\n",
    "    idxs_ceil = idxs_ceil.astype(jnp.int32)\n",
    "    values_floor = jnp.take(values, idxs_floor, axis=0)\n",
    "    values_ceil = jnp.take(values, idxs_ceil, axis=0)\n",
    "    idxs_frac = idxs_frac[..., None]\n",
    "    return (1 - idxs_frac) * values_floor + idxs_frac * values_ceil"
   ]
  },
  {
   "cell_type": "code",
   "execution_count": 39,
   "metadata": {},
   "outputs": [
    {
     "data": {
      "text/plain": [
       "(Array([0.5 , 0.  , 0.99], dtype=float32),\n",
       " Array([[ 0.,  1.,  2.,  3.,  4.,  5.,  6.,  7.,  8.,  9.],\n",
       "        [10., 11., 12., 13., 14., 15., 16., 17., 18., 19.],\n",
       "        [20., 21., 22., 23., 24., 25., 26., 27., 28., 29.],\n",
       "        [30., 31., 32., 33., 34., 35., 36., 37., 38., 39.],\n",
       "        [40., 41., 42., 43., 44., 45., 46., 47., 48., 49.]], dtype=float32))"
      ]
     },
     "execution_count": 39,
     "metadata": {},
     "output_type": "execute_result"
    }
   ],
   "source": [
    "idxs = jnp.array([0.5, 0., 0.99])\n",
    "values = jnp.arange(50).reshape(5,10).astype(jnp.float32)\n",
    "idxs, values"
   ]
  },
  {
   "cell_type": "code",
   "execution_count": 38,
   "metadata": {},
   "outputs": [
    {
     "name": "stdout",
     "output_type": "stream",
     "text": [
      "(2, 3, 1) (2, 3, 10) (2, 3, 10)\n",
      "CPU times: user 3.82 ms, sys: 3.93 ms, total: 7.75 ms\n",
      "Wall time: 3.54 ms\n"
     ]
    },
    {
     "data": {
      "text/plain": [
       "Array([[[20.      , 21.      , 22.      , 23.      , 24.      ,\n",
       "         25.      , 26.      , 27.      , 28.      , 29.      ],\n",
       "        [ 0.      ,  1.      ,  2.      ,  3.      ,  4.      ,\n",
       "          5.      ,  6.      ,  7.      ,  8.      ,  9.      ],\n",
       "        [39.6     , 40.6     , 41.6     , 42.600002, 43.6     ,\n",
       "         44.6     , 45.600002, 46.600002, 47.6     , 48.6     ]],\n",
       "\n",
       "       [[20.      , 21.      , 22.      , 23.      , 24.      ,\n",
       "         25.      , 26.      , 27.      , 28.      , 29.      ],\n",
       "        [ 0.      ,  1.      ,  2.      ,  3.      ,  4.      ,\n",
       "          5.      ,  6.      ,  7.      ,  8.      ,  9.      ],\n",
       "        [39.6     , 40.6     , 41.6     , 42.600002, 43.6     ,\n",
       "         44.6     , 45.600002, 46.600002, 47.6     , 48.6     ]]],      dtype=float32)"
      ]
     },
     "execution_count": 38,
     "metadata": {},
     "output_type": "execute_result"
    }
   ],
   "source": [
    "%%time\n",
    "_interpolate(idxs, values)"
   ]
  },
  {
   "cell_type": "code",
   "execution_count": 40,
   "metadata": {},
   "outputs": [],
   "source": [
    "jit_f = jax.jit(_interpolate)"
   ]
  },
  {
   "cell_type": "code",
   "execution_count": 43,
   "metadata": {},
   "outputs": [
    {
     "name": "stdout",
     "output_type": "stream",
     "text": [
      "CPU times: user 187 µs, sys: 1.13 ms, total: 1.31 ms\n",
      "Wall time: 650 µs\n"
     ]
    },
    {
     "data": {
      "text/plain": [
       "Array([[20.      , 21.      , 22.      , 23.      , 24.      , 25.      ,\n",
       "        26.      , 27.      , 28.      , 29.      ],\n",
       "       [ 0.      ,  1.      ,  2.      ,  3.      ,  4.      ,  5.      ,\n",
       "         6.      ,  7.      ,  8.      ,  9.      ],\n",
       "       [39.6     , 40.6     , 41.6     , 42.600002, 43.6     , 44.6     ,\n",
       "        45.600002, 46.600002, 47.6     , 48.6     ]], dtype=float32)"
      ]
     },
     "execution_count": 43,
     "metadata": {},
     "output_type": "execute_result"
    }
   ],
   "source": [
    "%%time\n",
    "jit_f(idxs, values)"
   ]
  },
  {
   "cell_type": "code",
   "execution_count": 44,
   "metadata": {},
   "outputs": [
    {
     "data": {
      "text/plain": [
       "(Array([[0.5 , 0.  , 0.99],\n",
       "        [0.5 , 0.  , 0.99]], dtype=float32),\n",
       " Array([[ 0.,  1.,  2.,  3.,  4.,  5.,  6.,  7.,  8.,  9.],\n",
       "        [10., 11., 12., 13., 14., 15., 16., 17., 18., 19.],\n",
       "        [20., 21., 22., 23., 24., 25., 26., 27., 28., 29.],\n",
       "        [30., 31., 32., 33., 34., 35., 36., 37., 38., 39.],\n",
       "        [40., 41., 42., 43., 44., 45., 46., 47., 48., 49.]], dtype=float32))"
      ]
     },
     "execution_count": 44,
     "metadata": {},
     "output_type": "execute_result"
    }
   ],
   "source": [
    "idxs = jnp.array([[0.5, 0., 0.99],[0.5, 0., 0.99]])\n",
    "values = jnp.arange(50).reshape(5,10).astype(jnp.float32)\n",
    "idxs, values"
   ]
  },
  {
   "cell_type": "code",
   "execution_count": 46,
   "metadata": {},
   "outputs": [
    {
     "name": "stdout",
     "output_type": "stream",
     "text": [
      "(2, 3, 1) (2, 3, 10) (2, 3, 10)\n"
     ]
    },
    {
     "data": {
      "text/plain": [
       "Array([[[20.      , 21.      , 22.      , 23.      , 24.      ,\n",
       "         25.      , 26.      , 27.      , 28.      , 29.      ],\n",
       "        [ 0.      ,  1.      ,  2.      ,  3.      ,  4.      ,\n",
       "          5.      ,  6.      ,  7.      ,  8.      ,  9.      ],\n",
       "        [39.6     , 40.6     , 41.6     , 42.600002, 43.6     ,\n",
       "         44.6     , 45.600002, 46.600002, 47.6     , 48.6     ]],\n",
       "\n",
       "       [[20.      , 21.      , 22.      , 23.      , 24.      ,\n",
       "         25.      , 26.      , 27.      , 28.      , 29.      ],\n",
       "        [ 0.      ,  1.      ,  2.      ,  3.      ,  4.      ,\n",
       "          5.      ,  6.      ,  7.      ,  8.      ,  9.      ],\n",
       "        [39.6     , 40.6     , 41.6     , 42.600002, 43.6     ,\n",
       "         44.6     , 45.600002, 46.600002, 47.6     , 48.6     ]]],      dtype=float32)"
      ]
     },
     "execution_count": 46,
     "metadata": {},
     "output_type": "execute_result"
    }
   ],
   "source": [
    "_interpolate(idxs, values)"
   ]
  },
  {
   "cell_type": "code",
   "execution_count": null,
   "metadata": {},
   "outputs": [],
   "source": []
  }
 ],
 "metadata": {
  "kernelspec": {
   "display_name": "base",
   "language": "python",
   "name": "python3"
  },
  "language_info": {
   "codemirror_mode": {
    "name": "ipython",
    "version": 3
   },
   "file_extension": ".py",
   "mimetype": "text/x-python",
   "name": "python",
   "nbconvert_exporter": "python",
   "pygments_lexer": "ipython3",
   "version": "3.10.12"
  },
  "orig_nbformat": 4
 },
 "nbformat": 4,
 "nbformat_minor": 2
}
