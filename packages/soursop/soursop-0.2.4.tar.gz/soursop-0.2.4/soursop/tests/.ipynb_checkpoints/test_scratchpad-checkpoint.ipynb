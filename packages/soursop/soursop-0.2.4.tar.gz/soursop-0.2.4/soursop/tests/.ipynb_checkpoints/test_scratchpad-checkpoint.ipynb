{
 "cells": [
  {
   "cell_type": "code",
   "execution_count": 1,
   "id": "0c10e8a6",
   "metadata": {},
   "outputs": [],
   "source": [
    "from soursop.sstrajectory import SSTrajectory"
   ]
  },
  {
   "cell_type": "code",
   "execution_count": 2,
   "id": "d5e5e409",
   "metadata": {},
   "outputs": [],
   "source": [
    "p =SSTrajectory('../data/test_data/ctl9.xtc', '../data/test_data/ctl9.pdb').proteinTrajectoryList[0]"
   ]
  },
  {
   "cell_type": "code",
   "execution_count": 28,
   "id": "cad108d9",
   "metadata": {},
   "outputs": [],
   "source": [
    "all_rij = []\n",
    "for idx in p.resid_with_CA:\n",
    "    rij = p.calculate_all_CA_distances(idx)\n",
    "    all_rij.extend((1/rij).flatten().tolist())\n",
    "    \n",
    "    \n",
    "1/np.mean(all_vals)\n",
    "    \n",
    "    "
   ]
  },
  {
   "cell_type": "code",
   "execution_count": 32,
   "id": "0339e3b7",
   "metadata": {},
   "outputs": [
    {
     "data": {
      "text/plain": [
       "24.325998074939147"
      ]
     },
     "execution_count": 32,
     "metadata": {},
     "output_type": "execute_result"
    }
   ],
   "source": []
  },
  {
   "cell_type": "code",
   "execution_count": 22,
   "id": "b4dfd190",
   "metadata": {},
   "outputs": [
    {
     "data": {
      "text/plain": [
       "array([0.26625308, 0.16615738, 0.14257179, ..., 0.01975178, 0.02132039,\n",
       "       0.02193097], dtype=float32)"
      ]
     },
     "execution_count": 22,
     "metadata": {},
     "output_type": "execute_result"
    }
   ],
   "source": []
  }
 ],
 "metadata": {
  "kernelspec": {
   "display_name": "Python 3 (ipykernel)",
   "language": "python",
   "name": "python3"
  },
  "language_info": {
   "codemirror_mode": {
    "name": "ipython",
    "version": 3
   },
   "file_extension": ".py",
   "mimetype": "text/x-python",
   "name": "python",
   "nbconvert_exporter": "python",
   "pygments_lexer": "ipython3",
   "version": "3.8.12"
  }
 },
 "nbformat": 4,
 "nbformat_minor": 5
}
