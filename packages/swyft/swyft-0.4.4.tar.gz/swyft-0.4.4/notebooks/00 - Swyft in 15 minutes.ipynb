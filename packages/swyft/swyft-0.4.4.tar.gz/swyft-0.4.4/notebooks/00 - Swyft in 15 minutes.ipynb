{
 "cells": [
  {
   "cell_type": "markdown",
   "id": "6ec77850-b62c-4d3d-94d8-4c6ca4c70b77",
   "metadata": {},
   "source": [
    "# Swyft in 15 Minutes\n",
    "\n",
    "We discuss seven key steps of a typical Swyft workflow."
   ]
  },
  {
   "cell_type": "markdown",
   "id": "bd3002ce-7495-433b-9c95-693c60e917a1",
   "metadata": {},
   "source": [
    "## 1. Installing Swyft"
   ]
  },
  {
   "cell_type": "markdown",
   "id": "0cfdfa13-ee61-4f32-9310-ad8b807b1f07",
   "metadata": {},
   "source": [
    "We can use `pip` to install the lightning branch (latest development branch) of Swyft."
   ]
  },
  {
   "cell_type": "code",
   "execution_count": 2,
   "id": "7b2f598a-93c6-4c73-a093-d76f0b126813",
   "metadata": {},
   "outputs": [],
   "source": [
    "#!pip install https://github.com/undark-lab/swyft.git"
   ]
  },
  {
   "cell_type": "code",
   "execution_count": 3,
   "id": "db1bfed8-219c-4420-bf4d-673d98a51ef2",
   "metadata": {},
   "outputs": [],
   "source": [
    "import numpy as np\n",
    "from scipy import stats\n",
    "import pylab as plt\n",
    "import torch\n",
    "import swyft"
   ]
  },
  {
   "cell_type": "markdown",
   "id": "15649024-2f24-4257-8d0e-0f326bf67884",
   "metadata": {},
   "source": [
    "## 2. Define the Simulator"
   ]
  },
  {
   "cell_type": "markdown",
   "id": "e3f6b1a8-d721-4d4f-b441-b03d1f9bf8a2",
   "metadata": {},
   "source": [
    "Next we define a simulator class, which specifies the computational graph of our simulator."
   ]
  },
  {
   "cell_type": "code",
   "execution_count": 4,
   "id": "94119669-c228-4ed1-8d8a-c1090c532a21",
   "metadata": {},
   "outputs": [
    {
     "data": {
      "application/vnd.jupyter.widget-view+json": {
       "model_id": "e1c3421ac6ef425b8810e6bfd952cd4a",
       "version_major": 2,
       "version_minor": 0
      },
      "text/plain": [
       "  0%|          | 0/10000 [00:00<?, ?it/s]"
      ]
     },
     "metadata": {},
     "output_type": "display_data"
    }
   ],
   "source": [
    "class Simulator(swyft.Simulator):\n",
    "    def __init__(self):\n",
    "        super().__init__()\n",
    "        self.transform_samples = swyft.to_numpy32\n",
    "        self.x = np.linspace(-1, 1, 10)\n",
    "         \n",
    "    def build(self, graph):\n",
    "        z = graph.node('z', lambda: np.random.rand(2)*2-1)\n",
    "        f = graph.node('f', lambda z: z[0] + z[1]*self.x, z)\n",
    "        x = graph.node('x', lambda f: f + np.random.randn(10)*0.1, f)\n",
    "        \n",
    "sim = Simulator()\n",
    "samples = sim.sample(N = 10000)"
   ]
  },
  {
   "cell_type": "markdown",
   "id": "115822b0-1872-4bdd-a0ed-7310b25da80d",
   "metadata": {},
   "source": [
    "## 3. Define the SwyftModule"
   ]
  },
  {
   "cell_type": "code",
   "execution_count": 5,
   "id": "a636462e-aa89-4996-89e1-04037cd8f43f",
   "metadata": {},
   "outputs": [],
   "source": [
    "class Network(swyft.SwyftModule):\n",
    "    def __init__(self):\n",
    "        super().__init__()\n",
    "        self.embedding = torch.nn.Linear(10, 2)\n",
    "        self.logratios1 = swyft.LogRatioEstimator_1dim(num_features = 2, num_params = 2, varnames = 'z')\n",
    "        self.logratios2 = swyft.LogRatioEstimator_Ndim(num_features = 2, marginals = ((0, 1),), varnames = 'z')\n",
    "\n",
    "    def forward(self, A, B):\n",
    "        embedding = self.embedding(A['x'])\n",
    "        logratios1 = self.logratios1(embedding, B['z'])\n",
    "        logratios2 = self.logratios2(embedding, B['z'])\n",
    "        return logratios1, logratios2"
   ]
  },
  {
   "cell_type": "markdown",
   "id": "9348cf96-3347-4698-8d89-fa6c50cd2314",
   "metadata": {},
   "source": [
    "## 4. Train the model"
   ]
  },
  {
   "cell_type": "code",
   "execution_count": 6,
   "id": "db43aac6-7bdd-4016-9f24-fbb374c5738d",
   "metadata": {},
   "outputs": [
    {
     "name": "stderr",
     "output_type": "stream",
     "text": [
      "/home/weniger/.conda/envs/lensing/lib/python3.9/site-packages/lightning_fabric/plugins/environments/slurm.py:166: PossibleUserWarning: The `srun` command is available on your system but is not used. HINT: If your intention is to run Lightning on SLURM, prepend your python command with `srun` like so: srun python /home/weniger/.conda/envs/lensing/lib/python3.9/site ...\n",
      "  rank_zero_warn(\n",
      "GPU available: True (cuda), used: True\n",
      "TPU available: False, using: 0 TPU cores\n",
      "IPU available: False, using: 0 IPUs\n",
      "HPU available: False, using: 0 HPUs\n"
     ]
    }
   ],
   "source": [
    "trainer = swyft.SwyftTrainer(accelerator = 'gpu', max_epochs = 2)"
   ]
  },
  {
   "cell_type": "code",
   "execution_count": 7,
   "id": "800f08ac-2f14-4cb7-a28f-0f7fbd10a7c0",
   "metadata": {},
   "outputs": [],
   "source": [
    "dm = swyft.SwyftDataModule(samples, fractions = [0.8, 0.1, 0.1], batch_size = 64, num_workers = 3)"
   ]
  },
  {
   "cell_type": "code",
   "execution_count": 8,
   "id": "b3ca1594-2913-4c9b-a1fc-bdd0fffa0935",
   "metadata": {},
   "outputs": [
    {
     "name": "stderr",
     "output_type": "stream",
     "text": [
      "You are using a CUDA device ('NVIDIA A100-SXM4-40GB') that has Tensor Cores. To properly utilize them, you should set `torch.set_float32_matmul_precision('medium' | 'high')` which will trade-off precision for performance. For more details, read https://pytorch.org/docs/stable/generated/torch.set_float32_matmul_precision.html#torch.set_float32_matmul_precision\n",
      "LOCAL_RANK: 0 - CUDA_VISIBLE_DEVICES: [0]\n",
      "\n",
      "  | Name       | Type                   | Params\n",
      "------------------------------------------------------\n",
      "0 | embedding  | Linear                 | 22    \n",
      "1 | logratios1 | LogRatioEstimator_1dim | 34.9 K\n",
      "2 | logratios2 | LogRatioEstimator_Ndim | 17.5 K\n",
      "------------------------------------------------------\n",
      "52.5 K    Trainable params\n",
      "0         Non-trainable params\n",
      "52.5 K    Total params\n",
      "0.210     Total estimated model params size (MB)\n"
     ]
    },
    {
     "data": {
      "application/vnd.jupyter.widget-view+json": {
       "model_id": "",
       "version_major": 2,
       "version_minor": 0
      },
      "text/plain": [
       "Sanity Checking: 0it [00:00, ?it/s]"
      ]
     },
     "metadata": {},
     "output_type": "display_data"
    },
    {
     "data": {
      "application/vnd.jupyter.widget-view+json": {
       "model_id": "45d6214218324baca55e5731c30998fd",
       "version_major": 2,
       "version_minor": 0
      },
      "text/plain": [
       "Training: 0it [00:00, ?it/s]"
      ]
     },
     "metadata": {},
     "output_type": "display_data"
    },
    {
     "data": {
      "application/vnd.jupyter.widget-view+json": {
       "model_id": "",
       "version_major": 2,
       "version_minor": 0
      },
      "text/plain": [
       "Validation: 0it [00:00, ?it/s]"
      ]
     },
     "metadata": {},
     "output_type": "display_data"
    },
    {
     "data": {
      "application/vnd.jupyter.widget-view+json": {
       "model_id": "",
       "version_major": 2,
       "version_minor": 0
      },
      "text/plain": [
       "Validation: 0it [00:00, ?it/s]"
      ]
     },
     "metadata": {},
     "output_type": "display_data"
    },
    {
     "name": "stderr",
     "output_type": "stream",
     "text": [
      "`Trainer.fit` stopped: `max_epochs=2` reached.\n"
     ]
    }
   ],
   "source": [
    "network = Network()\n",
    "trainer.fit(network, dm)"
   ]
  },
  {
   "cell_type": "markdown",
   "id": "ac47fc0b-926d-48ce-9af6-d8ac6e50003f",
   "metadata": {},
   "source": [
    "## 5. Visualize training"
   ]
  },
  {
   "cell_type": "markdown",
   "id": "6b3861d8-2655-496b-b274-f1d346e0ec73",
   "metadata": {},
   "source": [
    "N/A"
   ]
  },
  {
   "cell_type": "markdown",
   "id": "3bc33732-9b4d-434e-8684-bad8e50f56c5",
   "metadata": {},
   "source": [
    "## 6. Perform validation tests"
   ]
  },
  {
   "cell_type": "code",
   "execution_count": 9,
   "id": "6a87cd11-46fe-4234-90dc-1475925f0f80",
   "metadata": {},
   "outputs": [
    {
     "name": "stderr",
     "output_type": "stream",
     "text": [
      "You are using a CUDA device ('NVIDIA A100-SXM4-40GB') that has Tensor Cores. To properly utilize them, you should set `torch.set_float32_matmul_precision('medium' | 'high')` which will trade-off precision for performance. For more details, read https://pytorch.org/docs/stable/generated/torch.set_float32_matmul_precision.html#torch.set_float32_matmul_precision\n",
      "LOCAL_RANK: 0 - CUDA_VISIBLE_DEVICES: [0]\n"
     ]
    },
    {
     "data": {
      "application/vnd.jupyter.widget-view+json": {
       "model_id": "5241867b21aa462993f926f5358700e1",
       "version_major": 2,
       "version_minor": 0
      },
      "text/plain": [
       "Testing: 0it [00:00, ?it/s]"
      ]
     },
     "metadata": {},
     "output_type": "display_data"
    },
    {
     "name": "stdout",
     "output_type": "stream",
     "text": [
      "────────────────────────────────────────────────────────────────────────────────────────────────────────────────────────\n",
      "       Test metric             DataLoader 0\n",
      "────────────────────────────────────────────────────────────────────────────────────────────────────────────────────────\n",
      "        test_loss           -3.115851640701294\n",
      "────────────────────────────────────────────────────────────────────────────────────────────────────────────────────────\n"
     ]
    },
    {
     "data": {
      "text/plain": [
       "[{'test_loss': -3.115851640701294}]"
      ]
     },
     "execution_count": 9,
     "metadata": {},
     "output_type": "execute_result"
    }
   ],
   "source": [
    "trainer.test(network, dm)"
   ]
  },
  {
   "cell_type": "code",
   "execution_count": 10,
   "id": "482a232c-9a3b-4e02-9859-44d0f7cfe56f",
   "metadata": {},
   "outputs": [
    {
     "name": "stderr",
     "output_type": "stream",
     "text": [
      "You are using a CUDA device ('NVIDIA A100-SXM4-40GB') that has Tensor Cores. To properly utilize them, you should set `torch.set_float32_matmul_precision('medium' | 'high')` which will trade-off precision for performance. For more details, read https://pytorch.org/docs/stable/generated/torch.set_float32_matmul_precision.html#torch.set_float32_matmul_precision\n",
      "LOCAL_RANK: 0 - CUDA_VISIBLE_DEVICES: [0]\n"
     ]
    },
    {
     "name": "stdout",
     "output_type": "stream",
     "text": [
      "WARNING: This estimates the mass of highest-likelihood intervals.\n"
     ]
    },
    {
     "data": {
      "application/vnd.jupyter.widget-view+json": {
       "model_id": "0fc837bed3dd4db08c770ba4e10b82e2",
       "version_major": 2,
       "version_minor": 0
      },
      "text/plain": [
       "Predicting: 125it [00:00, ?it/s]"
      ]
     },
     "metadata": {},
     "output_type": "display_data"
    },
    {
     "name": "stderr",
     "output_type": "stream",
     "text": [
      "/home/weniger/.conda/envs/lensing/lib/python3.9/site-packages/pytorch_lightning/loops/epoch/prediction_epoch_loop.py:173: UserWarning: Lightning couldn't infer the indices fetched for your dataloader.\n",
      "  warning_cache.warn(\"Lightning couldn't infer the indices fetched for your dataloader.\")\n",
      "You are using a CUDA device ('NVIDIA A100-SXM4-40GB') that has Tensor Cores. To properly utilize them, you should set `torch.set_float32_matmul_precision('medium' | 'high')` which will trade-off precision for performance. For more details, read https://pytorch.org/docs/stable/generated/torch.set_float32_matmul_precision.html#torch.set_float32_matmul_precision\n",
      "LOCAL_RANK: 0 - CUDA_VISIBLE_DEVICES: [0]\n"
     ]
    },
    {
     "data": {
      "application/vnd.jupyter.widget-view+json": {
       "model_id": "160ec8e64f5449529f07f199659f2d0b",
       "version_major": 2,
       "version_minor": 0
      },
      "text/plain": [
       "Predicting: 125it [00:00, ?it/s]"
      ]
     },
     "metadata": {},
     "output_type": "display_data"
    }
   ],
   "source": [
    "B = samples[:1000]\n",
    "A = samples[:1000]\n",
    "mass = trainer.test_coverage(network, A, B)"
   ]
  },
  {
   "cell_type": "markdown",
   "id": "94b5923b-7aaf-40bf-be45-2dfac15ce460",
   "metadata": {},
   "source": [
    "## 7. Generate posteriors"
   ]
  },
  {
   "cell_type": "code",
   "execution_count": 11,
   "id": "efce6bf3-ccaf-4291-8976-a7efec80fdd1",
   "metadata": {},
   "outputs": [
    {
     "data": {
      "text/plain": [
       "[<matplotlib.lines.Line2D at 0x7fc899900b20>]"
      ]
     },
     "execution_count": 11,
     "metadata": {},
     "output_type": "execute_result"
    },
    {
     "data": {
      "image/png": "[encoded data removed]",
      "text/plain": [
       "<Figure size 640x480 with 1 Axes>"
      ]
     },
     "metadata": {},
     "output_type": "display_data"
    }
   ],
   "source": [
    "z0 = np.array([0.3, 0.7])\n",
    "x0 = sim.sample(conditions = {\"z\": z0})['x']\n",
    "plt.plot(x0)"
   ]
  },
  {
   "cell_type": "code",
   "execution_count": 12,
   "id": "345d094f-c144-4324-9e83-297d5b07d266",
   "metadata": {},
   "outputs": [
    {
     "data": {
      "application/vnd.jupyter.widget-view+json": {
       "model_id": "d0d6ef055c4f455b80045b7696738ec9",
       "version_major": 2,
       "version_minor": 0
      },
      "text/plain": [
       "  0%|          | 0/100000 [00:00<?, ?it/s]"
      ]
     },
     "metadata": {},
     "output_type": "display_data"
    }
   ],
   "source": [
    "prior_samples = sim.sample(targets = ['z'], N = 100000)"
   ]
  },
  {
   "cell_type": "code",
   "execution_count": 13,
   "id": "72add50d-4448-4461-84a6-89efb73e9bc7",
   "metadata": {},
   "outputs": [
    {
     "name": "stderr",
     "output_type": "stream",
     "text": [
      "You are using a CUDA device ('NVIDIA A100-SXM4-40GB') that has Tensor Cores. To properly utilize them, you should set `torch.set_float32_matmul_precision('medium' | 'high')` which will trade-off precision for performance. For more details, read https://pytorch.org/docs/stable/generated/torch.set_float32_matmul_precision.html#torch.set_float32_matmul_precision\n",
      "LOCAL_RANK: 0 - CUDA_VISIBLE_DEVICES: [0]\n"
     ]
    },
    {
     "data": {
      "application/vnd.jupyter.widget-view+json": {
       "model_id": "264562b06b17401c91a222ba490413ca",
       "version_major": 2,
       "version_minor": 0
      },
      "text/plain": [
       "Predicting: 125it [00:00, ?it/s]"
      ]
     },
     "metadata": {},
     "output_type": "display_data"
    }
   ],
   "source": [
    "predictions = trainer.infer(network, swyft.Sample(x = x0), prior_samples)"
   ]
  },
  {
   "cell_type": "code",
   "execution_count": 14,
   "id": "4fde6973-e7dd-4464-ae3c-ca34d657b3cf",
   "metadata": {},
   "outputs": [
    {
     "data": {
      "text/plain": [
       "array([['z[0]'],\n",
       "       ['z[1]']], dtype='<U4')"
      ]
     },
     "execution_count": 14,
     "metadata": {},
     "output_type": "execute_result"
    }
   ],
   "source": [
    "predictions[0].parnames"
   ]
  },
  {
   "cell_type": "code",
   "execution_count": 17,
   "id": "a073a774-abd6-42fb-b680-38eccccfb1f4",
   "metadata": {},
   "outputs": [
    {
     "data": {
      "image/png": "[encoded data removed]",
      "text/plain": [
       "<Figure size 640x480 with 1 Axes>"
      ]
     },
     "metadata": {},
     "output_type": "display_data"
    }
   ],
   "source": [
    "swyft.plot_1d(predictions, 'z[0]')"
   ]
  },
  {
   "cell_type": "code",
   "execution_count": 18,
   "id": "4515dd82-df43-4742-899c-8cb6303a65fe",
   "metadata": {},
   "outputs": [
    {
     "data": {
      "image/png": "[encoded data removed]",
      "text/plain": [
       "<Figure size 640x480 with 1 Axes>"
      ]
     },
     "metadata": {},
     "output_type": "display_data"
    }
   ],
   "source": [
    "swyft.plot_1d(predictions, 'z[1]')"
   ]
  },
  {
   "cell_type": "code",
   "execution_count": null,
   "id": "84c11ef2-6f78-4d13-aff2-e73ea09f596c",
   "metadata": {},
   "outputs": [],
   "source": []
  }
 ],
 "metadata": {
  "kernelspec": {
   "display_name": "Python 3 (ipykernel)",
   "language": "python",
   "name": "python3"
  },
  "language_info": {
   "codemirror_mode": {
    "name": "ipython",
    "version": 3
   },
   "file_extension": ".py",
   "mimetype": "text/x-python",
   "name": "python",
   "nbconvert_exporter": "python",
   "pygments_lexer": "ipython3",
   "version": "3.9.16"
  }
 },
 "nbformat": 4,
 "nbformat_minor": 5
}
